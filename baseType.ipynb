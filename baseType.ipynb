{
  "nbformat": 4,
  "nbformat_minor": 0,
  "metadata": {
    "colab": {
      "provenance": [],
      "toc_visible": true,
      "authorship_tag": "ABX9TyNTkwOOJZUac5IEuv4SKIsJ",
      "include_colab_link": true
    },
    "kernelspec": {
      "name": "python3",
      "display_name": "Python 3"
    },
    "language_info": {
      "name": "python"
    }
  },
  "cells": [
    {
      "cell_type": "markdown",
      "metadata": {
        "id": "view-in-github",
        "colab_type": "text"
      },
      "source": [
        "<a href=\"https://colab.research.google.com/github/yoobyoungcheol/pythonstudy24/blob/master/baseType.ipynb\" target=\"_parent\"><img src=\"https://colab.research.google.com/assets/colab-badge.svg\" alt=\"Open In Colab\"/></a>"
      ]
    },
    {
      "cell_type": "markdown",
      "source": [
        "Python 프로그래밍 기초자료형\n",
        "\n",
        "1. 숫자형  \n",
        "2. 문자열\n",
        "3. 리스트\n",
        "4. 튜플\n",
        "5. 딕셔너리\n",
        "6. 집합\n",
        "7. 불"
      ],
      "metadata": {
        "id": "zh-8QNtRVDK7"
      }
    },
    {
      "cell_type": "code",
      "execution_count": 3,
      "metadata": {
        "colab": {
          "base_uri": "https://localhost:8080/"
        },
        "id": "EaLysX6STNQH",
        "outputId": "6ceb051f-0a7f-4f4c-feb3-9de248228917"
      },
      "outputs": [
        {
          "output_type": "stream",
          "name": "stdout",
          "text": [
            "127\n",
            "2303\n"
          ]
        }
      ],
      "source": [
        "# 숫자형은 정수형 실수형 진수형이 있다.\n",
        "\n",
        "#정수형 integer 양의정수와 음의정수 숫자0을 변수에 대입\n",
        "\n",
        "a = 123   # 양의 정수\n",
        "b = -123  # 음의 정수\n",
        "c = 0     # 숫자 0\n",
        "\n",
        "# 실수형은 플러팅 포인트 숫자형이 포함된 숫자\n",
        "\n",
        "d = 1.2\n",
        "e = -3.2\n",
        "\n",
        "# 지수 표현방법 : 많은 수치를 짧게 표현하기 위해 사용함\n",
        "\n",
        "f = 4.24E10    # 4.24 * 10^10\n",
        "g = 4.24e-10   # 4.24 * 10^-10\n",
        "\n",
        "# 진수 표현방법 : 리눅스 8진수  cpu 16진수\n",
        "# 8진수 (옥타 : pctal) -> 숫자0에 알파벳 o (대소문자가능)\n",
        "\n",
        "h = 0o177   # 177  8진수\n",
        "print(h)    # 127  10진수\n",
        "\n",
        "# 16진수 (헥사 : hexadecimal) -> 숫자 0에 알파벳 s (대소문자가능)\n",
        "\n",
        "i = 0x8ff   # 8ff 16진수\n",
        "print(i)    # 2303 10진수"
      ]
    },
    {
      "cell_type": "markdown",
      "source": [
        "숫자형을 활용하기 위한 연산자들\n",
        "\n",
        "1. 사칙연산 : +,-,*,/\n",
        "2. 우선순위 : 괄호 -> *,/ -> 앞쪽."
      ],
      "metadata": {
        "id": "IqShfKr7dLnZ"
      }
    },
    {
      "cell_type": "code",
      "source": [
        "a = 3\n",
        "b = 4\n",
        "a + b"
      ],
      "metadata": {
        "colab": {
          "base_uri": "https://localhost:8080/"
        },
        "id": "sxaCHQF_cLsS",
        "outputId": "005de70a-8c03-4da1-e016-c3da82b8bc38"
      },
      "execution_count": 4,
      "outputs": [
        {
          "output_type": "execute_result",
          "data": {
            "text/plain": [
              "7"
            ]
          },
          "metadata": {},
          "execution_count": 4
        }
      ]
    },
    {
      "cell_type": "code",
      "source": [
        "a-b"
      ],
      "metadata": {
        "colab": {
          "base_uri": "https://localhost:8080/"
        },
        "id": "VWFzbIVfd5TM",
        "outputId": "329d8d65-4e73-48e1-91f9-8e44f79d38b3"
      },
      "execution_count": 5,
      "outputs": [
        {
          "output_type": "execute_result",
          "data": {
            "text/plain": [
              "-1"
            ]
          },
          "metadata": {},
          "execution_count": 5
        }
      ]
    },
    {
      "cell_type": "code",
      "source": [
        "a*b"
      ],
      "metadata": {
        "colab": {
          "base_uri": "https://localhost:8080/"
        },
        "id": "TsCNiYZ5eBvJ",
        "outputId": "a84341ac-190c-41eb-cb04-109ba3b63f9f"
      },
      "execution_count": 6,
      "outputs": [
        {
          "output_type": "execute_result",
          "data": {
            "text/plain": [
              "12"
            ]
          },
          "metadata": {},
          "execution_count": 6
        }
      ]
    },
    {
      "cell_type": "code",
      "source": [
        "a/b"
      ],
      "metadata": {
        "colab": {
          "base_uri": "https://localhost:8080/"
        },
        "id": "HL-7ae0beTox",
        "outputId": "785a1701-5fa0-45d7-f693-6d2ed92f5ab3"
      },
      "execution_count": 7,
      "outputs": [
        {
          "output_type": "execute_result",
          "data": {
            "text/plain": [
              "0.75"
            ]
          },
          "metadata": {},
          "execution_count": 7
        }
      ]
    },
    {
      "cell_type": "code",
      "source": [
        "# 제곱처리\n",
        "a**b"
      ],
      "metadata": {
        "colab": {
          "base_uri": "https://localhost:8080/"
        },
        "id": "wIicnY4neVU4",
        "outputId": "837edbc8-92e2-411f-eb62-20bf7ecf0976"
      },
      "execution_count": 9,
      "outputs": [
        {
          "output_type": "execute_result",
          "data": {
            "text/plain": [
              "81"
            ]
          },
          "metadata": {},
          "execution_count": 9
        }
      ]
    },
    {
      "cell_type": "code",
      "source": [
        "3*3*3*3"
      ],
      "metadata": {
        "colab": {
          "base_uri": "https://localhost:8080/"
        },
        "id": "unIX9bFHefhK",
        "outputId": "2981f264-68c8-4df1-e00a-a16829f4e8aa"
      },
      "execution_count": 10,
      "outputs": [
        {
          "output_type": "execute_result",
          "data": {
            "text/plain": [
              "81"
            ]
          },
          "metadata": {},
          "execution_count": 10
        }
      ]
    },
    {
      "cell_type": "code",
      "source": [
        "# 나머지 처리하는 방법\n",
        "7%3"
      ],
      "metadata": {
        "colab": {
          "base_uri": "https://localhost:8080/"
        },
        "id": "ltGPkVXyel6o",
        "outputId": "361281c0-8201-4530-d5bb-a853fa644aa8"
      },
      "execution_count": 11,
      "outputs": [
        {
          "output_type": "execute_result",
          "data": {
            "text/plain": [
              "1"
            ]
          },
          "metadata": {},
          "execution_count": 11
        }
      ]
    },
    {
      "cell_type": "code",
      "source": [
        "# 나눗셈 후 몫을 리턴하는 연산자 : //\n",
        "7/4"
      ],
      "metadata": {
        "colab": {
          "base_uri": "https://localhost:8080/"
        },
        "id": "hG39W4T5fUvQ",
        "outputId": "081c0894-26f6-4e3e-a5fd-4757a77c0495"
      },
      "execution_count": 15,
      "outputs": [
        {
          "output_type": "execute_result",
          "data": {
            "text/plain": [
              "1.75"
            ]
          },
          "metadata": {},
          "execution_count": 15
        }
      ]
    },
    {
      "cell_type": "code",
      "source": [
        "7//4"
      ],
      "metadata": {
        "colab": {
          "base_uri": "https://localhost:8080/"
        },
        "id": "PbVsuEQif8ZI",
        "outputId": "5f65b3b2-f516-40c3-8dd3-02e8b911dd87"
      },
      "execution_count": 14,
      "outputs": [
        {
          "output_type": "execute_result",
          "data": {
            "text/plain": [
              "1"
            ]
          },
          "metadata": {},
          "execution_count": 14
        }
      ]
    },
    {
      "cell_type": "code",
      "source": [
        "# 복합 연산자 ,+= ,-= ,*=, /= , //=, %=, **=\n",
        "\n",
        "a = 1\n",
        "a = a + 1\n",
        "print(a)\n",
        "\n",
        "a += 1    # a = a+1\n",
        "print(a)\n",
        "\n",
        "a = a - 1\n",
        "print(a)\n",
        "\n",
        "a -= 1   # a = a-1\n",
        "print(a)"
      ],
      "metadata": {
        "colab": {
          "base_uri": "https://localhost:8080/"
        },
        "id": "ReD2zFSsgBEY",
        "outputId": "a2c484d7-3c25-4493-c56f-3961833cb948"
      },
      "execution_count": 16,
      "outputs": [
        {
          "output_type": "stream",
          "name": "stdout",
          "text": [
            "2\n",
            "3\n",
            "2\n",
            "1\n"
          ]
        }
      ]
    },
    {
      "cell_type": "code",
      "source": [
        "# 문자열 자료형 (string) 연속된 문자들의 나열 \"\" (큰따움표)\n",
        "\n",
        "# 큰따움표\n",
        "\"hello world\"\n",
        "\n",
        "# 작은따움표\n",
        "'hello world'\n",
        "\n",
        "# 큰따움표 3개를 연속으로 써서 가두는 방식 (줄바꿈 기능 가능)\n",
        "\"\"\"\n",
        "hello world\n",
        "\"\"\"\n",
        "# 작은따움표 3개를 연속으로 써서 가두는 방식 (줄바꿈 기능 가능)\n",
        "'''\n",
        "hello world\n",
        "'''\n",
        "#food = 'Python's favorite food is perl'  오류 발생\n",
        "\n",
        "# File \"<ipython-input-18-165ba83e67a9>\", line 17\n",
        "#    food = 'Python's favorite food is perl'\n",
        "#                                          ^\n",
        "#SyntaxError: unterminated string literal (detected at line 17)\n",
        "\n",
        "\n",
        "food = \"Python's favorite food is perl\"\n",
        "food"
      ],
      "metadata": {
        "colab": {
          "base_uri": "https://localhost:8080/",
          "height": 35
        },
        "id": "rviGJwMUgw_Y",
        "outputId": "5db5ffc4-f337-49c5-e407-f4d43ef64ad1"
      },
      "execution_count": 20,
      "outputs": [
        {
          "output_type": "execute_result",
          "data": {
            "text/plain": [
              "\"Python's favorite food is perl\""
            ],
            "application/vnd.google.colaboratory.intrinsic+json": {
              "type": "string"
            }
          },
          "metadata": {},
          "execution_count": 20
        }
      ]
    },
    {
      "cell_type": "code",
      "source": [
        "# 만약 문자열 출력에 큰따움표를 보여주고 싶을 때\n",
        "\n",
        "say = '\"Python is very easy\" he says.'\n",
        "say"
      ],
      "metadata": {
        "colab": {
          "base_uri": "https://localhost:8080/",
          "height": 35
        },
        "id": "KP8Sysq1igZw",
        "outputId": "74bf5b6c-d5e7-4df8-f698-1a937f31ae39"
      },
      "execution_count": 21,
      "outputs": [
        {
          "output_type": "execute_result",
          "data": {
            "text/plain": [
              "'\"Python is very easy\" he says.'"
            ],
            "application/vnd.google.colaboratory.intrinsic+json": {
              "type": "string"
            }
          },
          "metadata": {},
          "execution_count": 21
        }
      ]
    },
    {
      "cell_type": "code",
      "source": [
        "# 이스케이프문자 활용하기 \\n \\t \\r \\\\ 등 .....   (\\ 역슬레시 활용)\n",
        "\n",
        "food = 'Python\\'s favorite food is perl'\n",
        "say = \"\\\"Python is very easy.\\\" he says.\"\n",
        "print(food)\n",
        "print(say)"
      ],
      "metadata": {
        "colab": {
          "base_uri": "https://localhost:8080/"
        },
        "id": "LSoT9l-pjrbw",
        "outputId": "b5233d63-322d-4c48-af63-65ac49b124fc"
      },
      "execution_count": 22,
      "outputs": [
        {
          "output_type": "stream",
          "name": "stdout",
          "text": [
            "Python's favorite food is perl\n",
            "\"Python is very easy.\" he says.\n"
          ]
        }
      ]
    },
    {
      "cell_type": "code",
      "source": [
        "# 여러줄로 출력 \\n 엔터효과\n",
        "multiline = \"Life is too short\\n You need python\"\n",
        "print(multiline)"
      ],
      "metadata": {
        "colab": {
          "base_uri": "https://localhost:8080/"
        },
        "id": "oVbr8PSmkIgw",
        "outputId": "7a6ecfaf-c450-4427-91eb-3007b7836131"
      },
      "execution_count": 24,
      "outputs": [
        {
          "output_type": "stream",
          "name": "stdout",
          "text": [
            "Life is too short\n",
            " You need python\n"
          ]
        }
      ]
    },
    {
      "cell_type": "code",
      "source": [
        "# 여러줄 츨력이 가능한 '''   '''\n",
        "multline = '''\n",
        "Life is too short\n",
        " You need python\n",
        "'''\n",
        "print(multline)"
      ],
      "metadata": {
        "colab": {
          "base_uri": "https://localhost:8080/"
        },
        "id": "XW6ylqLXo-_Z",
        "outputId": "16892f5e-7b99-4340-8ed0-1a8b183803f1"
      },
      "execution_count": 26,
      "outputs": [
        {
          "output_type": "stream",
          "name": "stdout",
          "text": [
            "\n",
            "Life is too short\n",
            " You need python\n",
            "\n"
          ]
        }
      ]
    },
    {
      "cell_type": "code",
      "source": [
        "# 여러줄 츨력이 가능한 \"\"\"  \"\"\"\n",
        "multline = \"\"\"\n",
        "Life is too short\n",
        " You need python\n",
        "\"\"\"\n",
        "print(multline)"
      ],
      "metadata": {
        "colab": {
          "base_uri": "https://localhost:8080/"
        },
        "id": "0nmv9M79ndlJ",
        "outputId": "e0ec8aea-838c-49ba-bd39-712f6f9bfa9d"
      },
      "execution_count": 27,
      "outputs": [
        {
          "output_type": "stream",
          "name": "stdout",
          "text": [
            "\n",
            "Life is too short\n",
            " You need python\n",
            "\n"
          ]
        }
      ]
    },
    {
      "cell_type": "markdown",
      "source": [
        "이스케이프 코드 종류\n",
        "\n",
        "1. \\n 문자열 안에서 줄바꿈\n",
        "2. \\t 문자열 안에서 탭간격만큼 너비를줌\n",
        "3. \\\\ \\출력\n",
        "4. \\\\' '출력\n",
        "5. \\\\\" \"출력\n",
        "6. \\r 케리지 리턴(과거의 타자기 효과 : 커서를 현재줄 맨앞으로 당겨준다)\n",
        "7. \\f 둠피드 (줄바꿈 문자 커서를 현재줄의 다음줄로 이동)\n",
        "8. \\a 밸소리(출력할때 삐소리가남 )\n",
        "9. \\b 백스페이스\n",
        "10. \\000 널문자"
      ],
      "metadata": {
        "id": "siQTl8EBpTNv"
      }
    },
    {
      "cell_type": "code",
      "source": [
        "# 문자열 연산자 (문자열을 더하거나 곱할수 있음)\n",
        "\n",
        "head = \"Python\"\n",
        "tail = \" is fun!!\"\n",
        "head + tail"
      ],
      "metadata": {
        "colab": {
          "base_uri": "https://localhost:8080/",
          "height": 35
        },
        "id": "Rk0uhyvjolA_",
        "outputId": "80b9d841-5755-453c-a17f-3c7e1679cadd"
      },
      "execution_count": 28,
      "outputs": [
        {
          "output_type": "execute_result",
          "data": {
            "text/plain": [
              "'Python is fun!!'"
            ],
            "application/vnd.google.colaboratory.intrinsic+json": {
              "type": "string"
            }
          },
          "metadata": {},
          "execution_count": 28
        }
      ]
    },
    {
      "cell_type": "code",
      "source": [
        "body = \"Python \"\n",
        "body*5"
      ],
      "metadata": {
        "colab": {
          "base_uri": "https://localhost:8080/",
          "height": 35
        },
        "id": "98AdMUXZrXk_",
        "outputId": "1f54a004-df29-4ed8-b5a1-e82983251433"
      },
      "execution_count": 30,
      "outputs": [
        {
          "output_type": "execute_result",
          "data": {
            "text/plain": [
              "'Python Python Python Python Python '"
            ],
            "application/vnd.google.colaboratory.intrinsic+json": {
              "type": "string"
            }
          },
          "metadata": {},
          "execution_count": 30
        }
      ]
    },
    {
      "cell_type": "code",
      "source": [
        "print(\"=\" * 50)\n",
        "print(\"welcome to Pthon word\")\n",
        "print(\"=\" * 50)"
      ],
      "metadata": {
        "colab": {
          "base_uri": "https://localhost:8080/"
        },
        "id": "ByzuIRUkri-v",
        "outputId": "66b8d98d-8614-43ad-bced-2c4676d8afdc"
      },
      "execution_count": 55,
      "outputs": [
        {
          "output_type": "stream",
          "name": "stdout",
          "text": [
            "==================================================\n",
            "welcome to Pthon word\n",
            "==================================================\n"
          ]
        }
      ]
    },
    {
      "cell_type": "code",
      "source": [
        "# 문자열의 길이를 구함\n",
        "a = \"life is too short\"\n",
        "len(a)"
      ],
      "metadata": {
        "colab": {
          "base_uri": "https://localhost:8080/"
        },
        "id": "LelvJIR4r_F2",
        "outputId": "545c97ac-c893-46a4-f139-e3890123952e"
      },
      "execution_count": 33,
      "outputs": [
        {
          "output_type": "execute_result",
          "data": {
            "text/plain": [
              "17"
            ]
          },
          "metadata": {},
          "execution_count": 33
        }
      ]
    },
    {
      "cell_type": "code",
      "source": [
        "# 문자열 인덱싱 슬라이싱\n",
        "# 문자열은 문자를 배열로 만들어놈 (0번 인덱스 부터 적용됨)\n",
        "\n",
        "a = \"life is too short.You need Python\"\n",
        "#    0              16               32\n",
        "#   -33             -16               -1\n",
        "a[32]"
      ],
      "metadata": {
        "colab": {
          "base_uri": "https://localhost:8080/",
          "height": 35
        },
        "id": "FCBzLcWysaQH",
        "outputId": "1b3f969d-833a-46f8-f01b-92dfe5cc0a19"
      },
      "execution_count": 39,
      "outputs": [
        {
          "output_type": "execute_result",
          "data": {
            "text/plain": [
              "'n'"
            ],
            "application/vnd.google.colaboratory.intrinsic+json": {
              "type": "string"
            }
          },
          "metadata": {},
          "execution_count": 39
        }
      ]
    },
    {
      "cell_type": "code",
      "source": [
        "a[-1]   # - 는 문자열을 뒤에서 부터 읽어들이게함"
      ],
      "metadata": {
        "colab": {
          "base_uri": "https://localhost:8080/",
          "height": 35
        },
        "id": "93doh0eXtcMp",
        "outputId": "f56438c3-7ddd-4983-ed63-458ad7aeed64"
      },
      "execution_count": 40,
      "outputs": [
        {
          "output_type": "execute_result",
          "data": {
            "text/plain": [
              "'n'"
            ],
            "application/vnd.google.colaboratory.intrinsic+json": {
              "type": "string"
            }
          },
          "metadata": {},
          "execution_count": 40
        }
      ]
    },
    {
      "cell_type": "code",
      "source": [
        "# 문자열 추출하기\n",
        "\n",
        "# b = a[0]+a[1]+a[2]+a[3]  비효율적인 방식\n",
        "\n",
        "#슬라이싱 기법\n",
        "b = a[0:4]      # 효율적인 방식 앞에 숫자부터 뒤에숫자전까지  ex(0<= 값 <4)\n",
        "# 앞이나 뒤 또는 둘다 생략가능    ex( a[10:] 끝까지 , a[:10]처음부터 , a[10:15] 중간값, a[:] 전부다)\n",
        "b"
      ],
      "metadata": {
        "colab": {
          "base_uri": "https://localhost:8080/",
          "height": 35
        },
        "id": "0ZtU6gEttzJf",
        "outputId": "7d5fd5e8-8c1b-439a-a250-2dc348f16f81"
      },
      "execution_count": 49,
      "outputs": [
        {
          "output_type": "execute_result",
          "data": {
            "text/plain": [
              "'life'"
            ],
            "application/vnd.google.colaboratory.intrinsic+json": {
              "type": "string"
            }
          },
          "metadata": {},
          "execution_count": 49
        }
      ]
    },
    {
      "cell_type": "code",
      "source": [
        "# 슬라이싱 활용해보기\n",
        "\n",
        "a = \"20010331Rainy\"\n",
        "date = a[:8]\n",
        "year = a[:4]\n",
        "day = a[4:8]\n",
        "weather = a[8:]\n",
        "print(year)\n",
        "print(date)\n",
        "print(day)\n",
        "print(weather)"
      ],
      "metadata": {
        "colab": {
          "base_uri": "https://localhost:8080/"
        },
        "id": "ASOVgOqGvb6W",
        "outputId": "e3c8fd33-78b0-4558-8e71-6da984797314"
      },
      "execution_count": 53,
      "outputs": [
        {
          "output_type": "stream",
          "name": "stdout",
          "text": [
            "2001\n",
            "20010331\n",
            "0331\n",
            "Rainy\n"
          ]
        }
      ]
    },
    {
      "cell_type": "code",
      "source": [
        "type(year)"
      ],
      "metadata": {
        "colab": {
          "base_uri": "https://localhost:8080/"
        },
        "id": "5v1-_O7Xww1O",
        "outputId": "17a2ac10-488a-4ccd-c3d8-ac016d96d7ed"
      },
      "execution_count": 54,
      "outputs": [
        {
          "output_type": "execute_result",
          "data": {
            "text/plain": [
              "str"
            ]
          },
          "metadata": {},
          "execution_count": 54
        }
      ]
    },
    {
      "cell_type": "code",
      "source": [
        "# 만약에 Pithon 이라는 문자열을 만들었는데 Python으로 교체가 될까?\n",
        "\n",
        "a = \"Pithon\"\n",
        "a[1] = y"
      ],
      "metadata": {
        "colab": {
          "base_uri": "https://localhost:8080/",
          "height": 183
        },
        "id": "zy2XI6bOxllN",
        "outputId": "7332c262-7878-4335-816f-1fc89ad0a159"
      },
      "execution_count": 56,
      "outputs": [
        {
          "output_type": "error",
          "ename": "NameError",
          "evalue": "name 'y' is not defined",
          "traceback": [
            "\u001b[0;31m---------------------------------------------------------------------------\u001b[0m",
            "\u001b[0;31mNameError\u001b[0m                                 Traceback (most recent call last)",
            "\u001b[0;32m<ipython-input-56-c9beae6b0369>\u001b[0m in \u001b[0;36m<cell line: 4>\u001b[0;34m()\u001b[0m\n\u001b[1;32m      2\u001b[0m \u001b[0;34m\u001b[0m\u001b[0m\n\u001b[1;32m      3\u001b[0m \u001b[0ma\u001b[0m \u001b[0;34m=\u001b[0m \u001b[0;34m\"Pithon\"\u001b[0m\u001b[0;34m\u001b[0m\u001b[0;34m\u001b[0m\u001b[0m\n\u001b[0;32m----> 4\u001b[0;31m \u001b[0ma\u001b[0m\u001b[0;34m[\u001b[0m\u001b[0;36m1\u001b[0m\u001b[0;34m]\u001b[0m \u001b[0;34m=\u001b[0m \u001b[0my\u001b[0m\u001b[0;34m\u001b[0m\u001b[0;34m\u001b[0m\u001b[0m\n\u001b[0m",
            "\u001b[0;31mNameError\u001b[0m: name 'y' is not defined"
          ]
        }
      ]
    },
    {
      "cell_type": "code",
      "source": [
        "b = \"Pithon\"\n",
        "c = a[:1] + 'y' + a[2:]\n",
        "c # 결론 스트링 타입은 수정이 불가하다 -> 메서드를 활용하던지 쪼개서 붙이던지 해야한다."
      ],
      "metadata": {
        "colab": {
          "base_uri": "https://localhost:8080/",
          "height": 35
        },
        "id": "vK3U8opT097t",
        "outputId": "97ad6b0a-c7c6-4980-9ba1-da3a2e0c331d"
      },
      "execution_count": 58,
      "outputs": [
        {
          "output_type": "execute_result",
          "data": {
            "text/plain": [
              "'Python'"
            ],
            "application/vnd.google.colaboratory.intrinsic+json": {
              "type": "string"
            }
          },
          "metadata": {},
          "execution_count": 58
        }
      ]
    },
    {
      "cell_type": "markdown",
      "source": [
        "포멧팅 코드\n",
        "\n",
        "1. %d 는 숫자형 (integer)\n",
        "2. %s 는 문자열 (string)ex(문자열을 넣어주는 것이므로 마지막에 쌍따움표 처리를 해야한다)\n",
        "3. %o 는 8진수\n",
        "4. %x 는 16진수\n",
        "5. %c 는 한개의 문자 (character)\n",
        "6. %f 는 실수 (부동 소수점 )\n",
        "7. 2개이상 넣어줄때는 괄호안에 쉼표로 넣어준다.  ex(순서와 타입 요주의)"
      ],
      "metadata": {
        "id": "9X7bRfDD22Rd"
      }
    },
    {
      "cell_type": "code",
      "source": [
        "# 문자열 포멧팅 -> 자바에서 printf 와 같은 기능\n",
        "# 포멧팅은 동적 출력을 위한 기능으로 \"\"안에 정수나 문자열등을 추가할때 활용한다.\n",
        "\"i eat %d apples.\" %3\n",
        "# %d 는 포멧팅 코드\n",
        "# 마지막에 있는 % 는 동적 값을 삽입한다"
      ],
      "metadata": {
        "colab": {
          "base_uri": "https://localhost:8080/",
          "height": 35
        },
        "id": "FZZ0ki6N1Yc1",
        "outputId": "a6f79d06-f0c0-4937-c053-c7e2ddb03bae"
      },
      "execution_count": 59,
      "outputs": [
        {
          "output_type": "execute_result",
          "data": {
            "text/plain": [
              "'i eat 3 apples.'"
            ],
            "application/vnd.google.colaboratory.intrinsic+json": {
              "type": "string"
            }
          },
          "metadata": {},
          "execution_count": 59
        }
      ]
    },
    {
      "cell_type": "code",
      "source": [
        "\"i eat %s apples.\" %\"five\""
      ],
      "metadata": {
        "colab": {
          "base_uri": "https://localhost:8080/",
          "height": 35
        },
        "id": "TyzqxlYX2F39",
        "outputId": "52edc03d-76c9-429b-a9a0-33f0eb9f8160"
      },
      "execution_count": 60,
      "outputs": [
        {
          "output_type": "execute_result",
          "data": {
            "text/plain": [
              "'i eat five apples.'"
            ],
            "application/vnd.google.colaboratory.intrinsic+json": {
              "type": "string"
            }
          },
          "metadata": {},
          "execution_count": 60
        }
      ]
    },
    {
      "cell_type": "code",
      "source": [
        "number = 3\n",
        "\"i eat %d apples.\" %number"
      ],
      "metadata": {
        "colab": {
          "base_uri": "https://localhost:8080/",
          "height": 35
        },
        "id": "HFWPu0oc20KF",
        "outputId": "2a3dd4e9-d1b5-4259-b1af-253abba920d4"
      },
      "execution_count": 61,
      "outputs": [
        {
          "output_type": "execute_result",
          "data": {
            "text/plain": [
              "'i eat 3 apples.'"
            ],
            "application/vnd.google.colaboratory.intrinsic+json": {
              "type": "string"
            }
          },
          "metadata": {},
          "execution_count": 61
        }
      ]
    },
    {
      "cell_type": "code",
      "source": [
        "number = 10\n",
        "day = \"three\"\n",
        "\"i eat %d apples. so i was sick for %s days \" %(number,day)"
      ],
      "metadata": {
        "colab": {
          "base_uri": "https://localhost:8080/",
          "height": 35
        },
        "id": "tPYyRaND3Y3t",
        "outputId": "a0e2e331-97f4-4c5d-8ae3-b4db223b0f37"
      },
      "execution_count": 62,
      "outputs": [
        {
          "output_type": "execute_result",
          "data": {
            "text/plain": [
              "'i eat 10 apples. so i was sick for three days '"
            ],
            "application/vnd.google.colaboratory.intrinsic+json": {
              "type": "string"
            }
          },
          "metadata": {},
          "execution_count": 62
        }
      ]
    },
    {
      "cell_type": "markdown",
      "source": [
        "파이썬의 장점\n",
        "\n",
        "1. 자동타입변환 ex(\"i have %s apples\" %3  %s 는 정수나 실수를 자동타입으로 변환해 준다.)"
      ],
      "metadata": {
        "id": "IKIHnjVj5Jf9"
      }
    },
    {
      "cell_type": "code",
      "source": [
        "# 파이썬의 장점\n",
        "\"i have %s apples\" %3"
      ],
      "metadata": {
        "colab": {
          "base_uri": "https://localhost:8080/",
          "height": 35
        },
        "id": "Xe85mzGk32ud",
        "outputId": "f8de72e3-1cb3-412f-ea89-80caa5b86ac3"
      },
      "execution_count": 63,
      "outputs": [
        {
          "output_type": "execute_result",
          "data": {
            "text/plain": [
              "'i have 3 apples'"
            ],
            "application/vnd.google.colaboratory.intrinsic+json": {
              "type": "string"
            }
          },
          "metadata": {},
          "execution_count": 63
        }
      ]
    },
    {
      "cell_type": "code",
      "source": [
        "# 문자열 안에 %를 넣고 싶을때 -> \"Error is 98%\"\n",
        "# 확률로 표기하고 싶을떄 % 는 %%로 써야 문자로 표기 된다\n",
        "\"Error is %d%\" % 98"
      ],
      "metadata": {
        "colab": {
          "base_uri": "https://localhost:8080/",
          "height": 165
        },
        "id": "o4eY9lVc5H5s",
        "outputId": "3df6957a-ee2c-4094-db99-8a257a420474"
      },
      "execution_count": 70,
      "outputs": [
        {
          "output_type": "error",
          "ename": "ValueError",
          "evalue": "incomplete format",
          "traceback": [
            "\u001b[0;31m---------------------------------------------------------------------------\u001b[0m",
            "\u001b[0;31mValueError\u001b[0m                                Traceback (most recent call last)",
            "\u001b[0;32m<ipython-input-70-f4adccd4a2ba>\u001b[0m in \u001b[0;36m<cell line: 2>\u001b[0;34m()\u001b[0m\n\u001b[1;32m      1\u001b[0m \u001b[0;31m# 문자열 안에 %를 넣고 싶을때 -> \"Error is 98%\"\u001b[0m\u001b[0;34m\u001b[0m\u001b[0;34m\u001b[0m\u001b[0m\n\u001b[0;32m----> 2\u001b[0;31m \u001b[0;34m\"Error is %d%\"\u001b[0m \u001b[0;34m%\u001b[0m \u001b[0;36m98\u001b[0m\u001b[0;34m\u001b[0m\u001b[0;34m\u001b[0m\u001b[0m\n\u001b[0m",
            "\u001b[0;31mValueError\u001b[0m: incomplete format"
          ]
        }
      ]
    },
    {
      "cell_type": "code",
      "source": [
        "\"Error is %d%%\" % 98"
      ],
      "metadata": {
        "colab": {
          "base_uri": "https://localhost:8080/",
          "height": 35
        },
        "id": "pDyQDW6M5ruN",
        "outputId": "5ec80c33-defc-45b0-a69a-49cd310c87c6"
      },
      "execution_count": 71,
      "outputs": [
        {
          "output_type": "execute_result",
          "data": {
            "text/plain": [
              "'Error is 98%'"
            ],
            "application/vnd.google.colaboratory.intrinsic+json": {
              "type": "string"
            }
          },
          "metadata": {},
          "execution_count": 71
        }
      ]
    },
    {
      "cell_type": "code",
      "source": [
        "# 포멧팅 숫자 처리 (문자는 기본적으로 윈쪽 정렬 하고 숫자는 오른쪽 정렬)★\n",
        "\n",
        "\"%10s\" % \"hi\"    # 양수는 오른쪽 정렬"
      ],
      "metadata": {
        "colab": {
          "base_uri": "https://localhost:8080/",
          "height": 35
        },
        "id": "nyZkb4sQ6ORE",
        "outputId": "2b75a801-23a8-4768-c88c-4b686a3334e5"
      },
      "execution_count": 72,
      "outputs": [
        {
          "output_type": "execute_result",
          "data": {
            "text/plain": [
              "'        hi'"
            ],
            "application/vnd.google.colaboratory.intrinsic+json": {
              "type": "string"
            }
          },
          "metadata": {},
          "execution_count": 72
        }
      ]
    },
    {
      "cell_type": "code",
      "source": [
        "\"%-10s MBC AI\" % \"hi\"   # 음수는 윈쪽 정렬"
      ],
      "metadata": {
        "colab": {
          "base_uri": "https://localhost:8080/",
          "height": 35
        },
        "id": "zTt_9fwu69-s",
        "outputId": "8ace002c-220a-4df0-f1ff-b2616e87588d"
      },
      "execution_count": 82,
      "outputs": [
        {
          "output_type": "execute_result",
          "data": {
            "text/plain": [
              "'hello word!!! MBC AI'"
            ],
            "application/vnd.google.colaboratory.intrinsic+json": {
              "type": "string"
            }
          },
          "metadata": {},
          "execution_count": 82
        }
      ]
    },
    {
      "cell_type": "code",
      "source": [
        "\"\"\"\n",
        "%10s\n",
        "%10s\n",
        "%10s\n",
        "\"\"\" %(\"apple\",\"hi\",\"hello\")"
      ],
      "metadata": {
        "colab": {
          "base_uri": "https://localhost:8080/",
          "height": 35
        },
        "id": "d-uxc2uN7cvU",
        "outputId": "561d7833-945c-4163-f2f9-ee212476d7e7"
      },
      "execution_count": 76,
      "outputs": [
        {
          "output_type": "execute_result",
          "data": {
            "text/plain": [
              "'\\n     apple\\n        hi\\n     hello\\n'"
            ],
            "application/vnd.google.colaboratory.intrinsic+json": {
              "type": "string"
            }
          },
          "metadata": {},
          "execution_count": 76
        }
      ]
    },
    {
      "cell_type": "code",
      "source": [
        "# 소수점 포멧팅\n",
        "\"%0.4f\" % 3.141592\n",
        "# 0.4는 소수점 4자리까지 출력하나 5번째에서 반올림하여 보여줌\n",
        "# ex(\"%.4f\" % 3.141512) 는 버림"
      ],
      "metadata": {
        "colab": {
          "base_uri": "https://localhost:8080/",
          "height": 35
        },
        "id": "KcgF6p9K7oVU",
        "outputId": "c3fe6ae4-a838-499a-9fe7-04f9ff9f4e2c"
      },
      "execution_count": 78,
      "outputs": [
        {
          "output_type": "execute_result",
          "data": {
            "text/plain": [
              "'3.1416'"
            ],
            "application/vnd.google.colaboratory.intrinsic+json": {
              "type": "string"
            }
          },
          "metadata": {},
          "execution_count": 78
        }
      ]
    },
    {
      "cell_type": "code",
      "source": [
        "\"%10.4f\" % 12345642158793.141512\n",
        "# 정수쪽 10은 기본자리수를 표기하긴 했지만 오버해도 알아서 자리를 늘려준다"
      ],
      "metadata": {
        "colab": {
          "base_uri": "https://localhost:8080/",
          "height": 35
        },
        "id": "QgaMiB8-8JHE",
        "outputId": "8ad7ba2a-885a-4c63-d4e1-d0ee32e06e2d"
      },
      "execution_count": 81,
      "outputs": [
        {
          "output_type": "execute_result",
          "data": {
            "text/plain": [
              "'12345642158793.1406'"
            ],
            "application/vnd.google.colaboratory.intrinsic+json": {
              "type": "string"
            }
          },
          "metadata": {},
          "execution_count": 81
        }
      ]
    },
    {
      "cell_type": "code",
      "source": [
        "# 포맷팅의 가독성을 높이기 위해서 .format()을 만들어 놓았다\n",
        "\"i eat (0) apples\".format(3)"
      ],
      "metadata": {
        "colab": {
          "base_uri": "https://localhost:8080/",
          "height": 35
        },
        "id": "VFnppHHW8d68",
        "outputId": "f905abf8-dc4f-422f-fb81-dfdf41d12a37"
      },
      "execution_count": 93,
      "outputs": [
        {
          "output_type": "execute_result",
          "data": {
            "text/plain": [
              "'i eat (0) apples'"
            ],
            "application/vnd.google.colaboratory.intrinsic+json": {
              "type": "string"
            }
          },
          "metadata": {},
          "execution_count": 93
        }
      ]
    },
    {
      "cell_type": "code",
      "source": [
        "\"i eat {0} apples\" .format(\"five\")"
      ],
      "metadata": {
        "colab": {
          "base_uri": "https://localhost:8080/",
          "height": 35
        },
        "id": "GaS6aOKe9vq8",
        "outputId": "cef32919-c775-40f4-fe97-c5083de039fd"
      },
      "execution_count": 94,
      "outputs": [
        {
          "output_type": "execute_result",
          "data": {
            "text/plain": [
              "'i eat five apples'"
            ],
            "application/vnd.google.colaboratory.intrinsic+json": {
              "type": "string"
            }
          },
          "metadata": {},
          "execution_count": 94
        }
      ]
    },
    {
      "cell_type": "code",
      "source": [
        "number = 3\n",
        "\"i eat {0} apples\" .format(number)"
      ],
      "metadata": {
        "colab": {
          "base_uri": "https://localhost:8080/",
          "height": 35
        },
        "id": "_CEpMUW1-Eqc",
        "outputId": "f26b4b2c-0aca-415a-ba47-23e9ec8ff9a4"
      },
      "execution_count": 95,
      "outputs": [
        {
          "output_type": "execute_result",
          "data": {
            "text/plain": [
              "'i eat 3 apples'"
            ],
            "application/vnd.google.colaboratory.intrinsic+json": {
              "type": "string"
            }
          },
          "metadata": {},
          "execution_count": 95
        }
      ]
    },
    {
      "cell_type": "markdown",
      "source": [
        "1. 인덱스 넘버로 순서를 바꿀수도 있다.\n",
        "2. 변수를 직접 넣어서 쓰면 순서 상관없이 사용 가능하다\n",
        "3. 복합사용시 순서를 지켜주어야 한다."
      ],
      "metadata": {
        "id": "pS0XYAo5-4VV"
      }
    },
    {
      "cell_type": "code",
      "source": [
        "number = 10\n",
        "day = 3\n",
        "\"i eat {0} apples. so i was slck for {1} days\" .format(number,day)"
      ],
      "metadata": {
        "colab": {
          "base_uri": "https://localhost:8080/",
          "height": 35
        },
        "id": "OEjwB15h-Yq8",
        "outputId": "8ae823ad-3c98-45a7-c4c9-5241dda1ae76"
      },
      "execution_count": 97,
      "outputs": [
        {
          "output_type": "execute_result",
          "data": {
            "text/plain": [
              "'i eat 3 apples. so i was slck for 10 days'"
            ],
            "application/vnd.google.colaboratory.intrinsic+json": {
              "type": "string"
            }
          },
          "metadata": {},
          "execution_count": 97
        }
      ]
    },
    {
      "cell_type": "code",
      "source": [
        "number = 10\n",
        "day = 3\n",
        "\"i eat {1} apples. so i was slck for {0} days\" .format(number,day)"
      ],
      "metadata": {
        "colab": {
          "base_uri": "https://localhost:8080/",
          "height": 35
        },
        "id": "cD99GP-n-wl0",
        "outputId": "4160f5dc-d61e-4406-cfc4-9c82ccf8ea9d"
      },
      "execution_count": 98,
      "outputs": [
        {
          "output_type": "execute_result",
          "data": {
            "text/plain": [
              "'i eat 3 apples. so i was slck for 10 days'"
            ],
            "application/vnd.google.colaboratory.intrinsic+json": {
              "type": "string"
            }
          },
          "metadata": {},
          "execution_count": 98
        }
      ]
    },
    {
      "cell_type": "code",
      "source": [
        "\"i eat {number} apples. so i was slck for {day} days\" .format(number=10,day=3)"
      ],
      "metadata": {
        "colab": {
          "base_uri": "https://localhost:8080/",
          "height": 35
        },
        "id": "CMSGX14U-3S0",
        "outputId": "2bd689b5-e8c0-4870-81f5-822c21778138"
      },
      "execution_count": 99,
      "outputs": [
        {
          "output_type": "execute_result",
          "data": {
            "text/plain": [
              "'i eat 10 apples. so i was slck for 3 days'"
            ],
            "application/vnd.google.colaboratory.intrinsic+json": {
              "type": "string"
            }
          },
          "metadata": {},
          "execution_count": 99
        }
      ]
    },
    {
      "cell_type": "code",
      "source": [
        "\"i eat {day} apples. so i was slck for {number} days\" .format(number=10,day=3)"
      ],
      "metadata": {
        "colab": {
          "base_uri": "https://localhost:8080/",
          "height": 35
        },
        "id": "B8FiAmbC_CHE",
        "outputId": "34ae4b63-ff30-4c9a-950d-0bccefd2b306"
      },
      "execution_count": 100,
      "outputs": [
        {
          "output_type": "execute_result",
          "data": {
            "text/plain": [
              "'i eat 3 apples. so i was slck for 10 days'"
            ],
            "application/vnd.google.colaboratory.intrinsic+json": {
              "type": "string"
            }
          },
          "metadata": {},
          "execution_count": 100
        }
      ]
    },
    {
      "cell_type": "code",
      "source": [
        "number=10\n",
        "\"i eat {0} apples. so i was slck for {day} days\" .format(day=3,number)"
      ],
      "metadata": {
        "colab": {
          "base_uri": "https://localhost:8080/",
          "height": 110
        },
        "id": "a8hY0J0E_NYk",
        "outputId": "e1e55b6f-258e-46cf-ad12-9ebfc41cba84"
      },
      "execution_count": 102,
      "outputs": [
        {
          "output_type": "error",
          "ename": "SyntaxError",
          "evalue": "positional argument follows keyword argument (<ipython-input-102-a759b8a97ee5>, line 2)",
          "traceback": [
            "\u001b[0;36m  File \u001b[0;32m\"<ipython-input-102-a759b8a97ee5>\"\u001b[0;36m, line \u001b[0;32m2\u001b[0m\n\u001b[0;31m    \"i eat {0} apples. so i was slck for {day} days\" .format(day=3,number)\u001b[0m\n\u001b[0m                                                                         ^\u001b[0m\n\u001b[0;31mSyntaxError\u001b[0m\u001b[0;31m:\u001b[0m positional argument follows keyword argument\n"
          ]
        }
      ]
    },
    {
      "cell_type": "code",
      "source": [
        "\"MBC AI {0:<10} PYTHON\".format(\"hi\")             # 윈쪽 정렬"
      ],
      "metadata": {
        "colab": {
          "base_uri": "https://localhost:8080/",
          "height": 35
        },
        "id": "blMTwkZN_Va0",
        "outputId": "fe25fc33-72ac-48e0-84eb-9d08e879fd6b"
      },
      "execution_count": 103,
      "outputs": [
        {
          "output_type": "execute_result",
          "data": {
            "text/plain": [
              "'MBC AI hi         PYTHON'"
            ],
            "application/vnd.google.colaboratory.intrinsic+json": {
              "type": "string"
            }
          },
          "metadata": {},
          "execution_count": 103
        }
      ]
    },
    {
      "cell_type": "code",
      "source": [
        "\"MBC AI {0:>10} PYTHON\".format(\"hi\")             # 오른쪽 정렬"
      ],
      "metadata": {
        "colab": {
          "base_uri": "https://localhost:8080/",
          "height": 35
        },
        "id": "DkVmW8p5_uXD",
        "outputId": "2065f486-457b-4283-ebf8-58b57835a977"
      },
      "execution_count": 104,
      "outputs": [
        {
          "output_type": "execute_result",
          "data": {
            "text/plain": [
              "'MBC AI         hi PYTHON'"
            ],
            "application/vnd.google.colaboratory.intrinsic+json": {
              "type": "string"
            }
          },
          "metadata": {},
          "execution_count": 104
        }
      ]
    },
    {
      "cell_type": "code",
      "source": [
        "\"MBC AI {0:^10} PYTHON\".format(\"hi\")             # 가운데 정렬"
      ],
      "metadata": {
        "colab": {
          "base_uri": "https://localhost:8080/",
          "height": 35
        },
        "id": "4Qb6trDk_2Ss",
        "outputId": "acf5e878-7200-4a96-804a-d8ea82b6e904"
      },
      "execution_count": 106,
      "outputs": [
        {
          "output_type": "execute_result",
          "data": {
            "text/plain": [
              "'MBC AI     hi     PYTHON'"
            ],
            "application/vnd.google.colaboratory.intrinsic+json": {
              "type": "string"
            }
          },
          "metadata": {},
          "execution_count": 106
        }
      ]
    },
    {
      "cell_type": "markdown",
      "source": [
        "\"{0:=^10}\".format(\"hi\")\n",
        "\"{0:!^10}\".format(\"hi\")\n",
        "\"{0:%^10}\".format(\"hi\")\n",
        "\n",
        "rkr = ! % 로 공백을 매꾸어준다"
      ],
      "metadata": {
        "id": "G12JxuLDMCcr"
      }
    },
    {
      "cell_type": "code",
      "source": [
        "\"{0:=^10}\".format(\"hi\")"
      ],
      "metadata": {
        "colab": {
          "base_uri": "https://localhost:8080/",
          "height": 35
        },
        "id": "K6k_0N-0_3x0",
        "outputId": "cc8fb5ff-df1d-4080-a194-9aa86551a796"
      },
      "execution_count": 111,
      "outputs": [
        {
          "output_type": "execute_result",
          "data": {
            "text/plain": [
              "'====hi===='"
            ],
            "application/vnd.google.colaboratory.intrinsic+json": {
              "type": "string"
            }
          },
          "metadata": {},
          "execution_count": 111
        }
      ]
    },
    {
      "cell_type": "code",
      "source": [
        "\"{0:!<10}\".format(\"hi\")"
      ],
      "metadata": {
        "colab": {
          "base_uri": "https://localhost:8080/",
          "height": 35
        },
        "id": "UH5a26XJLqaq",
        "outputId": "77eb8a6c-34ce-49c5-cc72-27280caac2e2"
      },
      "execution_count": 115,
      "outputs": [
        {
          "output_type": "execute_result",
          "data": {
            "text/plain": [
              "'hi!!!!!!!!'"
            ],
            "application/vnd.google.colaboratory.intrinsic+json": {
              "type": "string"
            }
          },
          "metadata": {},
          "execution_count": 115
        }
      ]
    },
    {
      "cell_type": "code",
      "source": [
        "\"{0:%>10}\".format(\"hi\")"
      ],
      "metadata": {
        "colab": {
          "base_uri": "https://localhost:8080/",
          "height": 35
        },
        "id": "Ub4F796LL0Ni",
        "outputId": "e7663128-fb13-45b1-a969-e3b71f246024"
      },
      "execution_count": 117,
      "outputs": [
        {
          "output_type": "execute_result",
          "data": {
            "text/plain": [
              "'%%%%%%%%hi'"
            ],
            "application/vnd.google.colaboratory.intrinsic+json": {
              "type": "string"
            }
          },
          "metadata": {},
          "execution_count": 117
        }
      ]
    },
    {
      "cell_type": "code",
      "source": [
        "# 소수점 표현하기\n",
        "y = 3.141592\n",
        "\"{0:10.4f}\".format(y)   # 총 자리수 중에 소수점 4자리까지 반올림으로 출력"
      ],
      "metadata": {
        "colab": {
          "base_uri": "https://localhost:8080/",
          "height": 35
        },
        "id": "x0VRcrVAL3OQ",
        "outputId": "3ffbe0fa-a873-4c6f-8c09-e6da9eb6c592"
      },
      "execution_count": 119,
      "outputs": [
        {
          "output_type": "execute_result",
          "data": {
            "text/plain": [
              "'    3.1416'"
            ],
            "application/vnd.google.colaboratory.intrinsic+json": {
              "type": "string"
            }
          },
          "metadata": {},
          "execution_count": 119
        }
      ]
    },
    {
      "cell_type": "code",
      "source": [
        "# {문자} 츨력 하고 싶을 때\n",
        "\"{{문자}}\".format()\n",
        "# 예약 기호를 2번연속 기입하면 문자형태로 출력가능하다."
      ],
      "metadata": {
        "colab": {
          "base_uri": "https://localhost:8080/",
          "height": 35
        },
        "id": "qd1_b69SMZkS",
        "outputId": "1682a40c-882a-4637-a842-e01f972e91d2"
      },
      "execution_count": 120,
      "outputs": [
        {
          "output_type": "execute_result",
          "data": {
            "text/plain": [
              "'{문지}'"
            ],
            "application/vnd.google.colaboratory.intrinsic+json": {
              "type": "string"
            }
          },
          "metadata": {},
          "execution_count": 120
        }
      ]
    },
    {
      "cell_type": "code",
      "source": [
        "# 파이썬 3.6이상의 최신 포맷팅\n",
        "# .format 매서드를 사용하지 않는 기법 -> 접두사로 f 를 기입한다\n",
        "name = \"유병철\"\n",
        "age = 31\n",
        "text = f\"\"\"나의 이름은 {name}이고\n",
        "나이는 {age+5}살 입니다.\"\"\"\n",
        "print(text)"
      ],
      "metadata": {
        "colab": {
          "base_uri": "https://localhost:8080/"
        },
        "id": "PWSemWDgND6R",
        "outputId": "f7631051-6033-4aee-a878-93932559520c"
      },
      "execution_count": 126,
      "outputs": [
        {
          "output_type": "stream",
          "name": "stdout",
          "text": [
            "나의 이름은 유병철이고\n",
            "나이는 36살 입니다.\n"
          ]
        }
      ]
    },
    {
      "cell_type": "code",
      "source": [
        "# 딕셔너리를 활용한 포맷팅\n",
        "d = {'name':\"유병철\",'age':31}\n",
        "f\"나의 이름은 {d['name']}이고 나이는 {d['age']}살 입니다.\""
      ],
      "metadata": {
        "colab": {
          "base_uri": "https://localhost:8080/",
          "height": 35
        },
        "id": "uKayV70TNYjZ",
        "outputId": "a411f5b0-a8f6-4bcd-d940-c40a90506e61"
      },
      "execution_count": 129,
      "outputs": [
        {
          "output_type": "execute_result",
          "data": {
            "text/plain": [
              "'나의 이름은 유병철이고 나이는 31살 입니다.'"
            ],
            "application/vnd.google.colaboratory.intrinsic+json": {
              "type": "string"
            }
          },
          "metadata": {},
          "execution_count": 129
        }
      ]
    },
    {
      "cell_type": "code",
      "source": [
        "f\"{'hi':<10}\""
      ],
      "metadata": {
        "colab": {
          "base_uri": "https://localhost:8080/",
          "height": 35
        },
        "id": "XBdeGklKQIvx",
        "outputId": "5fe1f7a5-bd3e-40ad-8732-8d74eab1eb07"
      },
      "execution_count": 130,
      "outputs": [
        {
          "output_type": "execute_result",
          "data": {
            "text/plain": [
              "'hi        '"
            ],
            "application/vnd.google.colaboratory.intrinsic+json": {
              "type": "string"
            }
          },
          "metadata": {},
          "execution_count": 130
        }
      ]
    },
    {
      "cell_type": "code",
      "source": [
        "f\"{'hi':=^9}\""
      ],
      "metadata": {
        "colab": {
          "base_uri": "https://localhost:8080/",
          "height": 35
        },
        "id": "SrPCW0kEQr65",
        "outputId": "63e0324d-8e31-49c5-d67f-433805446d87"
      },
      "execution_count": 132,
      "outputs": [
        {
          "output_type": "execute_result",
          "data": {
            "text/plain": [
              "'===hi===='"
            ],
            "application/vnd.google.colaboratory.intrinsic+json": {
              "type": "string"
            }
          },
          "metadata": {},
          "execution_count": 132
        }
      ]
    },
    {
      "cell_type": "code",
      "source": [
        "y = 3.1415921564\n",
        "f\"{y:_>10.4f}\""
      ],
      "metadata": {
        "colab": {
          "base_uri": "https://localhost:8080/",
          "height": 35
        },
        "id": "eb9lVuefQv3x",
        "outputId": "3feb7344-343c-49da-9290-c56bac209b9d"
      },
      "execution_count": 134,
      "outputs": [
        {
          "output_type": "execute_result",
          "data": {
            "text/plain": [
              "'____3.1416'"
            ],
            "application/vnd.google.colaboratory.intrinsic+json": {
              "type": "string"
            }
          },
          "metadata": {},
          "execution_count": 134
        }
      ]
    },
    {
      "cell_type": "code",
      "source": [
        "# {문자} 로 출력하고싶을때\n",
        "f\"{{문자}}\""
      ],
      "metadata": {
        "colab": {
          "base_uri": "https://localhost:8080/",
          "height": 35
        },
        "id": "NUAEi0rXRGZ5",
        "outputId": "229d974c-9df3-49b0-8274-db4c437a2ffa"
      },
      "execution_count": 138,
      "outputs": [
        {
          "output_type": "execute_result",
          "data": {
            "text/plain": [
              "'{문자}'"
            ],
            "application/vnd.google.colaboratory.intrinsic+json": {
              "type": "string"
            }
          },
          "metadata": {},
          "execution_count": 138
        }
      ]
    },
    {
      "cell_type": "code",
      "source": [],
      "metadata": {
        "id": "B4tV1UywRwK4"
      },
      "execution_count": null,
      "outputs": []
    }
  ]
}