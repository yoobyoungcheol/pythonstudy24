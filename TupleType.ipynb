{
  "nbformat": 4,
  "nbformat_minor": 0,
  "metadata": {
    "colab": {
      "provenance": [],
      "authorship_tag": "ABX9TyMUr8vw//oom6WTjg2bxK1Z",
      "include_colab_link": true
    },
    "kernelspec": {
      "name": "python3",
      "display_name": "Python 3"
    },
    "language_info": {
      "name": "python"
    }
  },
  "cells": [
    {
      "cell_type": "markdown",
      "metadata": {
        "id": "view-in-github",
        "colab_type": "text"
      },
      "source": [
        "<a href=\"https://colab.research.google.com/github/yoobyoungcheol/pythonstudy24/blob/master/TupleType.ipynb\" target=\"_parent\"><img src=\"https://colab.research.google.com/assets/colab-badge.svg\" alt=\"Open In Colab\"/></a>"
      ]
    },
    {
      "cell_type": "markdown",
      "source": [
        "Tuple 자료형\n",
        "\n",
        "Tuple은 List와 거의 유사함 차이점은 ()로 둘러쌈\n",
        "리스트는 CRUD 가능하지만, Tuple은 CR만 가능함 (읽기 전용)    \n",
        "JAVA에 collections.unmodifiableList() 기능과 유사함\n",
        "https://velog.io/@clean01/Java-%EB%B3%80%EA%B2%BD%EC%9D%B4-%EB%B6%88%EA%B0%80%EB%8A%A5%ED%95%9C-Collection%EC%9D%84-%EB%A7%8C%EB%93%A4%EA%B8%B0-Immutable-Collection-Immutable-List"
      ],
      "metadata": {
        "id": "-OIo9Y23VgCj"
      }
    },
    {
      "cell_type": "code",
      "execution_count": 3,
      "metadata": {
        "id": "sYTVclf8VGwk"
      },
      "outputs": [],
      "source": [
        "# Tuple 생성하기\n",
        "\n",
        "t1 = ()          # 빈 객체\n",
        "t2 = (1,)        # 한개의 요소만 가질때 쉼표를 반드시 기재한다.\n",
        "t3 = (1,2,3)     #\n",
        "t4 = 1,2,3       # 괄호 생략가능\n",
        "t5=('a','b',('ab','cd'))    # 2차원 Tuple\n",
        "\n",
        "# Tuple과 List의 가장 큰 차이는 요소값을 변환시킬수 있는지에 대한 여부 (튜플은 불가능)\n",
        "# 프로그램이 실행돼는 동안 요소값이 항상 변하지 않기를 바란다면 튜플을 사용할것"
      ]
    },
    {
      "cell_type": "code",
      "source": [
        "t1 = (1,2,'a','b')\n",
        "del t1[0]"
      ],
      "metadata": {
        "colab": {
          "base_uri": "https://localhost:8080/",
          "height": 165
        },
        "id": "DOQaSKWIXDyj",
        "outputId": "a88ea398-bfea-4f55-8924-3cc013ca2447"
      },
      "execution_count": 5,
      "outputs": [
        {
          "output_type": "error",
          "ename": "TypeError",
          "evalue": "'tuple' object doesn't support item deletion",
          "traceback": [
            "\u001b[0;31m---------------------------------------------------------------------------\u001b[0m",
            "\u001b[0;31mTypeError\u001b[0m                                 Traceback (most recent call last)",
            "\u001b[0;32m<ipython-input-5-e60ebcde2836>\u001b[0m in \u001b[0;36m<cell line: 2>\u001b[0;34m()\u001b[0m\n\u001b[1;32m      1\u001b[0m \u001b[0mt1\u001b[0m \u001b[0;34m=\u001b[0m \u001b[0;34m(\u001b[0m\u001b[0;36m1\u001b[0m\u001b[0;34m,\u001b[0m\u001b[0;36m2\u001b[0m\u001b[0;34m,\u001b[0m\u001b[0;34m'a'\u001b[0m\u001b[0;34m,\u001b[0m\u001b[0;34m'b'\u001b[0m\u001b[0;34m)\u001b[0m\u001b[0;34m\u001b[0m\u001b[0;34m\u001b[0m\u001b[0m\n\u001b[0;32m----> 2\u001b[0;31m \u001b[0;32mdel\u001b[0m \u001b[0mt1\u001b[0m\u001b[0;34m[\u001b[0m\u001b[0;36m0\u001b[0m\u001b[0;34m]\u001b[0m\u001b[0;34m\u001b[0m\u001b[0;34m\u001b[0m\u001b[0m\n\u001b[0m",
            "\u001b[0;31mTypeError\u001b[0m: 'tuple' object doesn't support item deletion"
          ]
        }
      ]
    },
    {
      "cell_type": "code",
      "source": [
        "t1[0] = 'c'"
      ],
      "metadata": {
        "colab": {
          "base_uri": "https://localhost:8080/",
          "height": 147
        },
        "id": "oHU3Car1X9Fy",
        "outputId": "355b0758-0a96-435b-f33f-9935289e819a"
      },
      "execution_count": 6,
      "outputs": [
        {
          "output_type": "error",
          "ename": "TypeError",
          "evalue": "'tuple' object does not support item assignment",
          "traceback": [
            "\u001b[0;31m---------------------------------------------------------------------------\u001b[0m",
            "\u001b[0;31mTypeError\u001b[0m                                 Traceback (most recent call last)",
            "\u001b[0;32m<ipython-input-6-ade0ed493e3b>\u001b[0m in \u001b[0;36m<cell line: 1>\u001b[0;34m()\u001b[0m\n\u001b[0;32m----> 1\u001b[0;31m \u001b[0mt1\u001b[0m\u001b[0;34m[\u001b[0m\u001b[0;36m0\u001b[0m\u001b[0;34m]\u001b[0m \u001b[0;34m=\u001b[0m \u001b[0;34m'c'\u001b[0m\u001b[0;34m\u001b[0m\u001b[0;34m\u001b[0m\u001b[0m\n\u001b[0m",
            "\u001b[0;31mTypeError\u001b[0m: 'tuple' object does not support item assignment"
          ]
        }
      ]
    },
    {
      "cell_type": "markdown",
      "source": [],
      "metadata": {
        "id": "CM-MiXiMYafq"
      }
    },
    {
      "cell_type": "code",
      "source": [],
      "metadata": {
        "id": "oxXih5fjYL_p"
      },
      "execution_count": null,
      "outputs": []
    }
  ]
}