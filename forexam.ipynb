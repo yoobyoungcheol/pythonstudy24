{
  "nbformat": 4,
  "nbformat_minor": 0,
  "metadata": {
    "colab": {
      "provenance": [],
      "authorship_tag": "ABX9TyN8qWGdS+naKwUa61yiwgaV",
      "include_colab_link": true
    },
    "kernelspec": {
      "name": "python3",
      "display_name": "Python 3"
    },
    "language_info": {
      "name": "python"
    }
  },
  "cells": [
    {
      "cell_type": "markdown",
      "metadata": {
        "id": "view-in-github",
        "colab_type": "text"
      },
      "source": [
        "<a href=\"https://colab.research.google.com/github/yoobyoungcheol/pythonstudy24/blob/master/forexam.ipynb\" target=\"_parent\"><img src=\"https://colab.research.google.com/assets/colab-badge.svg\" alt=\"Open In Colab\"/></a>"
      ]
    },
    {
      "cell_type": "markdown",
      "source": [
        "for문 연습\n",
        "\n",
        "for문은 while와 같은 반복문으로 차이점은 맥스의 존재 유무이다.\n",
        "\n",
        "for문은 구구단과 같이 9라는 max값이 있을 때 사용\n",
        "\n",
        "while은 max가 없지만 종료되는 시점을 만들어 제공해야함(강제종료 = ctrl+c)\n",
        "\n",
        "for 변수 in 리스트 | 튜플 | 문자열:\n",
        "    실행문1\n",
        "    실행문2\n",
        "\n",
        "자바의 향상 for문 | forEach 문과 같다."
      ],
      "metadata": {
        "id": "xrpjEzpnB0aN"
      }
    },
    {
      "cell_type": "code",
      "execution_count": 1,
      "metadata": {
        "colab": {
          "base_uri": "https://localhost:8080/"
        },
        "id": "bal5G2e6Bwmi",
        "outputId": "43c67ce3-3a16-409d-eaf4-844229f928e8"
      },
      "outputs": [
        {
          "output_type": "stream",
          "name": "stdout",
          "text": [
            "one\n",
            "two\n",
            "three\n"
          ]
        }
      ],
      "source": [
        "# 전형적인 for문\n",
        "\n",
        "test_list = ['one','two','three']\n",
        "for i in test_list:\n",
        "    print(i)"
      ]
    },
    {
      "cell_type": "code",
      "source": [
        "# 다양한 for문의 활용\n",
        "\n",
        "a = [(1,2),(3,4),(5,6)]\n",
        "\n",
        "for (first,last) in a:\n",
        "    print(first+last)"
      ],
      "metadata": {
        "colab": {
          "base_uri": "https://localhost:8080/"
        },
        "id": "l-fONFY9D0kE",
        "outputId": "688c7e83-0eed-47b2-de65-4d8ebc017b45"
      },
      "execution_count": 2,
      "outputs": [
        {
          "output_type": "stream",
          "name": "stdout",
          "text": [
            "3\n",
            "7\n",
            "11\n"
          ]
        }
      ]
    },
    {
      "cell_type": "code",
      "source": [
        "# 총 5명의 학생이 시험을 보았는데 시험 점수가 60점 이상이면 합격이고 그렇지 않으면 불합격이다.\n",
        "\n",
        "marks = [90,25,67,45,80]          # 학생별 시험점수 5명\n",
        "number = 0                        # 출력시 학생의 번호지정\n",
        "for mark in marks:                # 각 학생의 점수를 받아온다.\n",
        "    number = number + 1           # 각 학생의 번호\n",
        "    if mark >= 60:                # 합격 불합격의 기준\n",
        "        print(\"%d번 학생은 합격입니다.\" % number)\n",
        "    else:\n",
        "        print(\"%d번 학생은 불합격입니다.\" % number)                # 합격한 학생만 출력한다."
      ],
      "metadata": {
        "colab": {
          "base_uri": "https://localhost:8080/"
        },
        "id": "FnQKeW-eFAeM",
        "outputId": "c62a5a5d-3bfd-4d32-8c50-a217fb59ad65"
      },
      "execution_count": 4,
      "outputs": [
        {
          "output_type": "stream",
          "name": "stdout",
          "text": [
            "1번 학생은 합격입니다.\n",
            "2번 학생은 불합격입니다.\n",
            "3번 학생은 합격입니다.\n",
            "4번 학생은 불합격입니다.\n",
            "5번 학생은 합격입니다.\n"
          ]
        }
      ]
    },
    {
      "cell_type": "code",
      "source": [
        "# for + continue\n",
        "\n",
        "marks = [90,25,67,45,80]     # 학생들의 점수 리스트\n",
        "number = 0                   # 학생 번호\n",
        "for mark in marks:           # 리스트의 반복\n",
        "    number = number + 1      # 학생번호 증감\n",
        "    if mark < 60:            # 점수가 60보다 작으면\n",
        "        continue             # continue 다음 반복을 시행한다 (다시 for문으로 올라가라)\n",
        "    print(\"%d번 학생 축하합니다. 합격입니다.\" % number)   # 60점 이상일때의 처리문"
      ],
      "metadata": {
        "colab": {
          "base_uri": "https://localhost:8080/"
        },
        "id": "MqzB6juXGLBs",
        "outputId": "49e4671a-66a4-4b2a-9861-27903ae44525"
      },
      "execution_count": 5,
      "outputs": [
        {
          "output_type": "stream",
          "name": "stdout",
          "text": [
            "1번 학생 축하합니다. 합격입니다.\n",
            "3번 학생 축하합니다. 합격입니다.\n",
            "5번 학생 축하합니다. 합격입니다.\n"
          ]
        }
      ]
    },
    {
      "cell_type": "code",
      "source": [
        "# for 문과 같이 자주 쓰이는 range()\n",
        "\n",
        "a = range(10) # 0부터 10미만 숫자를 포함하는 객체를 만들어줌\n",
        "print(a)      #  (이상 미만)\n",
        "for i in a:\n",
        "    print(i)"
      ],
      "metadata": {
        "colab": {
          "base_uri": "https://localhost:8080/"
        },
        "id": "g6a8FMXyKZxP",
        "outputId": "dd0c7a66-c38a-4ac2-d355-1050f667c232"
      },
      "execution_count": 6,
      "outputs": [
        {
          "output_type": "stream",
          "name": "stdout",
          "text": [
            "range(0, 10)\n",
            "0\n",
            "1\n",
            "2\n",
            "3\n",
            "4\n",
            "5\n",
            "6\n",
            "7\n",
            "8\n",
            "9\n"
          ]
        }
      ]
    },
    {
      "cell_type": "code",
      "source": [
        "for i in range(1,11):   # range(1,11) 이면 1부터 11미만까지의 수를 포함하는 객체를 만든다.\n",
        "    print(i)"
      ],
      "metadata": {
        "colab": {
          "base_uri": "https://localhost:8080/"
        },
        "id": "VREoeQQ-Kpbg",
        "outputId": "0c08fb12-4f25-4915-c1a2-3f732b4cd0e7"
      },
      "execution_count": 7,
      "outputs": [
        {
          "output_type": "stream",
          "name": "stdout",
          "text": [
            "1\n",
            "2\n",
            "3\n",
            "4\n",
            "5\n",
            "6\n",
            "7\n",
            "8\n",
            "9\n",
            "10\n"
          ]
        }
      ]
    },
    {
      "cell_type": "code",
      "source": [
        "marks = [90,25,67,45,80]\n",
        "for number in range(len(marks)):\n",
        "    if marks[number] < 60:\n",
        "        continue\n",
        "    print(\"%d번 학생 축하합니다. 합격입니다.\" % (number+1))"
      ],
      "metadata": {
        "colab": {
          "base_uri": "https://localhost:8080/"
        },
        "id": "VeKcwiDhLOjg",
        "outputId": "56067629-eaec-44fe-f385-cf0a76c269cb"
      },
      "execution_count": 8,
      "outputs": [
        {
          "output_type": "stream",
          "name": "stdout",
          "text": [
            "1번 학생 축하합니다. 합격입니다.\n",
            "3번 학생 축하합니다. 합격입니다.\n",
            "5번 학생 축하합니다. 합격입니다.\n"
          ]
        }
      ]
    },
    {
      "cell_type": "code",
      "source": [
        "# 구구단을 만들어 보자  2*1 =2 ~ 9 * 9 = 81\n",
        "# 다중 for문을 활용하여 만들자\n",
        "\n",
        "for i in range(2,10):               # 2~9단\n",
        "    for j in range(1,10):           # 각단에 곱해지는 수 1~9\n",
        "        print(i*j, end=\" \")         # 각단마다 곱하고 출력 end 파라미터는 기본인 \\n을 대신하여 띄어쓰기로\n",
        "    print('')                       # 줄바꿈의 용도"
      ],
      "metadata": {
        "colab": {
          "base_uri": "https://localhost:8080/"
        },
        "id": "qblNBIzGLrV2",
        "outputId": "ff5b52fa-ab30-462c-945d-4e75610fff3f"
      },
      "execution_count": 10,
      "outputs": [
        {
          "output_type": "stream",
          "name": "stdout",
          "text": [
            "2 4 6 8 10 12 14 16 18 \n",
            "3 6 9 12 15 18 21 24 27 \n",
            "4 8 12 16 20 24 28 32 36 \n",
            "5 10 15 20 25 30 35 40 45 \n",
            "6 12 18 24 30 36 42 48 54 \n",
            "7 14 21 28 35 42 49 56 63 \n",
            "8 16 24 32 40 48 56 64 72 \n",
            "9 18 27 36 45 54 63 72 81 \n"
          ]
        }
      ]
    },
    {
      "cell_type": "code",
      "source": [
        "# list 컴프리헨션 -> 결과를 리스트로 저장하는 기법\n",
        "\n",
        "# list 컴프리헨션을 사용하지 않는 방법\n",
        "a = [1,2,3,4]               # 입력 리스트 값\n",
        "result = []                 # 출력 리스트 값\n",
        "for num in a:               # 입력 리스트의 값을 하나씩 불러온다\n",
        "    result.append(num*3)    # 츨략 리스트에 입력 리스트의 값을 *3해서 추가하라    # 추가하기 ( .append )\n",
        "print(result)               # 출력 리스트 확인하기"
      ],
      "metadata": {
        "colab": {
          "base_uri": "https://localhost:8080/"
        },
        "id": "bFRtdHinMZu2",
        "outputId": "e080666b-4a68-40d5-9058-068ab5efa0b2"
      },
      "execution_count": 11,
      "outputs": [
        {
          "output_type": "stream",
          "name": "stdout",
          "text": [
            "[3, 6, 9, 12]\n"
          ]
        }
      ]
    },
    {
      "cell_type": "code",
      "source": [
        "### 디버깅 할떄 오류를 찾기 위해서는 미리 프린트를 for문안에 넣어주어 결과값을 계속 확인하며 지나는 것이 좋다.\n",
        "\n",
        "# list 컴프리헨션 -> 결과를 리스트로 저장하는 기법\n",
        "\n",
        "# list 컴프리헨션을 사용하지 않는 방법\n",
        "a = [1,2,3,4]               # 입력 리스트 값\n",
        "result = []                 # 출력 리스트 값\n",
        "for num in a:               # 입력 리스트의 값을 하나씩 불러온다\n",
        "    result.append(num*3)    # 츨략 리스트에 입력 리스트의 값을 *3해서 추가하라    # 추가하기 ( .append )\n",
        "    print(result)               # 출력 리스트 확인하기"
      ],
      "metadata": {
        "colab": {
          "base_uri": "https://localhost:8080/"
        },
        "id": "FLDg5JKoN9fP",
        "outputId": "4b10d26c-d977-4c69-e610-fcbee4cd6831"
      },
      "execution_count": 12,
      "outputs": [
        {
          "output_type": "stream",
          "name": "stdout",
          "text": [
            "[3]\n",
            "[3, 6]\n",
            "[3, 6, 9]\n",
            "[3, 6, 9, 12]\n"
          ]
        }
      ]
    },
    {
      "cell_type": "code",
      "source": [
        "a = [1,2,3,4]\n",
        "                                            # for 변수 in 리스트 | 튜플 | 문자열: 실행문  람다식으로는\n",
        "                                            # [실행문 for 변수 in 리스트 | 튜플 | 문자열]\n",
        "result = [num * 3 for num in a]             # 변수 = [실행문 for 변수 in 리스트 | 튜플 | 문자열] 변수에 리스트 추가하기\n",
        "print(result)"
      ],
      "metadata": {
        "colab": {
          "base_uri": "https://localhost:8080/"
        },
        "id": "STaN0rYgOdyZ",
        "outputId": "b257590f-cdc4-4829-d36f-8044ae78d54f"
      },
      "execution_count": 13,
      "outputs": [
        {
          "output_type": "stream",
          "name": "stdout",
          "text": [
            "[3, 6, 9, 12]\n"
          ]
        }
      ]
    },
    {
      "cell_type": "code",
      "source": [
        "# 짝수만 3을 곱해서 리스트에 추가하기\n",
        "\n",
        "a = [1,2,3,4,5,6]\n",
        "result = [num * 3 for num in a if num % 2 == 0]\n",
        "#결과배열 = 실행문 for 변수 in 리스트 | 튜플 | 문자열 if 조건\n",
        "print(result)"
      ],
      "metadata": {
        "colab": {
          "base_uri": "https://localhost:8080/"
        },
        "id": "wrrj--RbPtc3",
        "outputId": "32a97f41-e335-4110-c1d3-34bb97de6cbd"
      },
      "execution_count": 17,
      "outputs": [
        {
          "output_type": "stream",
          "name": "stdout",
          "text": [
            "[6, 12, 18]\n"
          ]
        }
      ]
    },
    {
      "cell_type": "code",
      "source": [
        "# 짝수만 3을 곱해서 리스트에 추가하기\n",
        "\n",
        "a = [1,2,3,4,5,6]\n",
        "result = []\n",
        "for i in a:\n",
        "    if i % 2 == 0:\n",
        "        result.append(i*3)\n",
        "print(result)"
      ],
      "metadata": {
        "colab": {
          "base_uri": "https://localhost:8080/"
        },
        "id": "lsLbbxRBOeLY",
        "outputId": "5333ca14-4f25-4ae1-d4e6-eb5574397657"
      },
      "execution_count": 18,
      "outputs": [
        {
          "output_type": "stream",
          "name": "stdout",
          "text": [
            "[6, 12, 18]\n"
          ]
        }
      ]
    },
    {
      "cell_type": "code",
      "source": [
        "# 짝수만 3을 곱해서 리스트에 추가하기\n",
        "\n",
        "a = [1,2,3,4,5,6]\n",
        "result = []\n",
        "for i in a:\n",
        "    if i % 2 == 0:\n",
        "        result.append(i*3)\n",
        "    else:\n",
        "        result.append(i)\n",
        "print(result)"
      ],
      "metadata": {
        "colab": {
          "base_uri": "https://localhost:8080/"
        },
        "id": "HNoeCrrJPn14",
        "outputId": "0779e887-c441-4a33-b900-9c1f825d229d"
      },
      "execution_count": 19,
      "outputs": [
        {
          "output_type": "stream",
          "name": "stdout",
          "text": [
            "[1, 6, 3, 12, 5, 18]\n"
          ]
        }
      ]
    },
    {
      "cell_type": "code",
      "source": [
        "# 미션 전에 만든 커피자판기를 리스트화 해서 for문으로 구현\n",
        "\n",
        "# 커피종류가 5개 (커피명,수량,단가)\n",
        "# 사용자 커피 반복 구매\n",
        "# 관리자가 판매종료 후 통계\n",
        "\n",
        "prompt=\"\"\"\n",
        "1. 커피의 종류 와 가격 판매 개수 추가하기\n",
        "2. 등록된 커피의 종류와 갯수 가격 확인하기\n",
        "3. 커피의 수량이나 단가 조절하기\n",
        "4. 커피의 등록 취소하기\n",
        "5. 판매 시작하기\n",
        "\"\"\"\n",
        "coffeecells = {}\n",
        "coffeeprices = {}\n",
        "pricetotal = []\n",
        "menus =[]\n",
        "i=0\n",
        "money= 0\n",
        "mymoney = 0\n",
        "celling = 0\n",
        "totalmoney = 0\n",
        "addmin=0\n",
        "while addmin != 5:\n",
        "    print(prompt)\n",
        "    addmin = int(input(\"선택할 메뉴를 골라주세요 : \"))\n",
        "    match addmin:\n",
        "        case 1:\n",
        "            for i in range(5):\n",
        "                menus.append(str(input('커피명 : ')))\n",
        "                coffeeprices[menus[i]] = {\"가격\":0}\n",
        "                coffeecells[menus[i]] = {\"수량\":0}\n",
        "                coffeeprices[menus[i]][\"가격\"] = int(input(\"가격을 입력해주세요 : \"))\n",
        "                taget = int(input(\"수량을 입력해주세요 : \"))\n",
        "                celling = celling + taget\n",
        "                coffeecells[menus[i]][\"수량\"] = taget\n",
        "                i = i+1\n",
        "        case 2:\n",
        "            u = 0\n",
        "            if i == 0:\n",
        "                print(\"등록된 커피가 없습니다.\")\n",
        "            else:\n",
        "                for key in menus:\n",
        "                    u = u+1\n",
        "                    print(\"%d번 %s 가격: %d  수량 : %d   총가격 %d\"%(u,key,coffeeprices[key][\"가격\"],coffeecells[key][\"수량\"],coffeeprices[key][\"가격\"]*coffeecells[key][\"수량\"]))\n",
        "        case 3:\n",
        "            for menu in menus:\n",
        "                print(menu)\n",
        "            pix = str(input(\"가격과 수량을 수정 할 커피를 입력하세요 : \"))\n",
        "            print(\"현재 해당 커피의 가격은 %d원이고 수량은 %d입니다.\"%(coffeeprices[pix][\"가격\"],coffeecells[pix][\"수량\"]))\n",
        "            celling = celling - coffeecells[pix][\"수량\"]\n",
        "            coffeeprices[pix][\"가격\"] = int(input(\"수정하실 가격을 입력해주세요 : \"))\n",
        "            coffeecells[pix][\"수량\"] = int(input(\"수정하실 수량을 입력해주세요 : \"))\n",
        "            celling = celling + coffeecells[pix][\"수량\"]\n",
        "        case 4:\n",
        "            for menu in menus:\n",
        "                print(\"menu : %s  가격 : %d  수량 : %d\" %(menu,coffeeprices[menu][\"가격\"],coffeecells[menu][\"수량\"]))\n",
        "            delt = str(input(\"삭제할 커피의 이름을 입력하세요 : \"))\n",
        "            menus.remove(delt)\n",
        "            celling = celling - coffeecells[delt][\"수량\"]\n",
        "            del coffeeprices[delt]\n",
        "            del coffeecells[delt]\n",
        "\n",
        "            i=i-1\n",
        "        case 5:\n",
        "            break\n",
        "# 판매 시작 소비자 부분\n",
        "print(\"판매를 시작합니다.\")\n",
        "g=0\n",
        "for key in menus:\n",
        "    g = g+1\n",
        "    print(\"%d번 %s 가격: %d  수량 : %d\"%(g,key,coffeeprices[key][\"가격\"],coffeecells[key][\"수량\"]))\n",
        "while celling != 0:\n",
        "    money = int(input(\"돈을 투입하세요 : \"))\n",
        "    totalmoney = totalmoney + money\n",
        "    print(\"현재 잔액 %d원입니다.\"%totalmoney)\n",
        "    u=0\n",
        "    for key in menus:\n",
        "        pricetotal.append(coffeeprices[key][\"가격\"])\n",
        "    minprice = min(pricetotal)\n",
        "    if totalmoney >= minprice:\n",
        "        d=0\n",
        "        for key in menus:\n",
        "            d = d+1\n",
        "            print(\"%d번 %s 가격: %d  수량 : %d\"%(u,key,coffeeprices[key][\"가격\"],coffeecells[key][\"수량\"]))\n",
        "        customer = str(input(\"커피를 선택하세요 : \"))\n",
        "        while totalmoney >= coffeeprices[customer][\"가격\"]:\n",
        "            chice = int(input(\"몇잔을 구매하시겠습니까? : \"))\n",
        "            if totalmoney < coffeeprices[customer][\"가격\"]*chice:\n",
        "                print(\"잔액이 부족합니다.\")\n",
        "                break\n",
        "            elif chice > coffeecells[customer][\"수량\"]:\n",
        "                print(\"상품의 수량이 부족합니다.\")\n",
        "                break\n",
        "            else:\n",
        "                totalmoney = totalmoney - chice*coffeeprices[customer][\"가격\"]\n",
        "                coffeecells[customer][\"수량\"] = coffeecells[customer][\"수량\"] - chice\n",
        "                mymoney = mymoney+(chice*coffeeprices[customer][\"가격\"])\n",
        "            if coffeecells[customer][\"수량\"] == 0:\n",
        "                del coffeecells[customer]\n",
        "            print(\"잔돈을 반환 합니다 잔돈은 %d원 입니다.\"%totalmoney)\n",
        "            totalmoney = 0\n",
        "    else:\n",
        "        print(\"이용해 주셔서 감사합니다.\")\n",
        "\n",
        "print(\"총 수익금은 %d원 입니다.\"%mymoney)"
      ],
      "metadata": {
        "colab": {
          "base_uri": "https://localhost:8080/",
          "height": 499
        },
        "id": "80fFifelP4h-",
        "outputId": "fbe586ce-0250-4426-d954-73e2ebaf1625"
      },
      "execution_count": 43,
      "outputs": [
        {
          "output_type": "stream",
          "name": "stdout",
          "text": [
            "\n",
            "1. 커피의 종류 와 가격 판매 개수 추가하기\n",
            "2. 등록된 커피의 종류와 갯수 가격 확인하기\n",
            "3. 커피의 수량이나 단가 조절하기\n",
            "4. 커피의 등록 취소하기\n",
            "5. 판매 시작하기\n",
            "\n"
          ]
        },
        {
          "output_type": "error",
          "ename": "KeyboardInterrupt",
          "evalue": "Interrupted by user",
          "traceback": [
            "\u001b[0;31m---------------------------------------------------------------------------\u001b[0m",
            "\u001b[0;31mKeyboardInterrupt\u001b[0m                         Traceback (most recent call last)",
            "\u001b[0;32m<ipython-input-43-bfa7e886b38a>\u001b[0m in \u001b[0;36m<cell line: 24>\u001b[0;34m()\u001b[0m\n\u001b[1;32m     24\u001b[0m \u001b[0;32mwhile\u001b[0m \u001b[0maddmin\u001b[0m \u001b[0;34m!=\u001b[0m \u001b[0;36m5\u001b[0m\u001b[0;34m:\u001b[0m\u001b[0;34m\u001b[0m\u001b[0;34m\u001b[0m\u001b[0m\n\u001b[1;32m     25\u001b[0m     \u001b[0mprint\u001b[0m\u001b[0;34m(\u001b[0m\u001b[0mprompt\u001b[0m\u001b[0;34m)\u001b[0m\u001b[0;34m\u001b[0m\u001b[0;34m\u001b[0m\u001b[0m\n\u001b[0;32m---> 26\u001b[0;31m     \u001b[0maddmin\u001b[0m \u001b[0;34m=\u001b[0m \u001b[0mint\u001b[0m\u001b[0;34m(\u001b[0m\u001b[0minput\u001b[0m\u001b[0;34m(\u001b[0m\u001b[0;34m\"선택할 메뉴를 골라주세요 : \"\u001b[0m\u001b[0;34m)\u001b[0m\u001b[0;34m)\u001b[0m\u001b[0;34m\u001b[0m\u001b[0;34m\u001b[0m\u001b[0m\n\u001b[0m\u001b[1;32m     27\u001b[0m     \u001b[0mmatch\u001b[0m \u001b[0maddmin\u001b[0m\u001b[0;34m:\u001b[0m\u001b[0;34m\u001b[0m\u001b[0;34m\u001b[0m\u001b[0m\n\u001b[1;32m     28\u001b[0m         \u001b[0mcase\u001b[0m \u001b[0;36m1\u001b[0m\u001b[0;34m:\u001b[0m\u001b[0;34m\u001b[0m\u001b[0;34m\u001b[0m\u001b[0m\n",
            "\u001b[0;32m/usr/local/lib/python3.10/dist-packages/ipykernel/kernelbase.py\u001b[0m in \u001b[0;36mraw_input\u001b[0;34m(self, prompt)\u001b[0m\n\u001b[1;32m    849\u001b[0m                 \u001b[0;34m\"raw_input was called, but this frontend does not support input requests.\"\u001b[0m\u001b[0;34m\u001b[0m\u001b[0;34m\u001b[0m\u001b[0m\n\u001b[1;32m    850\u001b[0m             )\n\u001b[0;32m--> 851\u001b[0;31m         return self._input_request(str(prompt),\n\u001b[0m\u001b[1;32m    852\u001b[0m             \u001b[0mself\u001b[0m\u001b[0;34m.\u001b[0m\u001b[0m_parent_ident\u001b[0m\u001b[0;34m,\u001b[0m\u001b[0;34m\u001b[0m\u001b[0;34m\u001b[0m\u001b[0m\n\u001b[1;32m    853\u001b[0m             \u001b[0mself\u001b[0m\u001b[0;34m.\u001b[0m\u001b[0m_parent_header\u001b[0m\u001b[0;34m,\u001b[0m\u001b[0;34m\u001b[0m\u001b[0;34m\u001b[0m\u001b[0m\n",
            "\u001b[0;32m/usr/local/lib/python3.10/dist-packages/ipykernel/kernelbase.py\u001b[0m in \u001b[0;36m_input_request\u001b[0;34m(self, prompt, ident, parent, password)\u001b[0m\n\u001b[1;32m    893\u001b[0m             \u001b[0;32mexcept\u001b[0m \u001b[0mKeyboardInterrupt\u001b[0m\u001b[0;34m:\u001b[0m\u001b[0;34m\u001b[0m\u001b[0;34m\u001b[0m\u001b[0m\n\u001b[1;32m    894\u001b[0m                 \u001b[0;31m# re-raise KeyboardInterrupt, to truncate traceback\u001b[0m\u001b[0;34m\u001b[0m\u001b[0;34m\u001b[0m\u001b[0m\n\u001b[0;32m--> 895\u001b[0;31m                 \u001b[0;32mraise\u001b[0m \u001b[0mKeyboardInterrupt\u001b[0m\u001b[0;34m(\u001b[0m\u001b[0;34m\"Interrupted by user\"\u001b[0m\u001b[0;34m)\u001b[0m \u001b[0;32mfrom\u001b[0m \u001b[0;32mNone\u001b[0m\u001b[0;34m\u001b[0m\u001b[0;34m\u001b[0m\u001b[0m\n\u001b[0m\u001b[1;32m    896\u001b[0m             \u001b[0;32mexcept\u001b[0m \u001b[0mException\u001b[0m \u001b[0;32mas\u001b[0m \u001b[0me\u001b[0m\u001b[0;34m:\u001b[0m\u001b[0;34m\u001b[0m\u001b[0;34m\u001b[0m\u001b[0m\n\u001b[1;32m    897\u001b[0m                 \u001b[0mself\u001b[0m\u001b[0;34m.\u001b[0m\u001b[0mlog\u001b[0m\u001b[0;34m.\u001b[0m\u001b[0mwarning\u001b[0m\u001b[0;34m(\u001b[0m\u001b[0;34m\"Invalid Message:\"\u001b[0m\u001b[0;34m,\u001b[0m \u001b[0mexc_info\u001b[0m\u001b[0;34m=\u001b[0m\u001b[0;32mTrue\u001b[0m\u001b[0;34m)\u001b[0m\u001b[0;34m\u001b[0m\u001b[0;34m\u001b[0m\u001b[0m\n",
            "\u001b[0;31mKeyboardInterrupt\u001b[0m: Interrupted by user"
          ]
        }
      ]
    },
    {
      "cell_type": "code",
      "source": [],
      "metadata": {
        "id": "hCNqDX0Wloe4"
      },
      "execution_count": null,
      "outputs": []
    }
  ]
}