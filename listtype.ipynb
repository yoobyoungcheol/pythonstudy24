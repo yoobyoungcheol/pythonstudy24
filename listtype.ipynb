{
  "nbformat": 4,
  "nbformat_minor": 0,
  "metadata": {
    "colab": {
      "provenance": [],
      "authorship_tag": "ABX9TyNDvr/4BQ3/qCRZP5ifJtkg",
      "include_colab_link": true
    },
    "kernelspec": {
      "name": "python3",
      "display_name": "Python 3"
    },
    "language_info": {
      "name": "python"
    }
  },
  "cells": [
    {
      "cell_type": "markdown",
      "metadata": {
        "id": "view-in-github",
        "colab_type": "text"
      },
      "source": [
        "<a href=\"https://colab.research.google.com/github/yoobyoungcheol/pythonstudy24/blob/master/listtype.ipynb\" target=\"_parent\"><img src=\"https://colab.research.google.com/assets/colab-badge.svg\" alt=\"Open In Colab\"/></a>"
      ]
    },
    {
      "cell_type": "markdown",
      "source": [
        "table 객채처리  각각의 객채를 모아서 처리하는 용도\n",
        "\n",
        "*   list 자료형\n",
        "*   tuple 자료형\n",
        "*   dictionary 자료형\n",
        "*   집합 자료형"
      ],
      "metadata": {
        "id": "CPdDyrawXGkd"
      }
    },
    {
      "cell_type": "code",
      "execution_count": 1,
      "metadata": {
        "id": "t-485oycWq7_"
      },
      "outputs": [],
      "source": [
        "# list 자료형   []를 이용하여 감싸고 쉼표롤 요소를 구분한다\n",
        "\n",
        "odd = [1,3,5,7,9]   # 자바의 배열과 유사하나 배열은 초기 행렬 값을 갖는다.(배열의 크기 조정이 불가하다.) -> arraylist\n",
        "\n",
        "a = []     # 빈리스트        a = list() 로도 생성 가능\n",
        "b = [1,2,3]      # 정수형 리스트\n",
        "c = [\"Lift\",\"is\",\"good\"]    # 문자형 리스트\n",
        "d = [1,2,\"Life\",\"is\"]    # 혼합형 리스트\n",
        "e = [1,2,[\"Life\",\"is\"]]  # 리스트안에 리스트"
      ]
    },
    {
      "cell_type": "code",
      "source": [
        "# 리스트 인덱싱\n",
        "\n",
        "a = [1,2,3]\n",
        "print(a[0])     # a리스트의 0번 인덱스를 출력해라"
      ],
      "metadata": {
        "colab": {
          "base_uri": "https://localhost:8080/"
        },
        "id": "5YU-RIJjZ3Fe",
        "outputId": "fc57201d-50e9-408d-db42-a64eee81c78c"
      },
      "execution_count": 4,
      "outputs": [
        {
          "output_type": "stream",
          "name": "stdout",
          "text": [
            "1\n"
          ]
        }
      ]
    },
    {
      "cell_type": "code",
      "source": [
        "print(a[0]+a[2])"
      ],
      "metadata": {
        "colab": {
          "base_uri": "https://localhost:8080/"
        },
        "id": "3bxEt10Pbi4W",
        "outputId": "a94de864-224e-4df9-96cf-e941a642492c"
      },
      "execution_count": 6,
      "outputs": [
        {
          "output_type": "stream",
          "name": "stdout",
          "text": [
            "4\n"
          ]
        }
      ]
    },
    {
      "cell_type": "code",
      "source": [
        "print(a[-1])         # - 기호는 역순으로 시작한다. ex) -1은 마지막 인덱스의 값"
      ],
      "metadata": {
        "colab": {
          "base_uri": "https://localhost:8080/"
        },
        "id": "FQNjAF64b22E",
        "outputId": "e6c30025-5400-4d25-9683-fc175854f099"
      },
      "execution_count": 7,
      "outputs": [
        {
          "output_type": "stream",
          "name": "stdout",
          "text": [
            "3\n"
          ]
        }
      ]
    },
    {
      "cell_type": "code",
      "source": [
        "a= [1,2,3,['a','b','c']]             # 2차원 배열\n",
        "a[-1][0]"
      ],
      "metadata": {
        "colab": {
          "base_uri": "https://localhost:8080/",
          "height": 35
        },
        "id": "_mLuPCeub-Os",
        "outputId": "93997d11-ffa0-458c-9f93-75e6d2c6e7b6"
      },
      "execution_count": 16,
      "outputs": [
        {
          "output_type": "execute_result",
          "data": {
            "text/plain": [
              "'a'"
            ],
            "application/vnd.google.colaboratory.intrinsic+json": {
              "type": "string"
            }
          },
          "metadata": {},
          "execution_count": 16
        }
      ]
    },
    {
      "cell_type": "code",
      "source": [
        "# 3차원 배열 -> 사진이나 영상 혹은 게임을 처리한다   (가로*세로 -> 픽셀, 깊이->RGB컬러)\n",
        "\n",
        "member = [['김기원',['교사',312]],['김지선',['학생',312]],['윤인영',['학생2',311]],['유병철',['학생3',313]]]\n",
        "member[1][1][1]"
      ],
      "metadata": {
        "colab": {
          "base_uri": "https://localhost:8080/"
        },
        "id": "P4vSNLs_cS3d",
        "outputId": "7eb00c3f-c3b1-4cb4-a57f-5df72fb4f0ca"
      },
      "execution_count": 21,
      "outputs": [
        {
          "output_type": "execute_result",
          "data": {
            "text/plain": [
              "[['김기원', ['교사', 312]], ['김지선', ['학생', 312]]]"
            ]
          },
          "metadata": {},
          "execution_count": 21
        }
      ]
    },
    {
      "cell_type": "code",
      "source": [
        "# List의 슬라이싱\n",
        "a = [1,2,3,4,5]\n",
        "a[0:2]"
      ],
      "metadata": {
        "colab": {
          "base_uri": "https://localhost:8080/"
        },
        "id": "2JUUCQcHlQEI",
        "outputId": "ef27a119-3426-4f59-af12-1665fea6e9b0"
      },
      "execution_count": 19,
      "outputs": [
        {
          "output_type": "execute_result",
          "data": {
            "text/plain": [
              "[1, 2]"
            ]
          },
          "metadata": {},
          "execution_count": 19
        }
      ]
    },
    {
      "cell_type": "code",
      "source": [
        "a[:2]     # 처음부터 2번 인덱스 전까지"
      ],
      "metadata": {
        "colab": {
          "base_uri": "https://localhost:8080/"
        },
        "id": "wSpe1v0ClqhP",
        "outputId": "119ee273-80a3-4acc-b8fb-5d06e25d367f"
      },
      "execution_count": 22,
      "outputs": [
        {
          "output_type": "execute_result",
          "data": {
            "text/plain": [
              "[1, 2]"
            ]
          },
          "metadata": {},
          "execution_count": 22
        }
      ]
    },
    {
      "cell_type": "code",
      "source": [
        "a[2:]    # 2번부터 마지막 인덱스 까지"
      ],
      "metadata": {
        "colab": {
          "base_uri": "https://localhost:8080/"
        },
        "id": "SFLfZ0C2mA_f",
        "outputId": "49f23b74-9d78-4f00-cf66-803f48a7e6d1"
      },
      "execution_count": 23,
      "outputs": [
        {
          "output_type": "execute_result",
          "data": {
            "text/plain": [
              "[3, 4, 5]"
            ]
          },
          "metadata": {},
          "execution_count": 23
        }
      ]
    },
    {
      "cell_type": "code",
      "source": [
        "a = [1,2,3,['a','b','c'],4,5]\n",
        "a[2:5]               # 2번째 인덱스 부터 5번째 인덱스 전까지 나오나 그 중간에 배열이 있으면 그 배열을 통째로 가져온다"
      ],
      "metadata": {
        "colab": {
          "base_uri": "https://localhost:8080/"
        },
        "id": "-DOkcO6kmFRH",
        "outputId": "d6186ada-8933-4cb6-b1e9-b818203d02df"
      },
      "execution_count": 24,
      "outputs": [
        {
          "output_type": "execute_result",
          "data": {
            "text/plain": [
              "[3, ['a', 'b', 'c'], 4]"
            ]
          },
          "metadata": {},
          "execution_count": 24
        }
      ]
    },
    {
      "cell_type": "code",
      "source": [
        "a[3][1:]"
      ],
      "metadata": {
        "colab": {
          "base_uri": "https://localhost:8080/"
        },
        "id": "1MUVcJUrmfR_",
        "outputId": "e77537cc-ebcf-4f55-ded7-9a73f4c32293"
      },
      "execution_count": 26,
      "outputs": [
        {
          "output_type": "execute_result",
          "data": {
            "text/plain": [
              "['b', 'c']"
            ]
          },
          "metadata": {},
          "execution_count": 26
        }
      ]
    },
    {
      "cell_type": "code",
      "source": [
        "# List 연산  + , * 를 활용할수 있음   # 단 각 리스트끼리는 *이 불가능하다\n",
        "\n",
        "a = [1,2,3]\n",
        "b = [4,5,6]\n",
        "a+b        # 문자열의 + 계산과 유사하다"
      ],
      "metadata": {
        "colab": {
          "base_uri": "https://localhost:8080/"
        },
        "id": "Rzz4mCvTmwef",
        "outputId": "8fe53df8-c05c-48be-d789-000e8d1df2a2"
      },
      "execution_count": 34,
      "outputs": [
        {
          "output_type": "execute_result",
          "data": {
            "text/plain": [
              "[1, 2, 3, 4, 5, 6]"
            ]
          },
          "metadata": {},
          "execution_count": 34
        }
      ]
    },
    {
      "cell_type": "code",
      "source": [
        "a*3        # 문자열의 + 계산과 유사하다"
      ],
      "metadata": {
        "colab": {
          "base_uri": "https://localhost:8080/"
        },
        "id": "411NMIndnOCH",
        "outputId": "45ffdfd3-2440-494f-be55-ff7b022a59bb"
      },
      "execution_count": 35,
      "outputs": [
        {
          "output_type": "execute_result",
          "data": {
            "text/plain": [
              "[1, 2, 3, 1, 2, 3, 1, 2, 3]"
            ]
          },
          "metadata": {},
          "execution_count": 35
        }
      ]
    },
    {
      "cell_type": "code",
      "source": [
        "# list 의;길이 구하기\n",
        "\n",
        "len(a)          # 위의 *이 적용이안된 이유는 다시 a에 넣어주지 않아서 이다."
      ],
      "metadata": {
        "colab": {
          "base_uri": "https://localhost:8080/"
        },
        "id": "L1VufceonfUS",
        "outputId": "5a34dc8e-500f-4480-cc8e-4efaa639dc00"
      },
      "execution_count": 36,
      "outputs": [
        {
          "output_type": "execute_result",
          "data": {
            "text/plain": [
              "3"
            ]
          },
          "metadata": {},
          "execution_count": 36
        }
      ]
    },
    {
      "cell_type": "code",
      "source": [
        "# list 의 글자 추가하기\n",
        "\n",
        "a = [1,2,3]           # 타입이 달라서 타입간에 충돌이 일어나서 오류가 일어난다\n",
        "a[2] + \"Hi\"\n",
        "a"
      ],
      "metadata": {
        "colab": {
          "base_uri": "https://localhost:8080/",
          "height": 201
        },
        "id": "8x4-o4Qqn4on",
        "outputId": "41e967f8-a3bb-4066-a12b-b952e845474f"
      },
      "execution_count": 52,
      "outputs": [
        {
          "output_type": "error",
          "ename": "TypeError",
          "evalue": "unsupported operand type(s) for +: 'int' and 'str'",
          "traceback": [
            "\u001b[0;31m---------------------------------------------------------------------------\u001b[0m",
            "\u001b[0;31mTypeError\u001b[0m                                 Traceback (most recent call last)",
            "\u001b[0;32m<ipython-input-52-b3543a3558e4>\u001b[0m in \u001b[0;36m<cell line: 4>\u001b[0;34m()\u001b[0m\n\u001b[1;32m      2\u001b[0m \u001b[0;34m\u001b[0m\u001b[0m\n\u001b[1;32m      3\u001b[0m \u001b[0ma\u001b[0m \u001b[0;34m=\u001b[0m \u001b[0;34m[\u001b[0m\u001b[0;36m1\u001b[0m\u001b[0;34m,\u001b[0m\u001b[0;36m2\u001b[0m\u001b[0;34m,\u001b[0m\u001b[0;36m3\u001b[0m\u001b[0;34m]\u001b[0m           \u001b[0;31m# 타입이 달라서 타입간에 충돌이 일어나서 오류가 일어난다\u001b[0m\u001b[0;34m\u001b[0m\u001b[0;34m\u001b[0m\u001b[0m\n\u001b[0;32m----> 4\u001b[0;31m \u001b[0ma\u001b[0m\u001b[0;34m[\u001b[0m\u001b[0;36m2\u001b[0m\u001b[0;34m]\u001b[0m \u001b[0;34m+\u001b[0m \u001b[0;34m\"Hi\"\u001b[0m\u001b[0;34m\u001b[0m\u001b[0;34m\u001b[0m\u001b[0m\n\u001b[0m\u001b[1;32m      5\u001b[0m \u001b[0ma\u001b[0m\u001b[0;34m\u001b[0m\u001b[0;34m\u001b[0m\u001b[0m\n",
            "\u001b[0;31mTypeError\u001b[0m: unsupported operand type(s) for +: 'int' and 'str'"
          ]
        }
      ]
    },
    {
      "cell_type": "code",
      "source": [
        "str(a[2]) + \"Hi\"            #  타입캐스팅을 통해 타입을 맞추어 주면 +계산이 가능하다"
      ],
      "metadata": {
        "colab": {
          "base_uri": "https://localhost:8080/",
          "height": 35
        },
        "id": "LJ69_SoFoWov",
        "outputId": "1d7bbb01-e177-4249-cf51-1b658c750976"
      },
      "execution_count": 53,
      "outputs": [
        {
          "output_type": "execute_result",
          "data": {
            "text/plain": [
              "'3Hi'"
            ],
            "application/vnd.google.colaboratory.intrinsic+json": {
              "type": "string"
            }
          },
          "metadata": {},
          "execution_count": 53
        }
      ]
    },
    {
      "cell_type": "code",
      "source": [
        "a[2] = str(a[2]) + \"Hi\"           #  계산이 완료된 값을 다시 a[2]번에 넣어준다\n",
        "a"
      ],
      "metadata": {
        "colab": {
          "base_uri": "https://localhost:8080/"
        },
        "id": "xbgwRMjiozaP",
        "outputId": "a87480d4-68e1-4bdc-a3d9-83eaef58b63c"
      },
      "execution_count": 54,
      "outputs": [
        {
          "output_type": "execute_result",
          "data": {
            "text/plain": [
              "[1, 2, '3Hi']"
            ]
          },
          "metadata": {},
          "execution_count": 54
        }
      ]
    },
    {
      "cell_type": "code",
      "source": [
        "a = [1,2,3]        # 같은 타입이면 그냥 바꾸어 주어도 무방하다\n",
        "a[2] = 4\n",
        "a"
      ],
      "metadata": {
        "id": "u0VkbIsco9Jn"
      },
      "execution_count": 55,
      "outputs": []
    },
    {
      "cell_type": "code",
      "source": [
        "a[2] = 0            # 0은 널이 아님\n",
        "a"
      ],
      "metadata": {
        "colab": {
          "base_uri": "https://localhost:8080/"
        },
        "id": "PdtUQSPzpbeH",
        "outputId": "587afabf-4221-4d6f-bd9b-dff84c8018e2"
      },
      "execution_count": 58,
      "outputs": [
        {
          "output_type": "execute_result",
          "data": {
            "text/plain": [
              "[1, 2, 0]"
            ]
          },
          "metadata": {},
          "execution_count": 58
        }
      ]
    },
    {
      "cell_type": "code",
      "source": [
        "del a[2]            # del은 리스트의 값을 지워준다\n",
        "a"
      ],
      "metadata": {
        "colab": {
          "base_uri": "https://localhost:8080/"
        },
        "id": "xeFpmUaVpbpP",
        "outputId": "eb949c1d-e775-4abe-bed8-4a085da93f41"
      },
      "execution_count": 60,
      "outputs": [
        {
          "output_type": "execute_result",
          "data": {
            "text/plain": [
              "[1, 2]"
            ]
          },
          "metadata": {},
          "execution_count": 60
        }
      ]
    },
    {
      "cell_type": "code",
      "source": [
        "a = [1,2,3,4,5]\n",
        "del a[2:]              # remove와  pop 함수도 제거용 함수이다.\n",
        "a"
      ],
      "metadata": {
        "colab": {
          "base_uri": "https://localhost:8080/"
        },
        "id": "SRk2MVn2pwhe",
        "outputId": "480fef15-3fda-4bb3-f9ad-d4cc092e7f38"
      },
      "execution_count": 62,
      "outputs": [
        {
          "output_type": "execute_result",
          "data": {
            "text/plain": [
              "[1, 2]"
            ]
          },
          "metadata": {},
          "execution_count": 62
        }
      ]
    },
    {
      "cell_type": "code",
      "source": [
        "# 리스트 관련 함수\n",
        "\n",
        "# .append()    이미 만들어진 리스트에 객체를 추가할떄 활용한다\n",
        "a = [1,2,3]\n",
        "a.append(4)               # append 는 1개의 객체를 추가할수도 있고\n",
        "# a.append([5,6])           # 2차원 배열을 집어 넣을수도 있다\n",
        "a"
      ],
      "metadata": {
        "colab": {
          "base_uri": "https://localhost:8080/"
        },
        "id": "O5hsx5H-qEtf",
        "outputId": "603295f4-c92a-4254-86a2-4c2f78c25ad8"
      },
      "execution_count": 67,
      "outputs": [
        {
          "output_type": "execute_result",
          "data": {
            "text/plain": [
              "[1, 2, 3, 4]"
            ]
          },
          "metadata": {},
          "execution_count": 67
        }
      ]
    },
    {
      "cell_type": "code",
      "source": [
        "a.append([5,6])           # 2차원 배열을 집어 넣을수도 있다\n",
        "a"
      ],
      "metadata": {
        "colab": {
          "base_uri": "https://localhost:8080/"
        },
        "id": "fEvaYN04qnMX",
        "outputId": "f09a328f-5abc-498e-fda9-e2cee9a61bc7"
      },
      "execution_count": 65,
      "outputs": [
        {
          "output_type": "execute_result",
          "data": {
            "text/plain": [
              "[1, 2, 3, 4, [5, 6]]"
            ]
          },
          "metadata": {},
          "execution_count": 65
        }
      ]
    },
    {
      "cell_type": "code",
      "source": [
        "a.pop                 # pop는 제일 뒤에 있는 인덱스 객체를 지워준다\n",
        "a"
      ],
      "metadata": {
        "colab": {
          "base_uri": "https://localhost:8080/"
        },
        "id": "EVdUc47mqvZO",
        "outputId": "d191fd70-2fe9-49df-97bb-dd1bc6db9f7e"
      },
      "execution_count": 68,
      "outputs": [
        {
          "output_type": "execute_result",
          "data": {
            "text/plain": [
              "[1, 2, 3, 4]"
            ]
          },
          "metadata": {},
          "execution_count": 68
        }
      ]
    },
    {
      "cell_type": "code",
      "source": [
        "# sort() : List를 올림차순으로 정렬해준다\n",
        "\n",
        "a = [8,6,4,9,5,65,7,32]\n",
        "a.sort()\n",
        "a"
      ],
      "metadata": {
        "colab": {
          "base_uri": "https://localhost:8080/"
        },
        "id": "Zvoncbtrq28W",
        "outputId": "27a3f778-ded5-47cf-9c66-7d5b9bebee38"
      },
      "execution_count": 84,
      "outputs": [
        {
          "output_type": "execute_result",
          "data": {
            "text/plain": [
              "[4, 5, 6, 7, 8, 9, 32, 65]"
            ]
          },
          "metadata": {},
          "execution_count": 84
        }
      ]
    },
    {
      "cell_type": "code",
      "source": [
        "a.reverse()             # List를 내림차순 정렬해준다\n",
        "a"
      ],
      "metadata": {
        "colab": {
          "base_uri": "https://localhost:8080/"
        },
        "id": "RdjcpAeHwjPf",
        "outputId": "61c076ae-579f-41a2-e1c0-48f95cd50295"
      },
      "execution_count": 85,
      "outputs": [
        {
          "output_type": "execute_result",
          "data": {
            "text/plain": [
              "[65, 32, 9, 8, 7, 6, 5, 4]"
            ]
          },
          "metadata": {},
          "execution_count": 85
        }
      ]
    },
    {
      "cell_type": "code",
      "source": [
        "a= ['b','f','a','o',\"c\"]\n",
        "a.sort()\n",
        "a"
      ],
      "metadata": {
        "colab": {
          "base_uri": "https://localhost:8080/"
        },
        "id": "b1ebKHIyxOtW",
        "outputId": "6ce6f5c4-460b-4fc5-8b02-b1a133bd678a"
      },
      "execution_count": 92,
      "outputs": [
        {
          "output_type": "execute_result",
          "data": {
            "text/plain": [
              "['a', 'b', 'c', 'f', 'o']"
            ]
          },
          "metadata": {},
          "execution_count": 92
        }
      ]
    },
    {
      "cell_type": "code",
      "source": [
        "a = [\"김기원\",\"김지선\",\"윤인영\",\"유병철\"]\n",
        "a.sort()\n",
        "a"
      ],
      "metadata": {
        "colab": {
          "base_uri": "https://localhost:8080/"
        },
        "id": "MZOAVfQwxlqm",
        "outputId": "1a02d06a-3221-46d6-e929-21ba1e1902d6"
      },
      "execution_count": 93,
      "outputs": [
        {
          "output_type": "execute_result",
          "data": {
            "text/plain": [
              "['김기원', '김지선', '유병철', '윤인영']"
            ]
          },
          "metadata": {},
          "execution_count": 93
        }
      ]
    },
    {
      "cell_type": "code",
      "source": [
        "a = [6,\"김기원\",\"ai\",'e']\n",
        "a.sort()                                       # 타입이 안맞으면 오류가 난다\n",
        "a"
      ],
      "metadata": {
        "colab": {
          "base_uri": "https://localhost:8080/",
          "height": 183
        },
        "id": "ln-ZYzP8xaqG",
        "outputId": "de3d74bf-f4ca-4b4f-e20c-db6c08d5df5e"
      },
      "execution_count": 91,
      "outputs": [
        {
          "output_type": "error",
          "ename": "TypeError",
          "evalue": "'<' not supported between instances of 'str' and 'int'",
          "traceback": [
            "\u001b[0;31m---------------------------------------------------------------------------\u001b[0m",
            "\u001b[0;31mTypeError\u001b[0m                                 Traceback (most recent call last)",
            "\u001b[0;32m<ipython-input-91-d4e887cc72a7>\u001b[0m in \u001b[0;36m<cell line: 2>\u001b[0;34m()\u001b[0m\n\u001b[1;32m      1\u001b[0m \u001b[0ma\u001b[0m \u001b[0;34m=\u001b[0m \u001b[0;34m[\u001b[0m\u001b[0;36m6\u001b[0m\u001b[0;34m,\u001b[0m\u001b[0;34m\"김기원\"\u001b[0m\u001b[0;34m,\u001b[0m\u001b[0;34m\"ai\"\u001b[0m\u001b[0;34m,\u001b[0m\u001b[0;34m'e'\u001b[0m\u001b[0;34m]\u001b[0m\u001b[0;34m\u001b[0m\u001b[0;34m\u001b[0m\u001b[0m\n\u001b[0;32m----> 2\u001b[0;31m \u001b[0ma\u001b[0m\u001b[0;34m.\u001b[0m\u001b[0msort\u001b[0m\u001b[0;34m(\u001b[0m\u001b[0;34m)\u001b[0m\u001b[0;34m\u001b[0m\u001b[0;34m\u001b[0m\u001b[0m\n\u001b[0m\u001b[1;32m      3\u001b[0m \u001b[0ma\u001b[0m\u001b[0;34m\u001b[0m\u001b[0;34m\u001b[0m\u001b[0m\n",
            "\u001b[0;31mTypeError\u001b[0m: '<' not supported between instances of 'str' and 'int'"
          ]
        }
      ]
    },
    {
      "cell_type": "code",
      "source": [
        "# 인덱스 반환 index(2)    괄호 안에있는 값의 해당하는 인덱스를 반환해준다\n",
        "\n",
        "a = [1,3,2]\n",
        "a.index(2)"
      ],
      "metadata": {
        "colab": {
          "base_uri": "https://localhost:8080/"
        },
        "id": "-r4pTeNZx92O",
        "outputId": "8ab1f807-a25f-48da-b695-a31fd0ec051e"
      },
      "execution_count": 95,
      "outputs": [
        {
          "output_type": "execute_result",
          "data": {
            "text/plain": [
              "2"
            ]
          },
          "metadata": {},
          "execution_count": 95
        }
      ]
    },
    {
      "cell_type": "code",
      "source": [
        "# 리스트의 앞에 샆입 insert (원하는 인덱스 자리 , 값)\n",
        "a = [1,2,3]\n",
        "a.insert(0,4)         #  0번지의 4값을 추가하고 기존값은 인덱스가 밀린다\n",
        "a"
      ],
      "metadata": {
        "colab": {
          "base_uri": "https://localhost:8080/"
        },
        "id": "_A8qWyYqx9zh",
        "outputId": "aa091618-9c2e-46af-f7d5-056f2c0f06cb"
      },
      "execution_count": 97,
      "outputs": [
        {
          "output_type": "execute_result",
          "data": {
            "text/plain": [
              "[4, 1, 2, 3]"
            ]
          },
          "metadata": {},
          "execution_count": 97
        }
      ]
    },
    {
      "cell_type": "code",
      "source": [
        "a.insert(3,5)            # 인덱스 3값에 5를 추가하고 기존값은 인덱스가 밀린다\n",
        "a"
      ],
      "metadata": {
        "colab": {
          "base_uri": "https://localhost:8080/"
        },
        "id": "dgBTaLWsx9we",
        "outputId": "f0af75d1-34c1-4302-de4d-fed46ce430fa"
      },
      "execution_count": 99,
      "outputs": [
        {
          "output_type": "execute_result",
          "data": {
            "text/plain": [
              "[4, 1, 2, 5, 5, 3]"
            ]
          },
          "metadata": {},
          "execution_count": 99
        }
      ]
    },
    {
      "cell_type": "code",
      "source": [
        "a.remove(3)       # remove(3) 의 값이 제거 된다\n",
        "a"
      ],
      "metadata": {
        "id": "deN5wKmFx9AO"
      },
      "execution_count": null,
      "outputs": []
    },
    {
      "cell_type": "code",
      "source": [
        "b = [3,2,1,3,2,4,3,5,1]\n",
        "b.remove(3)             #  3의 값이 지워지대 앞에 있는 요소를 제거한다\n",
        "b"
      ],
      "metadata": {
        "colab": {
          "base_uri": "https://localhost:8080/"
        },
        "id": "GyGgJoRYzDxo",
        "outputId": "213d7ff9-9586-40ef-fc2d-b5ef5fef8177"
      },
      "execution_count": 104,
      "outputs": [
        {
          "output_type": "execute_result",
          "data": {
            "text/plain": [
              "[2, 1, 3, 2, 4, 3, 5, 1]"
            ]
          },
          "metadata": {},
          "execution_count": 104
        }
      ]
    },
    {
      "cell_type": "code",
      "source": [
        "b.remove(3)\n",
        "b"
      ],
      "metadata": {
        "colab": {
          "base_uri": "https://localhost:8080/"
        },
        "id": "pbXWeUctzDuO",
        "outputId": "3be16c08-1154-49d5-8f8a-5baec40ed13a"
      },
      "execution_count": 105,
      "outputs": [
        {
          "output_type": "execute_result",
          "data": {
            "text/plain": [
              "[2, 1, 2, 4, 3, 5, 1]"
            ]
          },
          "metadata": {},
          "execution_count": 105
        }
      ]
    },
    {
      "cell_type": "code",
      "source": [
        "# list 요소 끄집어내기  .pop(인덱스)    기존적으로 공백으로 두면 마지막 요소를 제거한다\n",
        "\n",
        "c = [1,2,3,4,5,6]\n",
        "c.pop()\n",
        "c"
      ],
      "metadata": {
        "colab": {
          "base_uri": "https://localhost:8080/"
        },
        "id": "-jGX0zfx0dm4",
        "outputId": "3a659a5c-dc00-41ed-9334-701cebad3e47"
      },
      "execution_count": 114,
      "outputs": [
        {
          "output_type": "execute_result",
          "data": {
            "text/plain": [
              "[1, 2, 3, 4, 5]"
            ]
          },
          "metadata": {},
          "execution_count": 114
        }
      ]
    },
    {
      "cell_type": "code",
      "source": [
        "c.pop(4)"
      ],
      "metadata": {
        "colab": {
          "base_uri": "https://localhost:8080/"
        },
        "id": "Zj944xth0dgN",
        "outputId": "f0477ca9-5b84-420a-cddd-1e87a4a54163"
      },
      "execution_count": 115,
      "outputs": [
        {
          "output_type": "execute_result",
          "data": {
            "text/plain": [
              "5"
            ]
          },
          "metadata": {},
          "execution_count": 115
        }
      ]
    },
    {
      "cell_type": "code",
      "source": [
        "c"
      ],
      "metadata": {
        "colab": {
          "base_uri": "https://localhost:8080/"
        },
        "id": "Kg-8PTh01kAm",
        "outputId": "438f3959-75d6-4fea-a2cc-c030ae3dc623"
      },
      "execution_count": 116,
      "outputs": [
        {
          "output_type": "execute_result",
          "data": {
            "text/plain": [
              "[1, 2, 3, 4]"
            ]
          },
          "metadata": {},
          "execution_count": 116
        }
      ]
    },
    {
      "cell_type": "code",
      "source": [
        "c.count(2)"
      ],
      "metadata": {
        "colab": {
          "base_uri": "https://localhost:8080/"
        },
        "id": "VXD6xGah0dbu",
        "outputId": "7ae25086-8205-42de-9ea1-864573d79948"
      },
      "execution_count": 117,
      "outputs": [
        {
          "output_type": "execute_result",
          "data": {
            "text/plain": [
              "1"
            ]
          },
          "metadata": {},
          "execution_count": 117
        }
      ]
    },
    {
      "cell_type": "code",
      "source": [
        "d = [3,2,1,3,2,3,3,3,4,5,2,3,4,5,2,3,4,5,2]      #   count(값) 을 입력하면 리스트에 존재 하는 같은 값의 수를 반환해준다\n",
        "d.count(3)"
      ],
      "metadata": {
        "colab": {
          "base_uri": "https://localhost:8080/"
        },
        "id": "Gan8f44r1thd",
        "outputId": "006bce4e-7b90-405c-e666-d08e8dbf4b0b"
      },
      "execution_count": 118,
      "outputs": [
        {
          "output_type": "execute_result",
          "data": {
            "text/plain": [
              "7"
            ]
          },
          "metadata": {},
          "execution_count": 118
        }
      ]
    },
    {
      "cell_type": "code",
      "source": [
        "len(d)"
      ],
      "metadata": {
        "colab": {
          "base_uri": "https://localhost:8080/"
        },
        "id": "3vI5Hw2s1tfF",
        "outputId": "9e8b38c0-dd9e-4d91-914a-5825844f4e37"
      },
      "execution_count": 119,
      "outputs": [
        {
          "output_type": "execute_result",
          "data": {
            "text/plain": [
              "19"
            ]
          },
          "metadata": {},
          "execution_count": 119
        }
      ]
    },
    {
      "cell_type": "code",
      "source": [
        "# 리스트 확장 extend(x)    리스트만 올수 있으며 x[x] + x[x]\n",
        "\n",
        "e = [1,2,3]\n",
        "e.extend([4,5])    # 리쇼ㅡ트 추가\n",
        "e"
      ],
      "metadata": {
        "colab": {
          "base_uri": "https://localhost:8080/"
        },
        "id": "fLX-uy3c1tcm",
        "outputId": "f2942512-a296-47b4-a8fe-2382ac3ef5b3"
      },
      "execution_count": 121,
      "outputs": [
        {
          "output_type": "execute_result",
          "data": {
            "text/plain": [
              "[1, 2, 3, 4, 5]"
            ]
          },
          "metadata": {},
          "execution_count": 121
        }
      ]
    },
    {
      "cell_type": "code",
      "source": [
        "f = [6,7,8]\n",
        "e.extend(f)\n",
        "e"
      ],
      "metadata": {
        "colab": {
          "base_uri": "https://localhost:8080/"
        },
        "id": "RrzSvlSm1tZ-",
        "outputId": "df9d5be5-bbf1-4afd-ba93-58432c8e44ad"
      },
      "execution_count": 122,
      "outputs": [
        {
          "output_type": "execute_result",
          "data": {
            "text/plain": [
              "[1, 2, 3, 4, 5, 6, 7, 8]"
            ]
          },
          "metadata": {},
          "execution_count": 122
        }
      ]
    },
    {
      "cell_type": "code",
      "source": [],
      "metadata": {
        "id": "q6PcWAK_zDq_"
      },
      "execution_count": null,
      "outputs": []
    },
    {
      "cell_type": "markdown",
      "source": [
        "sort 함수 제작"
      ],
      "metadata": {
        "id": "I1UQlR_O288G"
      }
    },
    {
      "cell_type": "code",
      "source": [
        "a = [8,6,4,9,5,65,7,32]\n",
        "i=0\n",
        "c=0\n",
        "temp = []\n",
        "for c in range(len(a)):\n",
        "  for i in range(len(a)):\n",
        "    if i<len(a)-1:\n",
        "      if a[i]>a[i+1]:\n",
        "        temp.append(a[i])\n",
        "        a[i] = a[i+1]\n",
        "        a[i+1] = temp[i]\n",
        "      else:\n",
        "        temp.append(a[i])\n",
        "  i = 0\n",
        "a"
      ],
      "metadata": {
        "colab": {
          "base_uri": "https://localhost:8080/"
        },
        "id": "ov2kZk9qrdB_",
        "outputId": "97546c56-e780-4486-fbb1-670284f38f16"
      },
      "execution_count": 111,
      "outputs": [
        {
          "output_type": "execute_result",
          "data": {
            "text/plain": [
              "[4, 5, 7, 8, 9, 9, 32, 65]"
            ]
          },
          "metadata": {},
          "execution_count": 111
        }
      ]
    },
    {
      "cell_type": "code",
      "source": [
        "for i=o, i<100: i++:"
      ],
      "metadata": {
        "id": "3Nuz8eYUutPu"
      },
      "execution_count": null,
      "outputs": []
    }
  ]
}