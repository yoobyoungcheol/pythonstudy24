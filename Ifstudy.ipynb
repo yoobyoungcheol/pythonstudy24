{
  "nbformat": 4,
  "nbformat_minor": 0,
  "metadata": {
    "colab": {
      "provenance": [],
      "authorship_tag": "ABX9TyNjE1ve337wotDvCNzHC7g+",
      "include_colab_link": true
    },
    "kernelspec": {
      "name": "python3",
      "display_name": "Python 3"
    },
    "language_info": {
      "name": "python"
    }
  },
  "cells": [
    {
      "cell_type": "markdown",
      "metadata": {
        "id": "view-in-github",
        "colab_type": "text"
      },
      "source": [
        "<a href=\"https://colab.research.google.com/github/yoobyoungcheol/pythonstudy24/blob/master/Ifstudy.ipynb\" target=\"_parent\"><img src=\"https://colab.research.google.com/assets/colab-badge.svg\" alt=\"Open In Colab\"/></a>"
      ]
    },
    {
      "cell_type": "markdown",
      "source": [
        "프로그램에 판단을 할 수 있는 조건문인 If를 사용해본다.\n",
        "\n",
        "1. if문은 만약에 라는 의미를 가지고 있으며 결과는 참과 거짓으로 판별한다.\n",
        "2. 파이썬은 자바랑 다르게 줄맞춤을 중요시해야한다."
      ],
      "metadata": {
        "id": "3S-1S489nwx4"
      }
    },
    {
      "cell_type": "code",
      "execution_count": 7,
      "metadata": {
        "colab": {
          "base_uri": "https://localhost:8080/"
        },
        "id": "ZUA7V6I2fCN4",
        "outputId": "ba7d2cf6-ca13-432c-80a3-58ec53d3d9a5"
      },
      "outputs": [
        {
          "output_type": "stream",
          "name": "stdout",
          "text": [
            "택시를 타고 가라\n",
            "모범택시는 비싸니 다음 택시를 기다려라\n",
            "택시가 안보이면 카카오택시를 불러라\n"
          ]
        }
      ],
      "source": [
        "# 돈이 있으면 tax를 타고가고 돈이 없으면 걸어간다.     If 문의 조건이 True 일때\n",
        "money = True        # 돈이 있으면\n",
        "if money:           # 파이썬에는 {}이 없어서 콜론으로 구분을 구분한다.\n",
        "  print(\"택시를 타고 가라\")     # if조건의 정의가 True 일떄 : 하위 처리를 위해서 띄어쓰기를 진행한다.  ex(기본은 4번 가독성의 ↑)\n",
        "  print(\"모범택시는 비싸니 다음 택시를 기다려라\")\n",
        "  print(\"택시가 안보이면 카카오택시를 불러라\")\n",
        "else:               #  if조건의 정의가 False 일때\n",
        "  print(\"============\")\n",
        "  print(\"걸어가라\")  #  False 일때의 명령어\n",
        "  print(\"============\")"
      ]
    },
    {
      "cell_type": "code",
      "source": [
        "# 돈이 있으면 tax를 타고가고 돈이 없으면 걸어간다.     If 문의 조건이 False 일때\n",
        "money = False        # 돈이 있으면\n",
        "if money:           # 파이썬에는 {}이 없어서 콜론으로 구분을 구분한다.\n",
        "  print(\"택시를 타고 가라\")     # if조건의 정의가 True 일떄 : 하위 처리를 위해서 띄어쓰기를 진행한다.  ex(기본은 4번)\n",
        "  print(\"모범택시는 비싸니 다음 택시를 기다려라\")\n",
        "  print(\"택시가 안보이면 카카오택시를 불러라\")\n",
        "else:               #  if조건의 정의가 False 일때\n",
        "  print(\"============\")\n",
        "  print(\"걸어가라\")  #  False 일때의 명령어\n",
        "  print(\"============\")"
      ],
      "metadata": {
        "colab": {
          "base_uri": "https://localhost:8080/"
        },
        "id": "4Y9bgcscta8B",
        "outputId": "4cc5b1d8-1db3-4c38-895a-f1fa6b6a4501"
      },
      "execution_count": 8,
      "outputs": [
        {
          "output_type": "stream",
          "name": "stdout",
          "text": [
            "============\n",
            "걸어가라\n",
            "============\n"
          ]
        }
      ]
    },
    {
      "cell_type": "code",
      "source": [
        "# 문 3000원 이상의 돈이 있을때만 택시를 타고가게 만들어라\n",
        "money = 2000\n",
        "\n",
        "if money >= 3000:    # if뒤의 문장이 조건이 됀다 (마무리는 :(콜론))\n",
        "  print(\"택시를 타고가라\")   # True\n",
        "else:\n",
        "  print(\"걸어 가라 \")     # False"
      ],
      "metadata": {
        "colab": {
          "base_uri": "https://localhost:8080/"
        },
        "id": "elQa8PO2uPV4",
        "outputId": "f5fc5a8e-64ac-4da8-8830-76e6680b06a2"
      },
      "execution_count": 9,
      "outputs": [
        {
          "output_type": "stream",
          "name": "stdout",
          "text": [
            "걸어 가라 \n"
          ]
        }
      ]
    },
    {
      "cell_type": "code",
      "source": [
        "money = 6000\n",
        "\n",
        "if money >= 3000:    # if뒤의 문장이 조건이 됀다 (마무리는 :(콜론))\n",
        "  print(\"택시를 타고가라\")   # True\n",
        "else:\n",
        "  print(\"걸어 가라 \")     # False"
      ],
      "metadata": {
        "colab": {
          "base_uri": "https://localhost:8080/"
        },
        "id": "4Gk_P0UJwOJB",
        "outputId": "09266b42-3291-49d6-8fef-dd46c8cd4a9c"
      },
      "execution_count": 10,
      "outputs": [
        {
          "output_type": "stream",
          "name": "stdout",
          "text": [
            "택시를 타고가라\n"
          ]
        }
      ]
    },
    {
      "cell_type": "code",
      "source": [
        "# x or y 라는 -> 둘중 하나만 참이어도 참을 리턴한다.\n",
        "# x and y -> 둘다 참이어야만 참을 리턴한다\n",
        "# not x -> x의 반대\n",
        "\n",
        "# 돈이 3000원 이상 있거나 카드가 있다면 택시를 타고가고 아니면 걸어가라\n",
        "\n",
        "money = 2000\n",
        "card = True\n",
        "\n",
        "if money >=2000 or card:\n",
        "    print(\"택시를 타고 가라\")\n",
        "else:\n",
        "    print(\"걸어가라\")"
      ],
      "metadata": {
        "colab": {
          "base_uri": "https://localhost:8080/"
        },
        "id": "7j0OCQ_twSuv",
        "outputId": "ce4b6119-d655-41ca-c926-262509412f71"
      },
      "execution_count": 11,
      "outputs": [
        {
          "output_type": "stream",
          "name": "stdout",
          "text": [
            "택시를 타고 가라\n"
          ]
        }
      ]
    },
    {
      "cell_type": "code",
      "source": [
        "pocket = {\"money\":2000,\"card\":True}\n",
        "pocket[\"money\"]"
      ],
      "metadata": {
        "colab": {
          "base_uri": "https://localhost:8080/"
        },
        "id": "baH-LxZMx0iR",
        "outputId": "52027faf-8d4c-4e43-d253-4053533dde42"
      },
      "execution_count": 22,
      "outputs": [
        {
          "output_type": "execute_result",
          "data": {
            "text/plain": [
              "2000"
            ]
          },
          "metadata": {},
          "execution_count": 22
        }
      ]
    },
    {
      "cell_type": "code",
      "source": [
        "if pocket[\"money\"]>=2000 or poket[\"card\"]:\n",
        "    print(\"택시를 타고 가라\")\n",
        "else:\n",
        "    print(\"걸어가라\")"
      ],
      "metadata": {
        "colab": {
          "base_uri": "https://localhost:8080/"
        },
        "id": "thM0i0y8yd3Q",
        "outputId": "2dd44692-8585-4376-e2dd-3670d16bb212"
      },
      "execution_count": 23,
      "outputs": [
        {
          "output_type": "stream",
          "name": "stdout",
          "text": [
            "택시를 타고 가라\n"
          ]
        }
      ]
    },
    {
      "cell_type": "code",
      "source": [
        "# in(들어있는) 과 not in(들어있지 않은)\n",
        "# x in 리스트   x not in 리스트\n",
        "# x in 튜플   x not in 튜플\n",
        "# x in 문자열   x not in 문자열           문자열도 배열\n",
        "\n",
        "1 in [1,2,3]          # 들어있으니 True       리스트"
      ],
      "metadata": {
        "colab": {
          "base_uri": "https://localhost:8080/"
        },
        "id": "Yb2-9Vuiyz7Y",
        "outputId": "991aaea8-2fe6-4cdf-d12e-c9087dfdddb6"
      },
      "execution_count": 24,
      "outputs": [
        {
          "output_type": "execute_result",
          "data": {
            "text/plain": [
              "True"
            ]
          },
          "metadata": {},
          "execution_count": 24
        }
      ]
    },
    {
      "cell_type": "code",
      "source": [
        "1 not in [1,2,3]      # 있으니 False          리스트"
      ],
      "metadata": {
        "colab": {
          "base_uri": "https://localhost:8080/"
        },
        "id": "BIWiz3EUzX-w",
        "outputId": "cfe3ee96-1db3-49b3-b3a2-9275b0ee087e"
      },
      "execution_count": 25,
      "outputs": [
        {
          "output_type": "execute_result",
          "data": {
            "text/plain": [
              "False"
            ]
          },
          "metadata": {},
          "execution_count": 25
        }
      ]
    },
    {
      "cell_type": "code",
      "source": [
        "'a' in ('a','b','c')  # 있으니 True           튜플"
      ],
      "metadata": {
        "colab": {
          "base_uri": "https://localhost:8080/"
        },
        "id": "S26mhmUtzhgn",
        "outputId": "e49af955-b317-4da2-94f7-74872945819a"
      },
      "execution_count": 26,
      "outputs": [
        {
          "output_type": "execute_result",
          "data": {
            "text/plain": [
              "True"
            ]
          },
          "metadata": {},
          "execution_count": 26
        }
      ]
    },
    {
      "cell_type": "code",
      "source": [
        "'j' not in 'Python'   # 없으니 True           문자열"
      ],
      "metadata": {
        "colab": {
          "base_uri": "https://localhost:8080/"
        },
        "id": "im4onpBAzwnw",
        "outputId": "56d0bb52-04f5-4a02-9fe0-7fefd5efd7f4"
      },
      "execution_count": 28,
      "outputs": [
        {
          "output_type": "execute_result",
          "data": {
            "text/plain": [
              "True"
            ]
          },
          "metadata": {},
          "execution_count": 28
        }
      ]
    },
    {
      "cell_type": "code",
      "source": [
        "# 만약에 주머니에 돈이 있으면 택시를 타고가고 없으면 걸어가라\n",
        "\n",
        "pocket = [\"paper\",\"money\",\"cellphone\"]\n",
        "\n",
        "if \"money\" in poket:\n",
        "    print(\"택시를 타고 가라\")\n",
        "else:\n",
        "    print(\"걸어가라\")"
      ],
      "metadata": {
        "colab": {
          "base_uri": "https://localhost:8080/"
        },
        "id": "0qfCY7VIz7__",
        "outputId": "ddbe396c-fea1-449c-d842-a3568b92400c"
      },
      "execution_count": 32,
      "outputs": [
        {
          "output_type": "stream",
          "name": "stdout",
          "text": [
            "택시를 타고 가라\n"
          ]
        }
      ]
    },
    {
      "cell_type": "code",
      "source": [
        "# 조건문에서 아무일도 하지않게 설정하고 싶을때\n",
        "# 조건문의 참,거짓에 따라 실행할 행동을 정의 할때나 아무런일도 하지않도록 설정하고 싶을 때\n",
        "\n",
        "# 주머니의 돈이 있으면 가만히 있고 주머니에 돈이 없으면 카드를 꺼내라\n",
        "\n",
        "pocket = [\"paper\",\"money\",\"smartphone\"]\n",
        "\n",
        "if \"money\" in pocket:\n",
        "    pass                # skip같은 의미\n",
        "else:\n",
        "    print(\"카드를 꺼내라\")"
      ],
      "metadata": {
        "id": "3pS0uvpK3IzQ"
      },
      "execution_count": 33,
      "outputs": []
    },
    {
      "cell_type": "code",
      "source": [
        "# 조건문에서 아무일도 하지않게 설정하고 싶을때\n",
        "# 조건문의 참,거짓에 따라 실행할 행동을 정의 할때나 아무런일도 하지않도록 설정하고 싶을 때\n",
        "\n",
        "# 주머니의 돈이 있으면 가만히 있고 주머니에 돈이 없으면 카드를 꺼내라\n",
        "\n",
        "pocket = [\"paper\",\"card\",\"smartphone\"]\n",
        "\n",
        "if \"money\" in pocket:\n",
        "    pass                # skip같은 의미\n",
        "else:\n",
        "    print(\"카드를 꺼내라\")"
      ],
      "metadata": {
        "colab": {
          "base_uri": "https://localhost:8080/"
        },
        "id": "pah_yEXp7FCJ",
        "outputId": "d6917de0-b841-4c82-d92a-82609b58e97a"
      },
      "execution_count": 34,
      "outputs": [
        {
          "output_type": "stream",
          "name": "stdout",
          "text": [
            "카드를 꺼내라\n"
          ]
        }
      ]
    },
    {
      "cell_type": "code",
      "source": [
        "# 주머니에 돈이 있으면 택시를 타고 가고\n",
        "# 주머니에 돈이 없지만 카드가 있으면 택시를 타고 가고\n",
        "# 주머니에 돈도 없고 카드도 없으면 걸어가라\n",
        "\n",
        "pocket = [\"paper\",\"cellphone\"]\n",
        "\n",
        "if \"money\" in pocket:\n",
        "    print(\"택시를 타고 가라\")\n",
        "elif \"card\" in pocket:\n",
        "    print(\"택시를 타고 가라\")\n",
        "else:\n",
        "    print(\"걸어가라\")\n"
      ],
      "metadata": {
        "colab": {
          "base_uri": "https://localhost:8080/"
        },
        "id": "HWA9bVP78hy4",
        "outputId": "8cb6a089-1e15-4a03-cb69-587e8c526899"
      },
      "execution_count": 38,
      "outputs": [
        {
          "output_type": "stream",
          "name": "stdout",
          "text": [
            "걸어가라\n"
          ]
        }
      ]
    },
    {
      "cell_type": "code",
      "source": [
        "# 패션코딩 => 최대한 간결하게 코딩하는 비법\n",
        "pocket = [\"paper\",\"cellphone\"]\n",
        "if \"money\" in pocket:print(\"택시를 타고 가라\")\n",
        "elif \"card\" in pocket:print(\"택시를 타고 가라\")\n",
        "else:print(\"걸어가라\")"
      ],
      "metadata": {
        "id": "5wP-GQVG8WWh"
      },
      "execution_count": null,
      "outputs": []
    },
    {
      "cell_type": "code",
      "source": [
        "# 시험점수가 60점 이상이면 success 아니면 fallure를 변수에 담아 출력해보자\n",
        "\n",
        "print(\"스코어를 입력하세요\")\n",
        "score = int(input())\n",
        "\n",
        "if score >= 60:\n",
        "    message = \"success\"\n",
        "else:\n",
        "    message = \"failure\"\n",
        "\n",
        "print(message)"
      ],
      "metadata": {
        "colab": {
          "base_uri": "https://localhost:8080/"
        },
        "id": "wFu__Wc6_Zmo",
        "outputId": "b6795936-6677-4c10-fd95-7195a38bea2d"
      },
      "execution_count": 50,
      "outputs": [
        {
          "output_type": "stream",
          "name": "stdout",
          "text": [
            "스코어를 입력하세요\n",
            "45\n",
            "failure\n"
          ]
        }
      ]
    },
    {
      "cell_type": "code",
      "source": [
        "# 파이썬의 조건부 표현식\n",
        "# 변수 = 참인 경우의 값을 작성하고 조건문을 작성하고 거짓인 경우의 값을 작성한다.\n",
        "score = 44\n",
        "message = \"success\" if score >= 60 else \"failure\"\n",
        "print(message)"
      ],
      "metadata": {
        "colab": {
          "base_uri": "https://localhost:8080/"
        },
        "id": "Rb5yVJWI_uAn",
        "outputId": "017d38f9-0d72-45c6-d956-2985902ca37c"
      },
      "execution_count": 49,
      "outputs": [
        {
          "output_type": "stream",
          "name": "stdout",
          "text": [
            "failure\n"
          ]
        }
      ]
    },
    {
      "cell_type": "code",
      "source": [
        "score = 14\n",
        "message = \"success\" if score >= 60 else \"failure\" if score >=20 else \"False\"    #  중복 작성 코드\n",
        "print(message)"
      ],
      "metadata": {
        "colab": {
          "base_uri": "https://localhost:8080/"
        },
        "id": "ZIOqY9TI_-B6",
        "outputId": "067ef671-ea9d-413c-d69b-5781743d3b47"
      },
      "execution_count": 52,
      "outputs": [
        {
          "output_type": "stream",
          "name": "stdout",
          "text": [
            "False\n"
          ]
        }
      ]
    },
    {
      "cell_type": "code",
      "source": [
        "# 미션\n",
        "# 성적처리용 코드 작성 A 등급 ~ F등급까지 출력\n",
        "\n",
        "# elif if문을 한번더 비교하는 조건문 사용횟수 무제한\n",
        "\n",
        "name = str(input(\"이름을 입력하세요 : \"))             # 이름을 변수로 입력하여 준다\n",
        "score = int(input(\"점수를 입력하세요 : \"))            # 점수를 변수로 입력하여 준다\n",
        "\n",
        "if 0<=score<=100:\n",
        "    if score>=90:\n",
        "        print(f\"%s님의 점수는 %d점이고 A학점입니다\"%(name,score))\n",
        "    elif score>=80:\n",
        "        print(f\"%s님의 점수는 %d점이고 B학점입니다\"%(name,score))\n",
        "    elif score>=70:\\\n",
        "        print(f\"%s님의 점수는 %d점이고 C학점입니다\"%(name,score))\n",
        "    elif score>=60:\n",
        "        print(f\"%s님의 점수는 %d점이고 D학점입니다\"%(name,score))\n",
        "    else:\n",
        "        print(f\"%s님의 점수는 %d점이고 F학점입니다\"%(name,score))\n",
        "else:\n",
        "    print(\"잘못된 점수입니다.\")\n"
      ],
      "metadata": {
        "colab": {
          "base_uri": "https://localhost:8080/"
        },
        "id": "jutG5FpVAwLA",
        "outputId": "2ef824fe-6dc4-44a7-9116-4de31ce7058a"
      },
      "execution_count": 57,
      "outputs": [
        {
          "output_type": "stream",
          "name": "stdout",
          "text": [
            "이름을 입력하세요 : 유병철\n",
            "점수를 입력하세요 : 68\n",
            "유병철님의 점수는 68점이고 D학점입니다\n"
          ]
        }
      ]
    },
    {
      "cell_type": "code",
      "source": [
        "from os import NGROUPS_MAX\n",
        "from ast import Num\n",
        "num = {}\n",
        "name = []\n",
        "score = []\n",
        "i=0\n",
        "while True:\n",
        "    print(\"등록된 학생 수 확인하기 : C\")\n",
        "    print(\"학생이름과 점수추가하기 : E\")\n",
        "    print(\"학생 이름으로 학점 확인하기 : P\")\n",
        "    print(\"프로그램 종료 : F\")\n",
        "    chice = str(input(\"선택 : \"))\n",
        "    match chice:\n",
        "        case \"C\":\n",
        "            print(f\"등록된 총 학생수는 : %d명입니다.\"%i)\n",
        "        case \"F\":\n",
        "            print(\"프로그램을 종료합니다.\")\n",
        "            break\n",
        "        case \"E\":\n",
        "            name.append(str(input(\"이름을 입력하세요 : \"))  )           # 이름을 변수로 입력하여 준다\n",
        "            score.append(int(input(\"점수를 입력하세요 : \")))            # 점수를 변수로 입력하여 준다\n",
        "            num[name[i]] = score[i]\n",
        "            i = i+1\n",
        "        case \"P\":\n",
        "            token = str(input(\"학점을 확인할 사람이름을 입력하세요 : \"))\n",
        "            print(num.get(token))\n",
        "            if 0<=num.get(token)<=100:\n",
        "                if num.get(token)>=90:\n",
        "                    print(f\"%s님의 점수는 %d점이고 A학점입니다\"%(token,num.get(token)))\n",
        "                elif num.get(token)>=80:\n",
        "                    print(f\"%s님의 점수는 %d점이고 B학점입니다\"%(token,num.get(token)))\n",
        "                elif num.get(token)>=70:\\\n",
        "                    print(f\"%s님의 점수는 %d점이고 C학점입니다\"%(token,num.get(token)))\n",
        "                elif num.get(token)>=60:\n",
        "                    print(f\"%s님의 점수는 %d점이고 D학점입니다\"%(token,num.get(token)))\n",
        "                else:\n",
        "                    print(f\"%s님의 점수는 %d점이고 F학점입니다\"%(token,num.get(token)))\n",
        "            else:\n",
        "                print(\"잘못된 점수입니다.\")"
      ],
      "metadata": {
        "colab": {
          "base_uri": "https://localhost:8080/"
        },
        "id": "-bdlP69lCrtI",
        "outputId": "ddd42406-dde0-4dee-c160-cfcc5a634bfe"
      },
      "execution_count": 94,
      "outputs": [
        {
          "output_type": "stream",
          "name": "stdout",
          "text": [
            "등록된 학생 수 확인하기 : C\n",
            "학생이름과 점수추가하기 : E\n",
            "학생 이름으로 학점 확인하기 : P\n",
            "프로그램 종료 : F\n",
            "선택 : ㄸ\n",
            "등록된 학생 수 확인하기 : C\n",
            "학생이름과 점수추가하기 : E\n",
            "학생 이름으로 학점 확인하기 : P\n",
            "프로그램 종료 : F\n",
            "선택 : E\n",
            "이름을 입력하세요 : 유병철\n",
            "점수를 입력하세요 : 78\n",
            "등록된 학생 수 확인하기 : C\n",
            "학생이름과 점수추가하기 : E\n",
            "학생 이름으로 학점 확인하기 : P\n",
            "프로그램 종료 : F\n",
            "선택 : P\n",
            "학점을 확인할 사람이름을 입력하세요 : 유병철\n",
            "78\n",
            "유병철님의 점수는 78점이고 C학점입니다\n",
            "등록된 학생 수 확인하기 : C\n",
            "학생이름과 점수추가하기 : E\n",
            "학생 이름으로 학점 확인하기 : P\n",
            "프로그램 종료 : F\n",
            "선택 : C\n",
            "등록된 총 학생수는 : 1명입니다.\n",
            "등록된 학생 수 확인하기 : C\n",
            "학생이름과 점수추가하기 : E\n",
            "학생 이름으로 학점 확인하기 : P\n",
            "프로그램 종료 : F\n",
            "선택 : F\n",
            "프로그램을 종료합니다.\n"
          ]
        }
      ]
    }
  ]
}