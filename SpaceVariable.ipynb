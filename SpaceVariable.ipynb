{
  "nbformat": 4,
  "nbformat_minor": 0,
  "metadata": {
    "colab": {
      "provenance": [],
      "authorship_tag": "ABX9TyPRvfeFlTSTX4h/cBl4wsFw",
      "include_colab_link": true
    },
    "kernelspec": {
      "name": "python3",
      "display_name": "Python 3"
    },
    "language_info": {
      "name": "python"
    }
  },
  "cells": [
    {
      "cell_type": "markdown",
      "metadata": {
        "id": "view-in-github",
        "colab_type": "text"
      },
      "source": [
        "<a href=\"https://colab.research.google.com/github/yoobyoungcheol/pythonstudy24/blob/master/SpaceVariable.ipynb\" target=\"_parent\"><img src=\"https://colab.research.google.com/assets/colab-badge.svg\" alt=\"Open In Colab\"/></a>"
      ]
    },
    {
      "cell_type": "markdown",
      "source": [
        "자료형의값을 저장하는 공간과 변수"
      ],
      "metadata": {
        "id": "cMUNvaUXjyd-"
      }
    },
    {
      "cell_type": "code",
      "execution_count": 1,
      "metadata": {
        "id": "jbWiWdE4jcVs"
      },
      "outputs": [],
      "source": [
        "a = 1\n",
        "b = \"Python\"\n",
        "c = [1,2,3]     # 각 a,b,c가 변수이다"
      ]
    },
    {
      "cell_type": "code",
      "source": [
        "a = [1,2,3]\n",
        "b = a\n",
        "print(id(a))\n",
        "print(id(b))     # a 를 그대로 b에 추가했기에 두 변수는 같은 주소를 갖는다"
      ],
      "metadata": {
        "colab": {
          "base_uri": "https://localhost:8080/"
        },
        "id": "P6NYKyJ5j_em",
        "outputId": "ebc3d227-340f-4020-f129-3bd961b1a33a"
      },
      "execution_count": 2,
      "outputs": [
        {
          "output_type": "stream",
          "name": "stdout",
          "text": [
            "136626725483264\n",
            "136626725483264\n"
          ]
        }
      ]
    },
    {
      "cell_type": "code",
      "source": [
        "a is b            #  같은 주소를 가지고 있기에  a==b는 참이다."
      ],
      "metadata": {
        "colab": {
          "base_uri": "https://localhost:8080/"
        },
        "id": "5fUNmHw5kHF1",
        "outputId": "d0b3c2e1-28b1-4da2-e848-cf4dc3769989"
      },
      "execution_count": 3,
      "outputs": [
        {
          "output_type": "execute_result",
          "data": {
            "text/plain": [
              "True"
            ]
          },
          "metadata": {},
          "execution_count": 3
        }
      ]
    },
    {
      "cell_type": "code",
      "source": [
        "a[1] = 4          # 마찬가지로 둘은 똑같은 주소를 가지고 있으므로 a변수가 가지고있는 값을 변환하면 b도 변화한다.\n",
        "print(a)\n",
        "print(b)"
      ],
      "metadata": {
        "colab": {
          "base_uri": "https://localhost:8080/"
        },
        "id": "C9e9sgIdkKzt",
        "outputId": "00dbd202-dd4a-4cb6-c21a-9e57176b96d4"
      },
      "execution_count": 5,
      "outputs": [
        {
          "output_type": "stream",
          "name": "stdout",
          "text": [
            "[1, 4, 3]\n",
            "[1, 4, 3]\n"
          ]
        }
      ]
    },
    {
      "cell_type": "code",
      "source": [
        "a = [1,2,3]\n",
        "b= a[:]\n",
        "a[1] = 4\n",
        "print(id(a))    # [:]리스트 전체를 가리키는 이방법은 아예 변수를 다른 주소에 복사하여 가지고있는 것이므로 b가 a의 영향을 벗어난다.\n",
        "print(id(b))\n",
        "print(a)\n",
        "print(b)"
      ],
      "metadata": {
        "colab": {
          "base_uri": "https://localhost:8080/"
        },
        "id": "f-7x4OOUkbA1",
        "outputId": "08ec7035-2313-4d59-e671-a78657d62d74"
      },
      "execution_count": 7,
      "outputs": [
        {
          "output_type": "stream",
          "name": "stdout",
          "text": [
            "136626736665728\n",
            "136627767308544\n",
            "[1, 4, 3]\n",
            "[1, 2, 3]\n"
          ]
        }
      ]
    },
    {
      "cell_type": "code",
      "source": [
        "from copy import copy\n",
        "from copy import deepcopy\n",
        "a = [1,2,3]\n",
        "b = copy(a)\n",
        "print(id(a))\n",
        "print(id(b))"
      ],
      "metadata": {
        "colab": {
          "base_uri": "https://localhost:8080/"
        },
        "id": "RehaKsfNkxsW",
        "outputId": "fdea8ca3-73ee-4e86-d8b1-22ffee63bac8"
      },
      "execution_count": 10,
      "outputs": [
        {
          "output_type": "stream",
          "name": "stdout",
          "text": [
            "136626725752000\n",
            "136626725957120\n"
          ]
        }
      ]
    },
    {
      "cell_type": "code",
      "source": [
        "a = [1,2,3]\n",
        "b = deepcopy(a)\n",
        "print(id(a))\n",
        "print(id(b))"
      ],
      "metadata": {
        "colab": {
          "base_uri": "https://localhost:8080/"
        },
        "id": "N611L5_-lNYt",
        "outputId": "2530f1d8-5085-489a-f280-b0b3b1ae6ddc"
      },
      "execution_count": 12,
      "outputs": [
        {
          "output_type": "stream",
          "name": "stdout",
          "text": [
            "136626725565440\n",
            "136627767040192\n"
          ]
        }
      ]
    },
    {
      "cell_type": "code",
      "source": [
        "#Python의 장점 이 모든것이 가능 하고 서로의 값을 바꾸는것이 가능하다\n",
        "\n",
        "a,b = (\"python\",\"life\")\n",
        "(a,b) = \"python\",\"life\"\n",
        "[a,b] = [\"python\",\"life\"]\n",
        "a = b = \"Python\"\n",
        "a = 3\n",
        "b = 5\n",
        "a,b = b,a\n",
        "print(a)\n",
        "print(b)"
      ],
      "metadata": {
        "colab": {
          "base_uri": "https://localhost:8080/"
        },
        "id": "zYiPH-GglWbd",
        "outputId": "8c5bd3a6-2785-4c69-c7b1-2f4f7d0ab4bc"
      },
      "execution_count": 14,
      "outputs": [
        {
          "output_type": "stream",
          "name": "stdout",
          "text": [
            "5\n",
            "3\n"
          ]
        }
      ]
    },
    {
      "cell_type": "code",
      "source": [],
      "metadata": {
        "id": "CrRKtxZHl8WN"
      },
      "execution_count": null,
      "outputs": []
    }
  ]
}