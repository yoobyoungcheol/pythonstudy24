{
  "nbformat": 4,
  "nbformat_minor": 0,
  "metadata": {
    "colab": {
      "provenance": [],
      "authorship_tag": "ABX9TyOQZUY+uxYfv4vTKfKRJQNV",
      "include_colab_link": true
    },
    "kernelspec": {
      "name": "python3",
      "display_name": "Python 3"
    },
    "language_info": {
      "name": "python"
    }
  },
  "cells": [
    {
      "cell_type": "markdown",
      "metadata": {
        "id": "view-in-github",
        "colab_type": "text"
      },
      "source": [
        "<a href=\"https://colab.research.google.com/github/yoobyoungcheol/pythonstudy24/blob/master/WhileStudy.ipynb\" target=\"_parent\"><img src=\"https://colab.research.google.com/assets/colab-badge.svg\" alt=\"Open In Colab\"/></a>"
      ]
    },
    {
      "cell_type": "markdown",
      "source": [
        "While문\n",
        "\n",
        "While문은 문장을 반복해서 수행해야 하는경우 활용한다. (반복문)\n",
        "\n",
        "여러 데이터를 처리해야 하는 경우 사용한다.\n",
        "\n",
        "If문에서 성적처리를 할 때 1명에 데이터를 처리하지만 입력을 여러명 받아 더 큰 프로그램을 만들 수 있다.\n",
        "\n",
        "반복문은 While와 for문으로 활용되는데 While문은 max가 없는 반복문일경우 사용되고 for문은 max가 있는 경우 사용된다.\n",
        "\n",
        "While 조건문에 :\n",
        "    실행문1\n",
        "    실행문2\n",
        "    실행문3\n",
        "\n",
        "JAVA에서는 {}으로 실행문의 블럭을 만들지만 파이썬은 들여쓰기로 판단한다"
      ],
      "metadata": {
        "id": "m69n2qhZfqTY"
      }
    },
    {
      "cell_type": "code",
      "execution_count": 1,
      "metadata": {
        "colab": {
          "base_uri": "https://localhost:8080/"
        },
        "id": "wyd5vNMYfBnE",
        "outputId": "71dc88e9-654f-4692-e667-437daa195de8"
      },
      "outputs": [
        {
          "output_type": "stream",
          "name": "stdout",
          "text": [
            "나무를 1번 찍었습니다.\n",
            "나무를 2번 찍었습니다.\n",
            "나무를 3번 찍었습니다.\n",
            "나무를 4번 찍었습니다.\n",
            "나무를 5번 찍었습니다.\n",
            "나무를 6번 찍었습니다.\n",
            "나무를 7번 찍었습니다.\n",
            "나무를 8번 찍었습니다.\n",
            "나무를 9번 찍었습니다.\n",
            "나무를 10번 찍었습니다.\n",
            "나무 넘어갑니다.\n"
          ]
        }
      ],
      "source": [
        "# 열번찍어 안넘어가는 나무 없다.\n",
        "\n",
        "treeHit = 0\n",
        "while treeHit < 10:        # 조건이 treehit < 10 : treehit가 10보다 작으면\n",
        "    treeHit = treeHit + 1     # 반복 횟수만큼 1씩 증가하는 부분\n",
        "    print(\"나무를 %d번 찍었습니다.\" % treeHit)\n",
        "\n",
        "    if treeHit == 10:             # 나무타격횟수가 10번인지 판단\n",
        "        print(\"나무 넘어갑니다.\")\n",
        "    else:\n",
        "        print(\"나무가 조금파였습니다.\")"
      ]
    },
    {
      "cell_type": "code",
      "source": [
        "# 콘솔에서 작동하는 프로그램 만들어보기\n",
        "\n",
        "prompt = \"\"\"\n",
        "1.학생가입\n",
        "2.성적입력\n",
        "3.성적출력\n",
        "4.quit\n",
        "\n",
        "Entter Number\n",
        "\"\"\"\n",
        "number = 0    # 키보드로 입력받는 변수 (초기값)\n",
        "\n",
        "while number != 4:      # 4가 입력될때까지 작동하는 구문\n",
        "    print(prompt)       # 4가 아닐때 출력\n",
        "    number = int(input())    # While를 반복중에 입력받을 프롬프트 비교 값\n"
      ],
      "metadata": {
        "id": "dg_KvJVGhhRR"
      },
      "execution_count": null,
      "outputs": []
    },
    {
      "cell_type": "code",
      "source": [
        "# 커피자판기 프로그램\n",
        "# 변수는 돈과 커피의 수량\n",
        "\n",
        "coffee = 10  # 준비돼어있는 커피의 개수\n",
        "money = 300 # 현재 입금된 금액은 300원\n",
        "\n",
        "while money:\n",
        "    print(\"돈을 받았으니 커피를 줍니다.\")\n",
        "    coffee = coffee -1\n",
        "    print(\"남은 커피의 양은 %d개 입니다.\" % coffee)\n",
        "\n",
        "    if coffee ==0:\n",
        "        print(\"커피가 다 떨어졌습니다. 판매를 중지합니다.\")\n",
        "        break\n",
        "    else:\n",
        "        print(input(\"커피를 드시고 싶으면 5000원을 넣으세요\"))\n"
      ],
      "metadata": {
        "colab": {
          "base_uri": "https://localhost:8080/"
        },
        "id": "okNbfDS0kvwI",
        "outputId": "f30180d8-7a8c-434a-bbdd-e73393387ae2"
      },
      "execution_count": 5,
      "outputs": [
        {
          "output_type": "stream",
          "name": "stdout",
          "text": [
            "돈을 받았으니 커피를 줍니다.\n",
            "남은 커피의 양은 9개 입니다.\n",
            "커피를 드시고 싶으면 5000원을 넣으세요10\n",
            "10\n",
            "돈을 받았으니 커피를 줍니다.\n",
            "남은 커피의 양은 8개 입니다.\n",
            "커피를 드시고 싶으면 5000원을 넣으세요0500\n",
            "0500\n",
            "돈을 받았으니 커피를 줍니다.\n",
            "남은 커피의 양은 7개 입니다.\n",
            "커피를 드시고 싶으면 5000원을 넣으세요45000\n",
            "45000\n",
            "돈을 받았으니 커피를 줍니다.\n",
            "남은 커피의 양은 6개 입니다.\n",
            "커피를 드시고 싶으면 5000원을 넣으세요500\n",
            "500\n",
            "돈을 받았으니 커피를 줍니다.\n",
            "남은 커피의 양은 5개 입니다.\n",
            "커피를 드시고 싶으면 5000원을 넣으세요500\n",
            "500\n",
            "돈을 받았으니 커피를 줍니다.\n",
            "남은 커피의 양은 4개 입니다.\n",
            "커피를 드시고 싶으면 5000원을 넣으세요500\n",
            "500\n",
            "돈을 받았으니 커피를 줍니다.\n",
            "남은 커피의 양은 3개 입니다.\n",
            "커피를 드시고 싶으면 5000원을 넣으세요500\n",
            "500\n",
            "돈을 받았으니 커피를 줍니다.\n",
            "남은 커피의 양은 2개 입니다.\n",
            "커피를 드시고 싶으면 5000원을 넣으세요500\n",
            "500\n",
            "돈을 받았으니 커피를 줍니다.\n",
            "남은 커피의 양은 1개 입니다.\n",
            "커피를 드시고 싶으면 5000원을 넣으세요5500\n",
            "5500\n",
            "돈을 받았으니 커피를 줍니다.\n",
            "남은 커피의 양은 0개 입니다.\n",
            "커피가 다 떨어졌습니다. 판매를 중지합니다.\n"
          ]
        }
      ]
    },
    {
      "cell_type": "code",
      "source": [
        "# 미션\n",
        "# 관리자가 커피 가격과 커피명을 정하고 개수를 입력합니다.\n",
        "# 소비자가 커피를 구매하는데 진돈이 나와야 함\n",
        "# 판매 종료 후 관리자가 커피 판매한 총금액을 파악할수 있어야함\n",
        "\n",
        "prompt=\"\"\"\n",
        "1.  커피의 종류 와 가격 판매 개수 추가하기\n",
        "2. 등록된 커피의 종류와 갯수 가격 확인하기\n",
        "3. 커피의 등록 취소하기\n",
        "4. 판매 시작하기\n",
        "\"\"\"\n",
        "money = 0\n",
        "mymoney = 0\n",
        "totalmoney = 0\n",
        "customer = 0\n",
        "addmin = 0\n",
        "totalprice = []\n",
        "i = 0\n",
        "coffeeprice = {}\n",
        "coffeesell ={}\n",
        "coffeename = []\n",
        "while True:\n",
        "    while addmin != 5 :\n",
        "        print(prompt)\n",
        "        addmin = int(input(\"선택할 메뉴를 골라주세요 : \"))\n",
        "        match addmin:\n",
        "            case 1:\n",
        "                coffeename.append(str(input(\"추가할 커피를 입력하세요 : \")))\n",
        "                coffeeprice[coffeename[i]] = {\"가격\":0}\n",
        "                coffeesell[coffeename[i]] = {\"수량\":0}\n",
        "                coffeeprice[name][\"가격\"] = int(input(\"가격을 입력해주세요 : \"))\n",
        "                coffeesell[name][\"수량\"] = int(input(\"수량을 입력해주세요 : \"))\n",
        "                i = i+1\n",
        "            case 2 :\n",
        "                u = 0\n",
        "                if i == 0:\n",
        "                    print(\"등록된 커피가 없습니다.\")\n",
        "                else:\n",
        "                    for key in coffeename:\n",
        "                        u = u+1\n",
        "                        print(\"%d번 %s 가격: %d  수량 : %d   총가격 %d\"%(u,key,coffeeprice[key][\"가격\"],coffeesell[key][\"수량\"],coffeeprice[key][\"가격\"]*coffeesell[key][\"수량\"]))\n",
        "            case 3 :\n",
        "                name = str(input(\"삭제할 커피의 이름을 입력하세요 : \"))\n",
        "                del coffeeprice[name]\n",
        "                del coffeesell[name]\n",
        "                i=i-1\n",
        "            case 4 :\n",
        "                break\n",
        "\n",
        "    for key in coffeename:\n",
        "        u = u+1\n",
        "        print(\"%d번 %s 가격: %d  수량 : %d\"%(u,key,coffeeprice[key][\"가격\"],coffeesell[key][\"수량\"]))\n",
        "        totalprice.append(coffeeprice[key][\"가격\"])\n",
        "        minprice = min(totalprice)\n",
        "    while coffeesell:\n",
        "        totalprice = []\n",
        "        print(\"현재 잔액 %d원입니다.\"%totalmoney)\n",
        "        money = int(input(\"돈을 투입하세요 : \"))\n",
        "        print(\"드실 커피를 선택하여 주세요\")\n",
        "        for key in coffeename:\n",
        "            u = u+1\n",
        "            print(\"%d번 %s 가격: %d  수량 : %d\"%(u,key,coffeeprice[key][\"가격\"],coffeesell[key][\"수량\"]))\n",
        "        customer = str(input(\"커피 이름을 골라주세요 : \"))\n",
        "        while money >= coffeeprice[customer][\"가격\"]:\n",
        "            chice = int(input(\"상품의 수량을 선택해주세요 : \"))\n",
        "            if chice*money <= coffeeprice[customer][\"가격\"]*chice:\n",
        "                print(\"잔액이 부족합니다.\")\n",
        "                break\n",
        "            elif chice > coffeesell[customer][\"수량\"]:\n",
        "                print(\"상품의 수량이 부족합니다.\")\n",
        "                break\n",
        "            else:\n",
        "                money = money - chice*coffeeprice[customer][\"가격\"]\n",
        "                coffeesell[customer][\"수량\"] = coffeesell[customer][\"수량\"] - chice\n",
        "                mymoney = mymoney+(chice*coffeeprice[customer][\"가격\"])\n",
        "                totalmoney = totalmoney +money\n",
        "            if coffeesell[customer][\"수량\"] == 0:\n",
        "                del coffeesell[customer]\n",
        "            print(coffeesell)\n",
        "        print(\"돈이 부족합니다.\")\n",
        "    print(\"총매출 %d원입니다.\" %mymoney)\n",
        "\n",
        "\n",
        "\n",
        "\n"
      ],
      "metadata": {
        "colab": {
          "base_uri": "https://localhost:8080/",
          "height": 1000
        },
        "id": "r8BeKKDlngQZ",
        "outputId": "f96adebe-907e-41a3-8758-c40cfc3412f5"
      },
      "execution_count": 72,
      "outputs": [
        {
          "output_type": "stream",
          "name": "stdout",
          "text": [
            "\n",
            "1.  커피의 종류 와 가격 판매 개수 추가하기\n",
            "2. 등록된 커피의 종류와 갯수 가격 확인하기\n",
            "3. 커피의 등록 취소하기\n",
            "4. 판매 시작하기\n",
            "\n",
            "선택할 메뉴를 골라주세요 : 1\n",
            "추가할 커피를 입력하세요 : 맥심\n",
            "가격을 입력해주세요 : 500\n",
            "수량을 입력해주세요 : 3\n",
            "\n",
            "1.  커피의 종류 와 가격 판매 개수 추가하기\n",
            "2. 등록된 커피의 종류와 갯수 가격 확인하기\n",
            "3. 커피의 등록 취소하기\n",
            "4. 판매 시작하기\n",
            "\n",
            "선택할 메뉴를 골라주세요 : 2\n",
            "1번 맥심 가격: 500  수량 : 3   총가격 1500\n",
            "\n",
            "1.  커피의 종류 와 가격 판매 개수 추가하기\n",
            "2. 등록된 커피의 종류와 갯수 가격 확인하기\n",
            "3. 커피의 등록 취소하기\n",
            "4. 판매 시작하기\n",
            "\n",
            "선택할 메뉴를 골라주세요 : 4\n",
            "2번 맥심 가격: 500  수량 : 3\n",
            "현재 잔액 0원입니다.\n",
            "돈을 투입하세요 : 1500\n",
            "드실 커피를 선택하여 주세요\n",
            "3번 맥심 가격: 500  수량 : 3\n",
            "커피 이름을 골라주세요 : 맥심\n",
            "상품의 수량을 선택해주세요 : 3\n",
            "{}\n",
            "돈이 부족합니다.\n",
            "총매출 1500원입니다.\n",
            "\n",
            "1.  커피의 종류 와 가격 판매 개수 추가하기\n",
            "2. 등록된 커피의 종류와 갯수 가격 확인하기\n",
            "3. 커피의 등록 취소하기\n",
            "4. 판매 시작하기\n",
            "\n"
          ]
        },
        {
          "output_type": "error",
          "ename": "KeyboardInterrupt",
          "evalue": "Interrupted by user",
          "traceback": [
            "\u001b[0;31m---------------------------------------------------------------------------\u001b[0m",
            "\u001b[0;31mKeyboardInterrupt\u001b[0m                         Traceback (most recent call last)",
            "\u001b[0;32m<ipython-input-72-509d4489281e>\u001b[0m in \u001b[0;36m<cell line: 22>\u001b[0;34m()\u001b[0m\n\u001b[1;32m     23\u001b[0m     \u001b[0;32mwhile\u001b[0m \u001b[0maddmin\u001b[0m \u001b[0;34m!=\u001b[0m \u001b[0;36m5\u001b[0m \u001b[0;34m:\u001b[0m\u001b[0;34m\u001b[0m\u001b[0;34m\u001b[0m\u001b[0m\n\u001b[1;32m     24\u001b[0m         \u001b[0mprint\u001b[0m\u001b[0;34m(\u001b[0m\u001b[0mprompt\u001b[0m\u001b[0;34m)\u001b[0m\u001b[0;34m\u001b[0m\u001b[0;34m\u001b[0m\u001b[0m\n\u001b[0;32m---> 25\u001b[0;31m         \u001b[0maddmin\u001b[0m \u001b[0;34m=\u001b[0m \u001b[0mint\u001b[0m\u001b[0;34m(\u001b[0m\u001b[0minput\u001b[0m\u001b[0;34m(\u001b[0m\u001b[0;34m\"선택할 메뉴를 골라주세요 : \"\u001b[0m\u001b[0;34m)\u001b[0m\u001b[0;34m)\u001b[0m\u001b[0;34m\u001b[0m\u001b[0;34m\u001b[0m\u001b[0m\n\u001b[0m\u001b[1;32m     26\u001b[0m         \u001b[0mmatch\u001b[0m \u001b[0maddmin\u001b[0m\u001b[0;34m:\u001b[0m\u001b[0;34m\u001b[0m\u001b[0;34m\u001b[0m\u001b[0m\n\u001b[1;32m     27\u001b[0m             \u001b[0mcase\u001b[0m \u001b[0;36m1\u001b[0m\u001b[0;34m:\u001b[0m\u001b[0;34m\u001b[0m\u001b[0;34m\u001b[0m\u001b[0m\n",
            "\u001b[0;32m/usr/local/lib/python3.10/dist-packages/ipykernel/kernelbase.py\u001b[0m in \u001b[0;36mraw_input\u001b[0;34m(self, prompt)\u001b[0m\n\u001b[1;32m    849\u001b[0m                 \u001b[0;34m\"raw_input was called, but this frontend does not support input requests.\"\u001b[0m\u001b[0;34m\u001b[0m\u001b[0;34m\u001b[0m\u001b[0m\n\u001b[1;32m    850\u001b[0m             )\n\u001b[0;32m--> 851\u001b[0;31m         return self._input_request(str(prompt),\n\u001b[0m\u001b[1;32m    852\u001b[0m             \u001b[0mself\u001b[0m\u001b[0;34m.\u001b[0m\u001b[0m_parent_ident\u001b[0m\u001b[0;34m,\u001b[0m\u001b[0;34m\u001b[0m\u001b[0;34m\u001b[0m\u001b[0m\n\u001b[1;32m    853\u001b[0m             \u001b[0mself\u001b[0m\u001b[0;34m.\u001b[0m\u001b[0m_parent_header\u001b[0m\u001b[0;34m,\u001b[0m\u001b[0;34m\u001b[0m\u001b[0;34m\u001b[0m\u001b[0m\n",
            "\u001b[0;32m/usr/local/lib/python3.10/dist-packages/ipykernel/kernelbase.py\u001b[0m in \u001b[0;36m_input_request\u001b[0;34m(self, prompt, ident, parent, password)\u001b[0m\n\u001b[1;32m    893\u001b[0m             \u001b[0;32mexcept\u001b[0m \u001b[0mKeyboardInterrupt\u001b[0m\u001b[0;34m:\u001b[0m\u001b[0;34m\u001b[0m\u001b[0;34m\u001b[0m\u001b[0m\n\u001b[1;32m    894\u001b[0m                 \u001b[0;31m# re-raise KeyboardInterrupt, to truncate traceback\u001b[0m\u001b[0;34m\u001b[0m\u001b[0;34m\u001b[0m\u001b[0m\n\u001b[0;32m--> 895\u001b[0;31m                 \u001b[0;32mraise\u001b[0m \u001b[0mKeyboardInterrupt\u001b[0m\u001b[0;34m(\u001b[0m\u001b[0;34m\"Interrupted by user\"\u001b[0m\u001b[0;34m)\u001b[0m \u001b[0;32mfrom\u001b[0m \u001b[0;32mNone\u001b[0m\u001b[0;34m\u001b[0m\u001b[0;34m\u001b[0m\u001b[0m\n\u001b[0m\u001b[1;32m    896\u001b[0m             \u001b[0;32mexcept\u001b[0m \u001b[0mException\u001b[0m \u001b[0;32mas\u001b[0m \u001b[0me\u001b[0m\u001b[0;34m:\u001b[0m\u001b[0;34m\u001b[0m\u001b[0;34m\u001b[0m\u001b[0m\n\u001b[1;32m    897\u001b[0m                 \u001b[0mself\u001b[0m\u001b[0;34m.\u001b[0m\u001b[0mlog\u001b[0m\u001b[0;34m.\u001b[0m\u001b[0mwarning\u001b[0m\u001b[0;34m(\u001b[0m\u001b[0;34m\"Invalid Message:\"\u001b[0m\u001b[0;34m,\u001b[0m \u001b[0mexc_info\u001b[0m\u001b[0;34m=\u001b[0m\u001b[0;32mTrue\u001b[0m\u001b[0;34m)\u001b[0m\u001b[0;34m\u001b[0m\u001b[0;34m\u001b[0m\u001b[0m\n",
            "\u001b[0;31mKeyboardInterrupt\u001b[0m: Interrupted by user"
          ]
        }
      ]
    },
    {
      "cell_type": "code",
      "source": [],
      "metadata": {
        "id": "ndFH7cFR90eh"
      },
      "execution_count": null,
      "outputs": []
    }
  ]
}