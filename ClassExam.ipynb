{
  "nbformat": 4,
  "nbformat_minor": 0,
  "metadata": {
    "colab": {
      "provenance": [],
      "authorship_tag": "ABX9TyO75NH5K+Y9M6Td5tUFPm6d",
      "include_colab_link": true
    },
    "kernelspec": {
      "name": "python3",
      "display_name": "Python 3"
    },
    "language_info": {
      "name": "python"
    }
  },
  "cells": [
    {
      "cell_type": "markdown",
      "metadata": {
        "id": "view-in-github",
        "colab_type": "text"
      },
      "source": [
        "<a href=\"https://colab.research.google.com/github/yoobyoungcheol/pythonstudy24/blob/master/ClassExam.ipynb\" target=\"_parent\"><img src=\"https://colab.research.google.com/assets/colab-badge.svg\" alt=\"Open In Colab\"/></a>"
      ]
    },
    {
      "cell_type": "markdown",
      "source": [
        "# Class는 객체지향 언어의 필수로 가각의 객체를 담당한다.\n",
        "\n",
        "# 만약 shopingmall프로젝트를 만든다고 하면\n",
        "# 회원용.py   -> 동작(매서드) C. R. U, D, other\n",
        "# 아이템용.py   -> 동작(매서드) C. R. U, D, other\n",
        "# 게시판용.py   -> 동작(매서드) C. R. U, D, other\n",
        "# 장바구니.py   -> 동작(매서드) C. R. U, D, other\n",
        "# main.py와 연동되게 설정한다."
      ],
      "metadata": {
        "id": "fkqRliJeipCd"
      }
    },
    {
      "cell_type": "code",
      "execution_count": 2,
      "metadata": {
        "colab": {
          "base_uri": "https://localhost:8080/"
        },
        "id": "ojq3tbJgexMS",
        "outputId": "cd79363b-0702-4561-ef02-e99386742daf"
      },
      "outputs": [
        {
          "output_type": "stream",
          "name": "stdout",
          "text": [
            "3\n",
            "7\n",
            "13\n"
          ]
        }
      ],
      "source": [
        "# 계산기 처리용 클레스를 만들어보자\n",
        "result = 0                              # 결과값 처리용 변수\n",
        "\n",
        "def add(num):                           # 계산기용 함수 만들기\n",
        "    global result                       # 글로벌함수 result 가져오기\n",
        "    result += num                       # 함수에 변수로 들어온값을 result에 더해준다\n",
        "    return result                       # 함수의 결과값 리턴해주기\n",
        "\n",
        "print(add(3))                           # 함수(매서드)에 변수를 넣고 결과값 리턴하기\n",
        "print(add(4))\n",
        "print(add(6))"
      ]
    },
    {
      "cell_type": "code",
      "source": [
        "# 만일 한 프로그램에서 2대의 계산기가 필요한 상황이라면?\n",
        "\n",
        "result1 = 0\n",
        "result2 = 0\n",
        "\n",
        "def add1(num):                           # 계산기용 함수 만들기\n",
        "    global result1                       # 글로벌함수 result 가져오기\n",
        "    result1 += num                       # 함수에 변수로 들어온값을 result에 더해준다\n",
        "    return result1                       # 함수의 결과값 리턴해주기\n",
        "\n",
        "def add2(num):                           # 계산기용 함수 만들기\n",
        "    global result2                       # 글로벌함수 result 가져오기\n",
        "    result2 += num                       # 함수에 변수로 들어온값을 result에 더해준다\n",
        "    return result2                       # 함수의 결과값 리턴해주기"
      ],
      "metadata": {
        "id": "gFQr6o9bknHj"
      },
      "execution_count": null,
      "outputs": []
    },
    {
      "cell_type": "code",
      "source": [
        "# Class를 이용한 계산기\n",
        "\n",
        "class Calculator:               # 객체 생성용 ( 생성자용 매서드, 일반 메서드 )\n",
        "\n",
        "    def __init__(self):         # 생성자 ( 객체 생성시 0순위로 처리 됨 )\n",
        "        self.result = 0         # 객체 자신의 result변수를 만들고 0값을 넣음\n",
        "\n",
        "    def add(self, num):         # 객체용 매서드\n",
        "        self.result += num      # 생성자에 있는 변수와 num의 누적합 저장\n",
        "        return self.result      # 결과값 리턴"
      ],
      "metadata": {
        "id": "Sbg44peRmDjy"
      },
      "execution_count": 3,
      "outputs": []
    },
    {
      "cell_type": "code",
      "source": [
        "# 객체를 생성해서 변수에 연결 ( JAVA : Calculator cal1 = new Calculator() )\n",
        "\n",
        "cal1 = Calculator()     # 객체1\n",
        "cal2 = Calculator()     # 객체2\n",
        "\n",
        "print(cal1.add(3))      # 1번 계산기"
      ],
      "metadata": {
        "colab": {
          "base_uri": "https://localhost:8080/"
        },
        "id": "MJnLxL11nSlE",
        "outputId": "c5007570-8167-4d33-d630-7ac5660ecf88"
      },
      "execution_count": 8,
      "outputs": [
        {
          "output_type": "stream",
          "name": "stdout",
          "text": [
            "3\n"
          ]
        }
      ]
    },
    {
      "cell_type": "code",
      "source": [
        "print(cal2.add(9))      # 2번 계산기"
      ],
      "metadata": {
        "colab": {
          "base_uri": "https://localhost:8080/"
        },
        "id": "jrRBRVMonnCR",
        "outputId": "25f02d5f-589d-41c9-97b4-8d6ac33d3336"
      },
      "execution_count": 9,
      "outputs": [
        {
          "output_type": "stream",
          "name": "stdout",
          "text": [
            "9\n"
          ]
        }
      ]
    },
    {
      "cell_type": "code",
      "source": [
        "print(cal1.add(9))      # 1번 계산기"
      ],
      "metadata": {
        "colab": {
          "base_uri": "https://localhost:8080/"
        },
        "id": "kql7kPnWn_i7",
        "outputId": "9dbdab87-e311-4092-f6f9-e451a44c0a68"
      },
      "execution_count": 10,
      "outputs": [
        {
          "output_type": "stream",
          "name": "stdout",
          "text": [
            "12\n"
          ]
        }
      ]
    },
    {
      "cell_type": "code",
      "source": [
        "print(cal2.add(10))     # 2번 계산기"
      ],
      "metadata": {
        "colab": {
          "base_uri": "https://localhost:8080/"
        },
        "id": "LIbpJQXhoFra",
        "outputId": "da8e19c9-6343-4290-ee59-52be718f3687"
      },
      "execution_count": 11,
      "outputs": [
        {
          "output_type": "stream",
          "name": "stdout",
          "text": [
            "19\n"
          ]
        }
      ]
    },
    {
      "cell_type": "code",
      "source": [
        "# Class를 확용한 사칙연산 계산기 만들기\n",
        "\n",
        "class FourCal:           # 클래스 생성\n",
        "    pass                 # 아무기능없이 동작"
      ],
      "metadata": {
        "id": "Rm1j_PJ0oJCC"
      },
      "execution_count": 16,
      "outputs": []
    },
    {
      "cell_type": "code",
      "source": [
        "a = FourCal()\n",
        "type(a)"
      ],
      "metadata": {
        "colab": {
          "base_uri": "https://localhost:8080/"
        },
        "id": "fJav5z7QqEVS",
        "outputId": "8ae0e990-d93e-41e8-bc71-4eb1ac5e791e"
      },
      "execution_count": 17,
      "outputs": [
        {
          "output_type": "execute_result",
          "data": {
            "text/plain": [
              "__main__.FourCal"
            ]
          },
          "metadata": {},
          "execution_count": 17
        }
      ]
    },
    {
      "cell_type": "code",
      "source": [
        "class FourCal:           # 클래스 생성\n",
        "    # pass                 # 아무기능없이 동작\n",
        "\n",
        "    def setdata(self,first,second):                         # 매서드 선언(self 필수)\n",
        "        self.first = first                                  # JABA에서의 this.first = first\n",
        "        self.second = second                                # JABA에서의 this.second = second"
      ],
      "metadata": {
        "id": "I4Q1IeqqqNMJ"
      },
      "execution_count": 21,
      "outputs": []
    },
    {
      "cell_type": "code",
      "source": [
        "a = FourCal()               # a 변수에 객체가 연결됨\n",
        "a.setdata(4,2)              # a 변수를 self로 처리함"
      ],
      "metadata": {
        "id": "T3XS75kcrTOK"
      },
      "execution_count": 22,
      "outputs": []
    },
    {
      "cell_type": "code",
      "source": [
        "b = FourCal()               # b 변수에 객체가 연결됨\n",
        "FourCal.setdata(b,4,2)      # b는 객체의 연결자"
      ],
      "metadata": {
        "id": "sXnOQdCYrWzB"
      },
      "execution_count": 23,
      "outputs": []
    },
    {
      "cell_type": "code",
      "source": [
        "print(a.first)"
      ],
      "metadata": {
        "colab": {
          "base_uri": "https://localhost:8080/"
        },
        "id": "r1youlO0uzvK",
        "outputId": "44524d31-a6a5-45cb-95d6-66ca59698fb1"
      },
      "execution_count": 25,
      "outputs": [
        {
          "output_type": "stream",
          "name": "stdout",
          "text": [
            "4\n"
          ]
        }
      ]
    },
    {
      "cell_type": "code",
      "source": [
        "print(b.second)"
      ],
      "metadata": {
        "colab": {
          "base_uri": "https://localhost:8080/"
        },
        "id": "Qe5YEsxUu-tK",
        "outputId": "d968ed59-979a-4c18-eaa5-424acbb2799f"
      },
      "execution_count": 27,
      "outputs": [
        {
          "output_type": "stream",
          "name": "stdout",
          "text": [
            "2\n"
          ]
        }
      ]
    },
    {
      "cell_type": "code",
      "source": [
        "class FourCal:           # 클래스 생성\n",
        "    # pass                 # 아무기능없이 동작\n",
        "\n",
        "    def setdata(self,first,second):                         # 매서드 선언(self 필수)\n",
        "        self.first = first                                  # JABA에서의 this.first = first\n",
        "        self.second = second                                # JABA에서의 this.second = second\n",
        "\n",
        "    def add(self):                                          # 매서드 선언\n",
        "        result = self.first + self.second                   # first 와 second 를 더해서 result에 저장\n",
        "        return result                                       # result를 반환\n",
        "\n",
        "    def sub(self):                                          # 매서드 선언\n",
        "        result = self.first - self.second                   # first 와 second 를 빼서 result에 저장\n",
        "        return result                                       # result를 반환\n",
        "\n",
        "    def mul(self):                                          # 매서드 선언\n",
        "        result = self.first * self.second                   # first 와 second 를 곱해서 result에 저장\n",
        "        return result                                       # result를 반환\n",
        "\n",
        "    def div(self):                                          # 매서드 선언\n",
        "        result = self.first / self.second                   # first 와 second 를 나눠서 result에 저장\n",
        "        return result                                       # result를 반환"
      ],
      "metadata": {
        "id": "s7YVIONsvBpR"
      },
      "execution_count": 33,
      "outputs": []
    },
    {
      "cell_type": "code",
      "source": [
        "a = FourCal()               # a 변수에 객체가 연결됨\n",
        "a.setdata(4,2)              # a 변수를 self로 처리함"
      ],
      "metadata": {
        "id": "Uh9hufBGvfIq"
      },
      "execution_count": 34,
      "outputs": []
    },
    {
      "cell_type": "code",
      "source": [
        "b = FourCal()               # b 변수에 객체가 연결됨\n",
        "FourCal.setdata(b,4,2)      # b는 객체의 연결자"
      ],
      "metadata": {
        "id": "TYl8TvKavfo5"
      },
      "execution_count": 35,
      "outputs": []
    },
    {
      "cell_type": "code",
      "source": [
        "c = FourCal()             # c 변수에 객체가 연결됨\n",
        "c.setdata(5,5)            # 두개의 데이터를 저장\n",
        "print(c.add())\n",
        "print(c.sub())\n",
        "print(c.mul())\n",
        "print(c.div())"
      ],
      "metadata": {
        "colab": {
          "base_uri": "https://localhost:8080/"
        },
        "id": "4yl39cGuvxcy",
        "outputId": "9bc7dfdb-eac5-4a64-937c-9e499cdc9cb3"
      },
      "execution_count": 38,
      "outputs": [
        {
          "output_type": "stream",
          "name": "stdout",
          "text": [
            "10\n",
            "10\n",
            "25\n",
            "1.0\n"
          ]
        }
      ]
    },
    {
      "cell_type": "code",
      "source": [
        "d = FourCal()\n",
        "d.add()"
      ],
      "metadata": {
        "colab": {
          "base_uri": "https://localhost:8080/",
          "height": 293
        },
        "id": "sHiek5zlwX9C",
        "outputId": "8e26cc0e-3413-42d2-f2b4-c23f473e1c31"
      },
      "execution_count": 40,
      "outputs": [
        {
          "output_type": "error",
          "ename": "AttributeError",
          "evalue": "'FourCal' object has no attribute 'first'",
          "traceback": [
            "\u001b[0;31m---------------------------------------------------------------------------\u001b[0m",
            "\u001b[0;31mAttributeError\u001b[0m                            Traceback (most recent call last)",
            "\u001b[0;32m<ipython-input-40-16eb77566141>\u001b[0m in \u001b[0;36m<cell line: 2>\u001b[0;34m()\u001b[0m\n\u001b[1;32m      1\u001b[0m \u001b[0md\u001b[0m \u001b[0;34m=\u001b[0m \u001b[0mFourCal\u001b[0m\u001b[0;34m(\u001b[0m\u001b[0;34m)\u001b[0m\u001b[0;34m\u001b[0m\u001b[0;34m\u001b[0m\u001b[0m\n\u001b[0;32m----> 2\u001b[0;31m \u001b[0md\u001b[0m\u001b[0;34m.\u001b[0m\u001b[0madd\u001b[0m\u001b[0;34m(\u001b[0m\u001b[0;34m)\u001b[0m\u001b[0;34m\u001b[0m\u001b[0;34m\u001b[0m\u001b[0m\n\u001b[0m",
            "\u001b[0;32m<ipython-input-33-3c4c36e27363>\u001b[0m in \u001b[0;36madd\u001b[0;34m(self)\u001b[0m\n\u001b[1;32m      7\u001b[0m \u001b[0;34m\u001b[0m\u001b[0m\n\u001b[1;32m      8\u001b[0m     \u001b[0;32mdef\u001b[0m \u001b[0madd\u001b[0m\u001b[0;34m(\u001b[0m\u001b[0mself\u001b[0m\u001b[0;34m)\u001b[0m\u001b[0;34m:\u001b[0m                                          \u001b[0;31m# 매서드 선언\u001b[0m\u001b[0;34m\u001b[0m\u001b[0;34m\u001b[0m\u001b[0m\n\u001b[0;32m----> 9\u001b[0;31m         \u001b[0mresult\u001b[0m \u001b[0;34m=\u001b[0m \u001b[0mself\u001b[0m\u001b[0;34m.\u001b[0m\u001b[0mfirst\u001b[0m \u001b[0;34m+\u001b[0m \u001b[0mself\u001b[0m\u001b[0;34m.\u001b[0m\u001b[0msecond\u001b[0m                   \u001b[0;31m# first 와 second 를 더해서 result에 저장\u001b[0m\u001b[0;34m\u001b[0m\u001b[0;34m\u001b[0m\u001b[0m\n\u001b[0m\u001b[1;32m     10\u001b[0m         \u001b[0;32mreturn\u001b[0m \u001b[0mresult\u001b[0m                                       \u001b[0;31m# result를 반환\u001b[0m\u001b[0;34m\u001b[0m\u001b[0;34m\u001b[0m\u001b[0m\n\u001b[1;32m     11\u001b[0m \u001b[0;34m\u001b[0m\u001b[0m\n",
            "\u001b[0;31mAttributeError\u001b[0m: 'FourCal' object has no attribute 'first'"
          ]
        }
      ]
    },
    {
      "cell_type": "code",
      "source": [
        "class FourCal:           # 클래스 생성\n",
        "    # pass                 # 아무기능없이 동작\n",
        "\n",
        "    # 필드 : 객체마다 가지고 있어야 할 데이터들 (dto, vo)\n",
        "    first = 0\n",
        "    second = 0\n",
        "\n",
        "    # 생성자 : 객체를 생성할때 필요한 무언가::\n",
        "    # 생성자의 이름은 __init__ 이다\n",
        "    def __init__(self,first,second):\n",
        "        self.first = first\n",
        "        self.second = second\n",
        "\n",
        "    def setdata(self,first,second):                         # 매서드 선언(self 필수)\n",
        "        self.first = first                                  # JABA에서의 this.first = first\n",
        "        self.second = second                                # JABA에서의 this.second = second\n",
        "\n",
        "    def add(self):                                          # 매서드 선언\n",
        "        result = self.first + self.second                   # first 와 second 를 더해서 result에 저장\n",
        "        return result                                       # result를 반환\n",
        "\n",
        "    def sub(self):                                          # 매서드 선언\n",
        "        result = self.first - self.second                   # first 와 second 를 빼서 result에 저장\n",
        "        return result                                       # result를 반환\n",
        "\n",
        "    def mul(self):                                          # 매서드 선언\n",
        "        result = self.first * self.second                   # first 와 second 를 곱해서 result에 저장\n",
        "        return result                                       # result를 반환\n",
        "\n",
        "    def div(self):                                          # 매서드 선언\n",
        "        result = self.first / self.second                   # first 와 second 를 나눠서 result에 저장\n",
        "        return result                                       # result를 반환"
      ],
      "metadata": {
        "id": "DWauvbXxww0y"
      },
      "execution_count": 41,
      "outputs": []
    },
    {
      "cell_type": "code",
      "source": [
        "d = FourCal(5,5)\n",
        "d.add()"
      ],
      "metadata": {
        "colab": {
          "base_uri": "https://localhost:8080/"
        },
        "id": "_33yROILxm2F",
        "outputId": "49e4eff6-89d9-4da7-e2dd-1589752e4718"
      },
      "execution_count": 44,
      "outputs": [
        {
          "output_type": "execute_result",
          "data": {
            "text/plain": [
              "10"
            ]
          },
          "metadata": {},
          "execution_count": 44
        }
      ]
    },
    {
      "cell_type": "code",
      "source": [
        "d.setdata(3,5)\n",
        "d.add()"
      ],
      "metadata": {
        "colab": {
          "base_uri": "https://localhost:8080/"
        },
        "id": "eWQ9SlH_xneR",
        "outputId": "4406560c-033a-4571-bbe2-8d3a025dabb8"
      },
      "execution_count": 45,
      "outputs": [
        {
          "output_type": "execute_result",
          "data": {
            "text/plain": [
              "8"
            ]
          },
          "metadata": {},
          "execution_count": 45
        }
      ]
    },
    {
      "cell_type": "code",
      "source": [
        "# 상속 기능 : 부모가 만든 객체를 보완, 추가하는 기능\n",
        "\n",
        "class MoreFourCal(FourCal):             # 객채 생성시 ()안에 부모객체를 넣는다\n",
        "\n",
        "    def pow(self):\n",
        "        result = self.first ** self.second    # ** = 제곱\n",
        "        return result\n",
        "\n",
        "    # 오버라이딩 : 부모객체가 만든 매서드를 변경하여 사용한다.\n",
        "    def div(self):\n",
        "        if self.first ==0 or self.second == 0:\n",
        "            return 0\n",
        "        else:\n",
        "            return self.first / self.second"
      ],
      "metadata": {
        "id": "6SyzvOrIyI1K"
      },
      "execution_count": 56,
      "outputs": []
    },
    {
      "cell_type": "code",
      "source": [
        "e = MoreFourCal(4,4)\n",
        "e.add()"
      ],
      "metadata": {
        "colab": {
          "base_uri": "https://localhost:8080/"
        },
        "id": "rflyvQUPzf68",
        "outputId": "32cddc06-657b-4d4d-f85e-9e050340082a"
      },
      "execution_count": 57,
      "outputs": [
        {
          "output_type": "execute_result",
          "data": {
            "text/plain": [
              "8"
            ]
          },
          "metadata": {},
          "execution_count": 57
        }
      ]
    },
    {
      "cell_type": "code",
      "source": [
        "e.pow()"
      ],
      "metadata": {
        "colab": {
          "base_uri": "https://localhost:8080/"
        },
        "id": "7yKrugTVzk7i",
        "outputId": "02a69e87-966c-4421-cff0-cf08571a8675"
      },
      "execution_count": 58,
      "outputs": [
        {
          "output_type": "execute_result",
          "data": {
            "text/plain": [
              "256"
            ]
          },
          "metadata": {},
          "execution_count": 58
        }
      ]
    },
    {
      "cell_type": "code",
      "source": [
        "f = MoreFourCal(4,0)\n",
        "f.div()"
      ],
      "metadata": {
        "colab": {
          "base_uri": "https://localhost:8080/"
        },
        "id": "tY8aaWjI0ara",
        "outputId": "0e9dba91-e766-41f7-85de-75dff598aeb7"
      },
      "execution_count": 59,
      "outputs": [
        {
          "output_type": "execute_result",
          "data": {
            "text/plain": [
              "0"
            ]
          },
          "metadata": {},
          "execution_count": 59
        }
      ]
    },
    {
      "cell_type": "code",
      "source": [],
      "metadata": {
        "id": "gLTaybPJ0_4S"
      },
      "execution_count": null,
      "outputs": []
    }
  ]
}