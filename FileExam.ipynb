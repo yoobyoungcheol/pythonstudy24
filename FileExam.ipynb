{
  "nbformat": 4,
  "nbformat_minor": 0,
  "metadata": {
    "colab": {
      "provenance": [],
      "authorship_tag": "ABX9TyNCEy2dEAVQgPWaQp+85b2N",
      "include_colab_link": true
    },
    "kernelspec": {
      "name": "python3",
      "display_name": "Python 3"
    },
    "language_info": {
      "name": "python"
    }
  },
  "cells": [
    {
      "cell_type": "markdown",
      "metadata": {
        "id": "view-in-github",
        "colab_type": "text"
      },
      "source": [
        "<a href=\"https://colab.research.google.com/github/yoobyoungcheol/pythonstudy24/blob/master/FileExam.ipynb\" target=\"_parent\"><img src=\"https://colab.research.google.com/assets/colab-badge.svg\" alt=\"Open In Colab\"/></a>"
      ]
    },
    {
      "cell_type": "markdown",
      "source": [
        "File 읽고 쓰기 연습\n",
        "\n",
        "Python은 실무에서 엑셀파일을 .csv파일로 저장하여 불러와 데이터 분석등을 한다.\n",
        ".csv는 엑셀에서 표에있는 값을 텍스트로 저장하는 다른이름으로 저장하는 기법을 말한다.\n",
        "\n",
        ".csv확장자\n",
        "\n",
        "현재 colab으로 실습을 진행하면 구글에서 제공하는 vm을 사용함\n",
        "리눅스 커널로 되어있어 content 디렉토리에 저장됨\n",
        "c:\\ 으로 되어 있는 것은 윈도우 커널로 파이참에서 실습을 함"
      ],
      "metadata": {
        "id": "dUVCGr2bTdTS"
      }
    },
    {
      "cell_type": "code",
      "execution_count": 14,
      "metadata": {
        "id": "8afBj63KJCkJ"
      },
      "outputs": [],
      "source": [
        "# File 생성하기 실습\n",
        "\n",
        "f = open(\"새파일.txt\",\"w\")  # open()파일을 연다\n",
        "for i in range(1,11):       # 1~10까지 숫자범위 만들어 i에 넣음\n",
        "    data = \"%d번째 줄입니다. \\n\" % i    # File에 저장할 내용\n",
        "    f.write(data)           # .write는 파일에 기록할때 쓰인다( data값을 파일에 기록한다. )\n",
        "f.close()                   # 연 파일을 닫는다.\n",
        "\n",
        "# 파일의 권한 부여\n",
        "# 'w' 는 쓰기 가능모드\n",
        "# 'r\" 는 읽기 가능모드\n",
        "# 'a' 는 추가 가능모드( 파일 마지막에 새로운 내용 추가 )"
      ]
    },
    {
      "cell_type": "code",
      "source": [
        "# File에 저장된 내용을 가져와 출력하기\n",
        "\n",
        "f = open(\"새파일.txt\",\"r\")      # 파일열기\n",
        "line = f.readline()             # 첫줄의 내용을 가져와 line변수에 넣어줌  ()안에 숫자를 넣으면 숫자만큼의 문자열만 가지고 온다.\n",
        "print(line)                     # 출력하기\n",
        "f.close()                       # 파일 닫기"
      ],
      "metadata": {
        "colab": {
          "base_uri": "https://localhost:8080/"
        },
        "id": "uGOKtza9X1l0",
        "outputId": "5264d107-6d58-415e-baaf-150fe2dd03d2"
      },
      "execution_count": 15,
      "outputs": [
        {
          "output_type": "stream",
          "name": "stdout",
          "text": [
            "1번째 줄입니다. \n",
            "\n"
          ]
        }
      ]
    },
    {
      "cell_type": "code",
      "source": [
        "# 무한 루프 while로 가져오기\n",
        "f = open(\"새파일.txt\",\"r\")      # 파일열기\n",
        "while True:                     # 무한루프\n",
        "    line = f.readline()         # 한줄씩 읽어 들이기\n",
        "    if not line: break          # 더이상 라인이 없으면 중단\n",
        "    print(line, end='')         # 출력      end='' 로 마지막 줄바꿈 문자 지워주기\n",
        "f.close()                       #파일닫기"
      ],
      "metadata": {
        "colab": {
          "base_uri": "https://localhost:8080/"
        },
        "id": "c2M0GyvBYhY7",
        "outputId": "9c0cc0bf-3d64-4eb4-fdc8-7f70657da082"
      },
      "execution_count": 16,
      "outputs": [
        {
          "output_type": "stream",
          "name": "stdout",
          "text": [
            "1번째 줄입니다. \n",
            "2번째 줄입니다. \n",
            "3번째 줄입니다. \n",
            "4번째 줄입니다. \n",
            "5번째 줄입니다. \n",
            "6번째 줄입니다. \n",
            "7번째 줄입니다. \n",
            "8번째 줄입니다. \n",
            "9번째 줄입니다. \n",
            "10번째 줄입니다. \n"
          ]
        }
      ]
    },
    {
      "cell_type": "code",
      "source": [
        "# .readlines() 리스트로 저장\n",
        "\n",
        "f = open(\"새파일.txt\",'r')          # 파일열기\n",
        "lines = f.readlines()               # 새파일 텍스트 문자열을 리스트화 시켜줌\n",
        "for line in lines:                  # 리스트화 시킨 문자열을 하나씩 뽑아줌\n",
        "    print(line.strip())             # 출력      .strip()는 줄끝의 줄바꿈문자를 제거해줌\n",
        "f.close()                           # 파일닫기"
      ],
      "metadata": {
        "colab": {
          "base_uri": "https://localhost:8080/"
        },
        "id": "O_Wv_4HjY4Fi",
        "outputId": "593a401a-951d-498b-d066-8edcbd54ac22"
      },
      "execution_count": 17,
      "outputs": [
        {
          "output_type": "stream",
          "name": "stdout",
          "text": [
            "1번째 줄입니다.\n",
            "2번째 줄입니다.\n",
            "3번째 줄입니다.\n",
            "4번째 줄입니다.\n",
            "5번째 줄입니다.\n",
            "6번째 줄입니다.\n",
            "7번째 줄입니다.\n",
            "8번째 줄입니다.\n",
            "9번째 줄입니다.\n",
            "10번째 줄입니다.\n"
          ]
        }
      ]
    },
    {
      "cell_type": "code",
      "source": [
        "# .read() 함수 사용\n",
        "\n",
        "f = open(\"새파일.txt\",'r')          # 파일 열기\n",
        "data = f.read()                     # 파일 전체의 내용을 문자열로 반환\n",
        "print(data)                         # 출력\n",
        "f.close()                           # 파일 닫기"
      ],
      "metadata": {
        "colab": {
          "base_uri": "https://localhost:8080/"
        },
        "id": "Do76nKYSaCo7",
        "outputId": "65794ed7-c011-49e8-f392-f4fdc7b9a310"
      },
      "execution_count": 18,
      "outputs": [
        {
          "output_type": "stream",
          "name": "stdout",
          "text": [
            "1번째 줄입니다. \n",
            "2번째 줄입니다. \n",
            "3번째 줄입니다. \n",
            "4번째 줄입니다. \n",
            "5번째 줄입니다. \n",
            "6번째 줄입니다. \n",
            "7번째 줄입니다. \n",
            "8번째 줄입니다. \n",
            "9번째 줄입니다. \n",
            "10번째 줄입니다. \n",
            "\n"
          ]
        }
      ]
    },
    {
      "cell_type": "code",
      "source": [
        "# 파일에 새로운 내용 추가해보기\n",
        "\n",
        "# .w의 특징은 파일을 열때 이미 존재하는 파일이면 기존의 내용이 지워진다.\n",
        "# .w 를 작성할때는 많은 주의가 필요하다.\n",
        "\n",
        "f = open(\"새파일.txt\",\"w\")  # open()파일을 연다\n",
        "for i in range(1,11):       # 1~10까지 숫자범위 만들어 i에 넣음\n",
        "    data = \"%d번째 행입니다. \\n\" % i    # File에 저장할 내용\n",
        "    f.write(data)           # .write는 파일에 기록할때 쓰인다( data값을 파일에 기록한다. )\n",
        "f.close()                   # 연 파일을 닫는다.\n"
      ],
      "metadata": {
        "id": "BXxL4k-hbFer"
      },
      "execution_count": 19,
      "outputs": []
    },
    {
      "cell_type": "code",
      "source": [
        "# 기존 파일의 내용이 바뀌었는지 확인\n",
        "\n",
        "f = open(\"새파일.txt\",'r')          # 파일 열기\n",
        "data = f.read()                     # 파일 전체의 내용을 문자열로 반환\n",
        "print(data)                         # 출력\n",
        "f.close()"
      ],
      "metadata": {
        "colab": {
          "base_uri": "https://localhost:8080/"
        },
        "id": "BOAqWpUUbymT",
        "outputId": "97de4140-d708-4de8-a25d-335b7f1b584e"
      },
      "execution_count": 20,
      "outputs": [
        {
          "output_type": "stream",
          "name": "stdout",
          "text": [
            "1번째 행입니다. \n",
            "2번째 행입니다. \n",
            "3번째 행입니다. \n",
            "4번째 행입니다. \n",
            "5번째 행입니다. \n",
            "6번째 행입니다. \n",
            "7번째 행입니다. \n",
            "8번째 행입니다. \n",
            "9번째 행입니다. \n",
            "10번째 행입니다. \n",
            "\n"
          ]
        }
      ]
    },
    {
      "cell_type": "code",
      "source": [
        "# \"w\"를 'a'로 변경하전디 파일명을 다른이름으로 저장해야 한다.\n",
        "\n",
        "f = open(\"새파일.txt\",'a')      # .a 추가용\n",
        "for i in range(11,21):\n",
        "    data = \"%d번째 줄입니다. \\n\" % i\n",
        "    f.write(data)\n",
        "f.close()"
      ],
      "metadata": {
        "id": "fTREC5Wyb5sE"
      },
      "execution_count": 21,
      "outputs": []
    },
    {
      "cell_type": "code",
      "source": [
        "# 추가된 내용 확인\n",
        "\n",
        "f = open(\"새파일.txt\",'r')          # 파일 열기\n",
        "data = f.read()                     # 파일 전체의 내용을 문자열로 반환\n",
        "print(data)                         # 출력\n",
        "f.close()"
      ],
      "metadata": {
        "colab": {
          "base_uri": "https://localhost:8080/"
        },
        "id": "wqrtXCHVctkb",
        "outputId": "f6b772fc-ad18-47fd-8854-aeff36015903"
      },
      "execution_count": 22,
      "outputs": [
        {
          "output_type": "stream",
          "name": "stdout",
          "text": [
            "1번째 행입니다. \n",
            "2번째 행입니다. \n",
            "3번째 행입니다. \n",
            "4번째 행입니다. \n",
            "5번째 행입니다. \n",
            "6번째 행입니다. \n",
            "7번째 행입니다. \n",
            "8번째 행입니다. \n",
            "9번째 행입니다. \n",
            "10번째 행입니다. \n",
            "11번째 줄입니다. \n",
            "12번째 줄입니다. \n",
            "13번째 줄입니다. \n",
            "14번째 줄입니다. \n",
            "15번째 줄입니다. \n",
            "16번째 줄입니다. \n",
            "17번째 줄입니다. \n",
            "18번째 줄입니다. \n",
            "19번째 줄입니다. \n",
            "20번째 줄입니다. \n",
            "\n"
          ]
        }
      ]
    },
    {
      "cell_type": "code",
      "source": [
        "# with() 함수 사용해보기\n",
        "# File를 열면(open) 항상(close)를 해야함\n",
        "\n",
        "f = open(\"foo.txt\",'w')\n",
        "f.write(\"Life is too short, you need python\")\n",
        "f.close()"
      ],
      "metadata": {
        "id": "zQm60pY7dLDq"
      },
      "execution_count": 23,
      "outputs": []
    },
    {
      "cell_type": "code",
      "source": [
        "with open(\"foo.txt\",'w') as f:\n",
        "    f.write(\"Life is too short, you need python\")\n",
        "    # f.close() 생략가능( 자동으로 닫아줌 )"
      ],
      "metadata": {
        "id": "2lILPAigdnzC"
      },
      "execution_count": 24,
      "outputs": []
    },
    {
      "cell_type": "code",
      "source": [],
      "metadata": {
        "id": "prcDxbtMdtEy"
      },
      "execution_count": null,
      "outputs": []
    }
  ]
}